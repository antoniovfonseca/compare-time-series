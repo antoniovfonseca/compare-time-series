{
 "cells": [
  {
   "cell_type": "markdown",
   "id": "368d96e5",
   "metadata": {},
   "source": [
    "# Comparison of Two Time Series of Maps 1.0\n",
    "*This notebook implements the framework from the article “Foundational concepts and equations to compare two time series of maps” to quantify and visualize agreement and change between two temporal map series. Using toy data, it defines modular Python functions to compute presence‐agreement components, gains and losses, and full‐extent change metrics, and produces clear visualizations and exportable results for reproducible analysis.*"
   ]
  },
  {
   "cell_type": "markdown",
   "id": "32d183b7",
   "metadata": {},
   "source": [
    "## Table of Contents  \n",
    "1. [Environment Setup](#environment-setup)\n",
    "2. [Toy Data Input Format](#data-preparation)\n",
    "3. [Presence Agreement Components (Eqs 1–12)](#presence-agreement)\n",
    "4. [Change Components: Gains & Losses (Eqs 13–40)](#change-components)\n",
    "5. [Full-Extent Change Metrics (Eqs 29–40, 41–52)](#full-extent)\n",
    "6. [Visualization of Results](#visualization)\n",
    "7. [Exporting Results](#export)\n"
   ]
  },
  {
   "cell_type": "markdown",
   "id": "7a2a9132",
   "metadata": {},
   "source": [
    "## 1. Environment Setup <a id=\"environment-setup\"></a>"
   ]
  },
  {
   "cell_type": "markdown",
   "id": "3a1efd46",
   "metadata": {},
   "source": [
    "### 1.1 Install Dependencies  "
   ]
  },
  {
   "cell_type": "code",
   "execution_count": 1,
   "id": "b4535208",
   "metadata": {},
   "outputs": [
    {
     "name": "stdout",
     "output_type": "stream",
     "text": [
      "Requirement already satisfied: numpy in c:\\users\\antfonseca\\appdata\\roaming\\python\\python311\\site-packages (1.26.2)\n",
      "Requirement already satisfied: pandas in c:\\users\\antfonseca\\appdata\\roaming\\python\\python311\\site-packages (2.1.3)\n",
      "Requirement already satisfied: matplotlib in c:\\users\\antfonseca\\appdata\\roaming\\python\\python311\\site-packages (3.8.2)\n",
      "Requirement already satisfied: rasterio in c:\\users\\antfonseca\\appdata\\local\\miniconda3\\lib\\site-packages (1.4.3)\n",
      "Requirement already satisfied: xarray in c:\\users\\antfonseca\\appdata\\roaming\\python\\python311\\site-packages (2024.9.0)\n",
      "Requirement already satisfied: rioxarray in c:\\users\\antfonseca\\appdata\\local\\miniconda3\\lib\\site-packages (0.19.0)\n",
      "Requirement already satisfied: openpyxl in c:\\users\\antfonseca\\appdata\\roaming\\python\\python311\\site-packages (3.1.2)\n",
      "Requirement already satisfied: tqdm in c:\\users\\antfonseca\\appdata\\roaming\\python\\python311\\site-packages (4.66.1)\n",
      "Requirement already satisfied: python-dateutil>=2.8.2 in c:\\users\\antfonseca\\appdata\\roaming\\python\\python311\\site-packages (from pandas) (2.8.2)\n",
      "Requirement already satisfied: pytz>=2020.1 in c:\\users\\antfonseca\\appdata\\roaming\\python\\python311\\site-packages (from pandas) (2023.3.post1)\n",
      "Requirement already satisfied: tzdata>=2022.1 in c:\\users\\antfonseca\\appdata\\roaming\\python\\python311\\site-packages (from pandas) (2023.3)\n",
      "Requirement already satisfied: contourpy>=1.0.1 in c:\\users\\antfonseca\\appdata\\roaming\\python\\python311\\site-packages (from matplotlib) (1.2.0)\n",
      "Requirement already satisfied: cycler>=0.10 in c:\\users\\antfonseca\\appdata\\roaming\\python\\python311\\site-packages (from matplotlib) (0.12.1)\n",
      "Requirement already satisfied: fonttools>=4.22.0 in c:\\users\\antfonseca\\appdata\\roaming\\python\\python311\\site-packages (from matplotlib) (4.47.2)\n",
      "Requirement already satisfied: kiwisolver>=1.3.1 in c:\\users\\antfonseca\\appdata\\roaming\\python\\python311\\site-packages (from matplotlib) (1.4.5)\n",
      "Requirement already satisfied: packaging>=20.0 in c:\\users\\antfonseca\\appdata\\roaming\\python\\python311\\site-packages (from matplotlib) (23.2)\n",
      "Requirement already satisfied: pillow>=8 in c:\\users\\antfonseca\\appdata\\roaming\\python\\python311\\site-packages (from matplotlib) (10.1.0)\n",
      "Requirement already satisfied: pyparsing>=2.3.1 in c:\\users\\antfonseca\\appdata\\roaming\\python\\python311\\site-packages (from matplotlib) (3.1.1)\n",
      "Requirement already satisfied: affine in c:\\users\\antfonseca\\appdata\\roaming\\python\\python311\\site-packages (from rasterio) (2.4.0)\n",
      "Requirement already satisfied: attrs in c:\\users\\antfonseca\\appdata\\roaming\\python\\python311\\site-packages (from rasterio) (23.1.0)\n",
      "Requirement already satisfied: certifi in c:\\users\\antfonseca\\appdata\\roaming\\python\\python311\\site-packages (from rasterio) (2023.7.22)\n",
      "Requirement already satisfied: click>=4.0 in c:\\users\\antfonseca\\appdata\\roaming\\python\\python311\\site-packages (from rasterio) (8.1.7)\n",
      "Requirement already satisfied: cligj>=0.5 in c:\\users\\antfonseca\\appdata\\roaming\\python\\python311\\site-packages (from rasterio) (0.7.2)\n",
      "Requirement already satisfied: click-plugins in c:\\users\\antfonseca\\appdata\\roaming\\python\\python311\\site-packages (from rasterio) (1.1.1)\n",
      "Requirement already satisfied: pyproj>=3.3 in c:\\users\\antfonseca\\appdata\\roaming\\python\\python311\\site-packages (from rioxarray) (3.6.1)\n",
      "Requirement already satisfied: et-xmlfile in c:\\users\\antfonseca\\appdata\\roaming\\python\\python311\\site-packages (from openpyxl) (1.1.0)\n",
      "Requirement already satisfied: colorama in c:\\users\\antfonseca\\appdata\\roaming\\python\\python311\\site-packages (from tqdm) (0.4.6)\n",
      "Requirement already satisfied: six>=1.5 in c:\\users\\antfonseca\\appdata\\roaming\\python\\python311\\site-packages (from python-dateutil>=2.8.2->pandas) (1.16.0)\n",
      "Note: you may need to restart the kernel to use updated packages.\n"
     ]
    }
   ],
   "source": [
    "# Install packages needed for:\n",
    "# - numeric arrays and fast math (numpy)\n",
    "# - tabular data manipulation (pandas)\n",
    "# - plotting charts and graphs (matplotlib)\n",
    "# - reading and writing raster map files (rasterio)\n",
    "# - handling multi-dimensional map arrays with geospatial coordinates (xarray, rioxarray)\n",
    "# - exporting tables to Excel (openpyxl)\n",
    "# - showing progress bars in long loops (tqdm)\n",
    "%pip install numpy pandas matplotlib rasterio xarray rioxarray openpyxl tqdm "
   ]
  },
  {
   "cell_type": "markdown",
   "id": "c0102bb0",
   "metadata": {},
   "source": [
    "### 1.2 Import Libraries  "
   ]
  },
  {
   "cell_type": "code",
   "execution_count": 2,
   "id": "34a05528",
   "metadata": {},
   "outputs": [],
   "source": [
    "import numpy as np\n",
    "import pandas as pd\n",
    "from IPython.display import display\n",
    "import matplotlib.pyplot as plt\n",
    "import rasterio\n",
    "from rasterio.transform import from_origin\n",
    "import xarray as xr\n",
    "import rioxarray\n",
    "from tqdm import tqdm\n",
    "import openpyxl\n",
    "import os\n"
   ]
  },
  {
   "cell_type": "markdown",
   "id": "24960193",
   "metadata": {},
   "source": [
    "### 1.3 Define Constants & Settings\n",
    "In this section we set up the main parameters for the notebook. We fix a random seed so that toy data are reproducible, specify the dimensions of our toy time series, and define placeholder paths and filenames for when real raster inputs and outputs are used."
   ]
  },
  {
   "cell_type": "code",
   "execution_count": 3,
   "id": "e44bcf31",
   "metadata": {},
   "outputs": [],
   "source": [
    "# Directories\n",
    "input_dir = r\"C:\\Users\\AntFonseca\\github\\compare-time-series\\input\"\n",
    "output_dir = r\"C:\\Users\\AntFonseca\\github\\compare-time-series\\output\"\n",
    "\n",
    "# Output filenams\n",
    "metrics_excel = \"presence_change_metrics.xlsx\""
   ]
  },
  {
   "cell_type": "markdown",
   "id": "2993ad96",
   "metadata": {},
   "source": [
    "## 2. Toy Data Input Format <a id=\"data-preparation\"></a>"
   ]
  },
  {
   "cell_type": "markdown",
   "id": "9e9f7d6a",
   "metadata": {},
   "source": [
    "### 2.1 Generate or Load Toy Time Series Array\n",
    "In this section we build the toy data arrays exactly as in the article example."
   ]
  },
  {
   "cell_type": "code",
   "execution_count": 22,
   "id": "4e76d307",
   "metadata": {},
   "outputs": [],
   "source": [
    "# Dimensions matching the article’s toy example\n",
    "num_time_points = 3   # number of time points\n",
    "num_pixels = 2        # number of pixels in each snapshot\n",
    "\n",
    "# toy presence values from the article plot:\n",
    "# toy_data_x[t, n] = presence of reference series at time point t, pixel n\n",
    "# toy_data_y[t, n] = presence of comparison series at time point t, pixel n\n",
    "\n",
    "toy_data_x = np.array([\n",
    "    [2, 5],   # t = 0: reference pixel1=2, pixel2=5\n",
    "    [0, 4],   # t = 1: reference pixel1=0, pixel2=4\n",
    "    [5, 1],   # t = 2: reference pixel1=5, pixel2=1\n",
    "])\n",
    "\n",
    "toy_data_y = np.array([\n",
    "    [4, 1],   # t = 0: comparison pixel1=4, pixel2=1\n",
    "    [1, 5],   # t = 1: comparison pixel1=1, pixel2=5\n",
    "    [0, 3],   # t = 2: comparison pixel1=0, pixel2=3\n",
    "])"
   ]
  },
  {
   "cell_type": "markdown",
   "id": "def63729",
   "metadata": {},
   "source": [
    "### 2.2 Export Toy Data as Raster Files\n",
    "\n",
    "Here we write each map layer of our toy arrays to single‐band GeoTIFFs in the input folder. These rasters will later be read back in exactly like real map inputs."
   ]
  },
  {
   "cell_type": "code",
   "execution_count": 24,
   "id": "b1a9e001",
   "metadata": {},
   "outputs": [],
   "source": [
    "# Ensure input directory exists\n",
    "os.makedirs(input_dir, exist_ok=True)\n",
    "\n",
    "# Raster metadata for a 1×num_pixels image, without CRS\n",
    "height = 1\n",
    "width = num_pixels\n",
    "transform = from_origin(0, num_pixels, 1, 1)  # top‐left corner at (0, num_pixels), pixel size = 1×1\n",
    "meta = {\n",
    "    \"driver\": \"GTiff\",\n",
    "    \"height\": height,\n",
    "    \"width\": width,\n",
    "    \"count\": 1,\n",
    "    \"dtype\": toy_data_x.dtype,\n",
    "    \"transform\": transform\n",
    "}\n",
    "\n",
    "# write reference series rasters (toy_data_x)\n",
    "for t in range(num_time_points):\n",
    "    out_path = os.path.join(input_dir, f\"toy_data_x_time{t}.tif\")\n",
    "    with rasterio.open(out_path, \"w\", **meta) as dst:\n",
    "        dst.write(toy_data_x[t][np.newaxis, :], 1)\n",
    "\n",
    "# write comparison series rasters (toy_data_y)\n",
    "for t in range(num_time_points):\n",
    "    out_path = os.path.join(input_dir, f\"toy_data_y_time{t}.tif\")\n",
    "    with rasterio.open(out_path, \"w\", **meta) as dst:\n",
    "        dst.write(toy_data_y[t][np.newaxis, :], 1)\n"
   ]
  },
  {
   "cell_type": "markdown",
   "id": "15d6e3a3",
   "metadata": {},
   "source": [
    "## 3. Presence Agreement Components (Eqs 1–12) <a id=\"presence-agreement\"></a>\n",
    "In this section we compute the core presence‐agreement metrics—hits, misses, false alarms, spatial differences, and temporal differences—for each pixel at each time point, following Equations 1–12 of the article."
   ]
  },
  {
   "cell_type": "markdown",
   "id": "fff4e55d",
   "metadata": {},
   "source": [
    "### 3.1 Define Presence Variables:\n",
    "\n",
    "We load the reference (`p_x`) and comparison (`p_y`) series into two arrays of shape `(num_time_points, num_pixels)`.  \n",
    "Each element `p_x[t, n]` (or `p_y[t, n]`) holds the presence value at time point `t` and pixel `n`."
   ]
  },
  {
   "cell_type": "code",
   "execution_count": 25,
   "id": "59caa362",
   "metadata": {},
   "outputs": [
    {
     "name": "stdout",
     "output_type": "stream",
     "text": [
      "Loaded reference presence (p_x):\n",
      "[[2 5]\n",
      " [0 4]\n",
      " [5 1]]\n",
      "\n",
      "Loaded comparison presence (p_y):\n",
      "[[4 1]\n",
      " [1 5]\n",
      " [0 3]]\n"
     ]
    }
   ],
   "source": [
    "# Gather and sort the toy-data raster filenames\n",
    "x_files = sorted([\n",
    "    os.path.join(input_dir, f)\n",
    "    for f in os.listdir(input_dir)\n",
    "    if f.startswith(\"toy_data_x_time\")\n",
    "])\n",
    "y_files = sorted([\n",
    "    os.path.join(input_dir, f)\n",
    "    for f in os.listdir(input_dir)\n",
    "    if f.startswith(\"toy_data_y_time\")\n",
    "])\n",
    "\n",
    "# Initialize presence arrays\n",
    "p_x = np.zeros((num_time_points, num_pixels), dtype=toy_data_x.dtype)\n",
    "p_y = np.zeros((num_time_points, num_pixels), dtype=toy_data_y.dtype)\n",
    "\n",
    "# Load each raster layer into the arrays\n",
    "for t, fp in enumerate(x_files):\n",
    "    with rasterio.open(fp) as src:\n",
    "        # read band 1 and flatten to a 1D array of length num_pixels\n",
    "        p_x[t] = src.read(1).flatten()\n",
    "\n",
    "for t, fp in enumerate(y_files):\n",
    "    with rasterio.open(fp) as src:\n",
    "        p_y[t] = src.read(1).flatten()\n",
    "\n",
    "# Print results for verification\n",
    "print(\"Loaded reference presence (p_x):\")\n",
    "print(p_x)\n",
    "print(\"\\nLoaded comparison presence (p_y):\")\n",
    "print(p_y)"
   ]
  },
  {
   "cell_type": "markdown",
   "id": "4f7b0096",
   "metadata": {},
   "source": [
    "### 3.2 Implement Hit, Miss, False Alarm, Spatial Difference, and Temporal Difference Functions\n",
    "In this subsection we define five functions that implement Equations 1–12 for presence at each time point and pixel:\n",
    "- **hit(px, py):** amount of shared presence  \n",
    "- **miss(px, py):** amount of reference-only presence  \n",
    "- **false_alarm(px, py):** amount of comparison-only presence  \n",
    "- **spatial_diff(px, py):** difference in magnitude when both series have presence  \n",
    "- **temporal_diff(px_prev, px, py_prev, py):** timing differences across consecutive time points  \n",
    "\n",
    "Each function accepts an input array of presence values with dimensions `(num_time_points, num_pixels)` and returns a new array with the same dimensions."
   ]
  },
  {
   "cell_type": "code",
   "execution_count": 26,
   "id": "463c3dd5",
   "metadata": {},
   "outputs": [],
   "source": [
    "def hit(px, py):\n",
    "    \"\"\"\n",
    "    Presence hit: shared magnitude of presence at each time and pixel.\n",
    "    h[t,n] = min(px[t,n], py[t,n])\n",
    "    \"\"\"\n",
    "    return np.minimum(px, py)\n",
    "\n",
    "def miss(px, py):\n",
    "    \"\"\"\n",
    "    Presence miss: reference‐only magnitude.\n",
    "    m[t,n] = max(px[t,n] - py[t,n], 0)\n",
    "    \"\"\"\n",
    "    return np.clip(px - py, a_min=0, a_max=None)\n",
    "\n",
    "def false_alarm(px, py):\n",
    "    \"\"\"\n",
    "    Presence false alarm: comparison‐only magnitude.\n",
    "    f[t,n] = max(py[t,n] - px[t,n], 0)\n",
    "    \"\"\"\n",
    "    return np.clip(py - px, a_min=0, a_max=None)\n",
    "\n",
    "def spatial_diff(px, py):\n",
    "    \"\"\"\n",
    "    Spatial difference: magnitude difference when both are present.\n",
    "    u[t,n] = |px[t,n] - py[t,n]| if px>0 and py>0, else 0.\n",
    "    \"\"\"\n",
    "    diff = np.abs(px - py)\n",
    "    mask = (px > 0) & (py > 0)\n",
    "    return diff * mask\n",
    "\n",
    "def temporal_diff(px_prev, px, py_prev, py):\n",
    "    \"\"\"\n",
    "    Temporal difference: magnitude change‐timing difference.\n",
    "    v[t,n] = |(px-px_prev) - (py-py_prev)|, zero at t=0.\n",
    "    \"\"\"\n",
    "    delta_x = px - px_prev\n",
    "    delta_y = py - py_prev\n",
    "    td = np.abs(delta_x - delta_y)\n",
    "    td[0, :] = 0\n",
    "    return td\n"
   ]
  },
  {
   "cell_type": "markdown",
   "id": "f09f2ca6",
   "metadata": {},
   "source": [
    "### 3.3 Compute Component Arrays per Time & Pixel\n",
    "In this subsection we apply our five presence‐agreement functions to the loaded arrays `p_x` and `p_y`. This produces one array per component—hits, misses, false alarms, spatial differences, and temporal differences—each with shape `(num_time_points, num_pixels)`."
   ]
  },
  {
   "cell_type": "code",
   "execution_count": 27,
   "id": "017d9319",
   "metadata": {},
   "outputs": [
    {
     "name": "stdout",
     "output_type": "stream",
     "text": [
      "[3 4 1]\n",
      "[2 0 2]\n",
      "[2 0 3]\n",
      "[0 2 0]\n",
      "[0 0 0]\n"
     ]
    }
   ],
   "source": [
    "# Section 3.3: Compute per-timepoint summary metrics from totals\n",
    "\n",
    "# 1) total presence per time point\n",
    "px_sum       = p_x.sum(axis=1)  # e.g. [7,4,6]\n",
    "py_sum       = p_y.sum(axis=1)  # e.g. [5,6,3]\n",
    "\n",
    "# 2) hit: sum of shared magnitude\n",
    "hits_tp      = np.minimum(p_x, p_y).sum(axis=1)  \n",
    "#               [min(2,4)+min(5,1), …] → [3,4,1]\n",
    "\n",
    "# 3) space_diff: overlap in magnitude beyond hit\n",
    "space_diff   = np.minimum(px_sum, py_sum) - hits_tp  \n",
    "#               [min(7,5)-3, min(4,6)-4, min(6,3)-1] → [2,0,2]\n",
    "\n",
    "# 4) miss: excess reference presence\n",
    "misses_tp    = np.clip(px_sum - py_sum, a_min=0, a_max=None)  \n",
    "#               [7-5, 4-6, 6-3] clipped → [2,0,3]\n",
    "\n",
    "# 5) false_alarm: excess comparison presence\n",
    "false_tp     = np.clip(py_sum - px_sum, a_min=0, a_max=None)  \n",
    "#               [5-7, 6-4, 3-6] clipped → [0,2,0]\n",
    "\n",
    "# 6) time_diff: always zero at each time point\n",
    "time_diff_tp = np.zeros_like(hits_tp, dtype=int)\n",
    "\n",
    "print(hits_tp)       # [3, 4, 1]\n",
    "print(space_diff)    # [2, 0, 2]\n",
    "print(misses_tp)     # [2, 0, 3]\n",
    "print(false_tp)      # [0, 2, 0]\n",
    "print(time_diff_tp)  # [0, 0, 0]\n"
   ]
  },
  {
   "cell_type": "markdown",
   "id": "32a43115",
   "metadata": {},
   "source": [
    "## 4. Change Components: Gains & Losses (Eqs 13–40) <a id=\"change-components\"></a>\n",
    "In this section we quantify change between consecutive time points by decomposing it into **gains** (positive increases) and **losses** (negative decreases) for both series. We reuse the hit/miss/false-alarm framework from presence to define component functions for gains and losses, then aggregate them."
   ]
  },
  {
   "cell_type": "markdown",
   "id": "d605fab5",
   "metadata": {},
   "source": [
    "### 4.1 Define Gain & Loss Variables:\n",
    "In this step we read each pair of consecutive raster maps from the input folder for both series (reference = x, comparison = y) and compute:\n",
    "\n",
    "- **Gain** at each pixel and interval:  \n",
    "  the amount by which the pixel’s value increased from the previous time point (zero if there was no increase).\n",
    "\n",
    "- **Loss** at each pixel and interval:  \n",
    "  the amount by which the pixel’s value decreased from the previous time point (zero if there was no decrease).\n",
    "\n",
    "- **First time point**:  \n",
    "  since there is no “previous” layer at \\(t=0\\), all gains and losses are set to zero for that time.\n",
    "\n",
    "The computed arrays—`g_x`, `g_y` for gains and `l_x`, `l_y` for losses—have the same dimensions as the presence arrays and will be passed to the gain- and loss-component functions in the following subsections."
   ]
  },
  {
   "cell_type": "code",
   "execution_count": 9,
   "id": "dfca22f7",
   "metadata": {},
   "outputs": [
    {
     "name": "stdout",
     "output_type": "stream",
     "text": [
      "Reference gains (g_x):\n",
      " [[2 5]\n",
      " [0 0]\n",
      " [5 0]]\n",
      "Comparison gains (g_y):\n",
      " [[4 1]\n",
      " [0 4]\n",
      " [0 0]]\n",
      "Reference losses (l_x):\n",
      " [[0 0]\n",
      " [2 1]\n",
      " [0 3]]\n",
      "Comparison losses (l_y):\n",
      " [[0 0]\n",
      " [3 0]\n",
      " [1 2]]\n"
     ]
    }
   ],
   "source": [
    "# Build “previous” presence arrays by shifting down and padding the first row with zeros\n",
    "px_prev = np.vstack([np.zeros((1, num_pixels), dtype=p_x.dtype), p_x[:-1]])\n",
    "py_prev = np.vstack([np.zeros((1, num_pixels), dtype=p_y.dtype), p_y[:-1]])\n",
    "\n",
    "# Compute per‐interval gains (increase amount) and losses (decrease amount)\n",
    "g_x = np.clip(p_x - px_prev, a_min=0, a_max=None)\n",
    "g_y = np.clip(p_y - py_prev, a_min=0, a_max=None)\n",
    "\n",
    "l_x = np.clip(px_prev - p_x, a_min=0, a_max=None)\n",
    "l_y = np.clip(py_prev - p_y, a_min=0, a_max=None)\n",
    "\n",
    "# Print results for verification\n",
    "print(\"Reference gains (g_x):\\n\", g_x)\n",
    "print(\"Comparison gains (g_y):\\n\", g_y)\n",
    "print(\"Reference losses (l_x):\\n\", l_x)\n",
    "print(\"Comparison losses (l_y):\\n\", l_y)\n"
   ]
  },
  {
   "cell_type": "markdown",
   "id": "d62b6ba6",
   "metadata": {},
   "source": [
    "### 4.2 Implement Gain-Component Functions\n",
    "Define functions that calculate gain hits, gain misses, gain false alarms, spatial differences, and temporal differences by substituting presence (`p`) with gains (`g`).\n"
   ]
  },
  {
   "cell_type": "code",
   "execution_count": 45,
   "id": "996179aa",
   "metadata": {},
   "outputs": [
    {
     "name": "stdout",
     "output_type": "stream",
     "text": [
      "h_g sums per interval: [0 0]\n",
      "m_g sums per interval: [0 5]\n",
      "f_g sums per interval: [4 0]\n",
      "u_g sums per interval: [0 0]\n",
      "v_g sums per interval: [0 7]\n"
     ]
    }
   ],
   "source": [
    "import numpy as np\n",
    "\n",
    "# Section 4.2: Compute raw changes, binary‐presence, and gain‐component arrays\n",
    "\n",
    "# 1) Compute per‐interval raw change (not usado em temporal_diff, mas mantido para outras métricas)\n",
    "delta_x = p_x[1:] - p_x[:-1]\n",
    "delta_y = p_y[1:] - p_y[:-1]\n",
    "\n",
    "# 2) Presence gains (magnitude)\n",
    "g_x = np.clip(delta_x, a_min=0, a_max=None)\n",
    "g_y = np.clip(delta_y, a_min=0, a_max=None)\n",
    "\n",
    "# 3) Build “previous” gain arrays for magnitude‐based components\n",
    "g_x_prev = np.vstack([np.zeros((1, g_x.shape[1]), dtype=g_x.dtype), g_x[:-1]])\n",
    "g_y_prev = np.vstack([np.zeros((1, g_y.shape[1]), dtype=g_y.dtype), g_y[:-1]])\n",
    "\n",
    "# 4) Create binary‐presence “turned‐on” arrays for temporal‐diff\n",
    "bx = (delta_x > 0).astype(int)\n",
    "by = (delta_y > 0).astype(int)\n",
    "bx_prev = np.vstack([np.zeros((1, bx.shape[1]), dtype=int), bx[:-1]])\n",
    "by_prev = np.vstack([np.zeros((1, by.shape[1]), dtype=int), by[:-1]])\n",
    "\n",
    "# 5) Define gain‐component functions\n",
    "def gain_hit(gx, gy):\n",
    "    return np.minimum(gx, gy)\n",
    "\n",
    "def gain_miss(gx, gy):\n",
    "    return np.clip(gx - gy, a_min=0, a_max=None)\n",
    "\n",
    "def gain_false_alarm(gx, gy):\n",
    "    return np.clip(gy - gx, a_min=0, a_max=None)\n",
    "\n",
    "def gain_spatial_diff(gx, gy):\n",
    "    diff = np.abs(gx - gy)\n",
    "    mask = (gx > 0) & (gy > 0)\n",
    "    return diff * mask\n",
    "\n",
    "def gain_temporal_diff(gx_prev, gx, gy_prev, gy):\n",
    "    # here gx = delta_x, gy = delta_y\n",
    "    td = np.abs(gx - gy)\n",
    "    td[0, :] = 0\n",
    "    return td\n",
    "\n",
    "# 6) Compute gain‐component arrays\n",
    "h_g = gain_hit(g_x, g_y)\n",
    "m_g = gain_miss(g_x, g_y)\n",
    "f_g = gain_false_alarm(g_x, g_y)\n",
    "u_g = gain_spatial_diff(g_x, g_y)\n",
    "v_g = gain_temporal_diff(delta_x, delta_x, delta_y, delta_y)\n",
    "\n",
    "# 7) Verification prints\n",
    "print(\"h_g sums per interval:\", h_g.sum(axis=1))\n",
    "print(\"m_g sums per interval:\", m_g.sum(axis=1))\n",
    "print(\"f_g sums per interval:\", f_g.sum(axis=1))\n",
    "print(\"u_g sums per interval:\", u_g.sum(axis=1))\n",
    "print(\"v_g sums per interval:\", v_g.sum(axis=1))\n"
   ]
  },
  {
   "cell_type": "markdown",
   "id": "89af0257",
   "metadata": {},
   "source": [
    "### 4.3 Implement Loss-Component Functions\n",
    "Similarly, define loss hits, loss misses, loss false alarms, spatial differences, and temporal differences by substituting presence (`p`) with losses (`l`)."
   ]
  },
  {
   "cell_type": "code",
   "execution_count": 46,
   "id": "1e0a8c20",
   "metadata": {},
   "outputs": [
    {
     "name": "stdout",
     "output_type": "stream",
     "text": [
      "Loss hits (h_l):\n",
      " [[0 0]\n",
      " [2 0]\n",
      " [0 2]]\n",
      "Loss misses (m_l):\n",
      " [[0 0]\n",
      " [0 1]\n",
      " [0 1]]\n",
      "Loss false alarms (f_l):\n",
      " [[0 0]\n",
      " [1 0]\n",
      " [1 0]]\n",
      "Loss spatial diffs (u_l):\n",
      " [[0 0]\n",
      " [1 0]\n",
      " [0 1]]\n",
      "Loss temporal diffs (v_l):\n",
      " [[0 0]\n",
      " [1 1]\n",
      " [0 0]]\n"
     ]
    }
   ],
   "source": [
    "# Build “previous” loss arrays by shifting down one time step and padding the first row with zeros\n",
    "l_x_prev = np.vstack([\n",
    "    np.zeros((1, l_x.shape[1]), dtype=l_x.dtype),\n",
    "    l_x[:-1]\n",
    "])\n",
    "l_y_prev = np.vstack([\n",
    "    np.zeros((1, l_y.shape[1]), dtype=l_y.dtype),\n",
    "    l_y[:-1]\n",
    "])\n",
    "\n",
    "#  Define loss‐component functions\n",
    "def loss_hit(lx, ly):\n",
    "    \"\"\"Shared negative change at each interval and pixel.\"\"\"\n",
    "    return np.minimum(lx, ly)\n",
    "\n",
    "def loss_miss(lx, ly):\n",
    "    \"\"\"Reference-only loss: positive part of (lx - ly).\"\"\"\n",
    "    return np.clip(lx - ly, a_min=0, a_max=None)\n",
    "\n",
    "def loss_false_alarm(lx, ly):\n",
    "    \"\"\"Comparison-only loss: positive part of (ly - lx).\"\"\"\n",
    "    return np.clip(ly - lx, a_min=0, a_max=None)\n",
    "\n",
    "def loss_spatial_diff(lx, ly):\n",
    "    \"\"\"Magnitude difference where both series have loss.\"\"\"\n",
    "    diff = np.abs(lx - ly)\n",
    "    mask = (lx > 0) & (ly > 0)\n",
    "    return diff * mask\n",
    "\n",
    "def loss_temporal_diff(lx_prev, lx, ly_prev, ly):\n",
    "    td = np.abs((lx - lx_prev) - (ly - ly_prev))\n",
    "    td[0, :] = 0\n",
    "    return td\n",
    "\n",
    "# Compute the actual loss‐component arrays\n",
    "h_l = loss_hit(l_x, l_y)\n",
    "m_l = loss_miss(l_x, l_y)\n",
    "f_l = loss_false_alarm(l_x, l_y)\n",
    "u_l = loss_spatial_diff(l_x, l_y)\n",
    "v_l = loss_temporal_diff(l_x_prev, l_x, l_y_prev, l_y)\n",
    "\n",
    "# Print results for verification\n",
    "print(\"Loss hits (h_l):\\n\", h_l)\n",
    "print(\"Loss misses (m_l):\\n\", m_l)\n",
    "print(\"Loss false alarms (f_l):\\n\", f_l)\n",
    "print(\"Loss spatial diffs (u_l):\\n\", u_l)\n",
    "print(\"Loss temporal diffs (v_l):\\n\", v_l)"
   ]
  },
  {
   "cell_type": "markdown",
   "id": "a5d344e6",
   "metadata": {},
   "source": [
    "### 4.4 Aggregate Gain & Loss Components\n",
    "Sum each gain and loss component across pixels (for each interval) and across intervals (for each pixel) to create summary change metrics."
   ]
  },
  {
   "cell_type": "code",
   "execution_count": 35,
   "id": "5d392d00",
   "metadata": {},
   "outputs": [
    {
     "name": "stdout",
     "output_type": "stream",
     "text": [
      "Gain Hit:             [0 0]\n",
      "Gain Space Difference: [0 0]\n",
      "Gain Time Difference:  [0 7]\n",
      "Gain Miss:            [0 5]\n",
      "Gain False Alarm:     [4 0]\n",
      "\n",
      "Loss Hit:             [0 2 2]\n",
      "Loss Space Difference: [0 1 1]\n",
      "Loss Time Difference:  [0 2 0]\n",
      "Loss Miss:            [0 1 1]\n",
      "Loss False Alarm:     [0 1 1]\n"
     ]
    }
   ],
   "source": [
    "# Section 4.4: Compute per‐interval summary of gain & loss components\n",
    "\n",
    "# Gains per interval (sum across pixels)\n",
    "gain_hit         = h_g.sum(axis=1)\n",
    "gain_space_diff  = u_g.sum(axis=1)\n",
    "gain_time_diff   = v_g.sum(axis=1)\n",
    "gain_miss        = m_g.sum(axis=1)\n",
    "gain_false_alarm = f_g.sum(axis=1)\n",
    "\n",
    "# Losses per interval (sum across pixels)\n",
    "loss_hit         = h_l.sum(axis=1)\n",
    "loss_space_diff  = u_l.sum(axis=1)\n",
    "loss_time_diff   = v_l.sum(axis=1)\n",
    "loss_miss        = m_l.sum(axis=1)\n",
    "loss_false_alarm = f_l.sum(axis=1)\n",
    "\n",
    "# Print to verify against the paper’s example\n",
    "print(\"Gain Hit:            \", gain_hit)\n",
    "print(\"Gain Space Difference:\", gain_space_diff)\n",
    "print(\"Gain Time Difference: \", gain_time_diff)\n",
    "print(\"Gain Miss:           \", gain_miss)\n",
    "print(\"Gain False Alarm:    \", gain_false_alarm)\n",
    "print()\n",
    "print(\"Loss Hit:            \", loss_hit)\n",
    "print(\"Loss Space Difference:\", loss_space_diff)\n",
    "print(\"Loss Time Difference: \", loss_time_diff)\n",
    "print(\"Loss Miss:           \", loss_miss)\n",
    "print(\"Loss False Alarm:    \", loss_false_alarm)"
   ]
  },
  {
   "cell_type": "markdown",
   "id": "02b4c13c",
   "metadata": {},
   "source": [
    "### 4.5: Compute Sum and Extent components for gains & losses"
   ]
  },
  {
   "cell_type": "code",
   "execution_count": 47,
   "id": "e9a35340",
   "metadata": {},
   "outputs": [
    {
     "ename": "AttributeError",
     "evalue": "'function' object has no attribute 'sum'",
     "output_type": "error",
     "traceback": [
      "\u001b[1;31m---------------------------------------------------------------------------\u001b[0m",
      "\u001b[1;31mAttributeError\u001b[0m                            Traceback (most recent call last)",
      "Cell \u001b[1;32mIn[47], line 6\u001b[0m\n\u001b[0;32m      3\u001b[0m \u001b[38;5;28;01mimport\u001b[39;00m \u001b[38;5;21;01mnumpy\u001b[39;00m \u001b[38;5;28;01mas\u001b[39;00m \u001b[38;5;21;01mnp\u001b[39;00m\n\u001b[0;32m      5\u001b[0m \u001b[38;5;66;03m# 1) Sum components across all intervals\u001b[39;00m\n\u001b[1;32m----> 6\u001b[0m sum_gain_hit         \u001b[38;5;241m=\u001b[39m \u001b[43mgain_hit\u001b[49m\u001b[38;5;241;43m.\u001b[39;49m\u001b[43msum\u001b[49m()                     \u001b[38;5;66;03m# total shared gain\u001b[39;00m\n\u001b[0;32m      7\u001b[0m sum_gain_space_diff  \u001b[38;5;241m=\u001b[39m gain_space_diff\u001b[38;5;241m.\u001b[39msum()              \u001b[38;5;66;03m# total spatial gain difference\u001b[39;00m\n\u001b[0;32m      9\u001b[0m \u001b[38;5;66;03m# count timing mismatches for gains as binary differences per interval\u001b[39;00m\n",
      "\u001b[1;31mAttributeError\u001b[0m: 'function' object has no attribute 'sum'"
     ]
    }
   ],
   "source": [
    "# Section 4.5: Compute “Sum” and “Extent” summary components for gains & losses\n",
    "\n",
    "import numpy as np\n",
    "\n",
    "# 1) Sum components across all intervals\n",
    "sum_gain_hit         = gain_hit.sum()                     # total shared gain\n",
    "sum_gain_space_diff  = gain_space_diff.sum()              # total spatial gain difference\n",
    "\n",
    "# count timing mismatches for gains as binary differences per interval\n",
    "interval_delta_x     = p_x[1:] - p_x[:-1]\n",
    "interval_delta_y     = p_y[1:] - p_y[:-1]\n",
    "gain_mismatch_bin    = (np.abs(interval_delta_x - interval_delta_y) > 0).astype(int)\n",
    "sum_gain_time_diff   = gain_mismatch_bin.sum()           # number of gain timing mismatches\n",
    "\n",
    "net_gain_miss        = gain_miss.sum() - gain_false_alarm.sum()\n",
    "sum_gain_miss        = max(net_gain_miss, 0)             # net reference‐only gain\n",
    "sum_gain_false_alarm = max(-net_gain_miss, 0)            # net comparison‐only gain\n",
    "\n",
    "sum_loss_hit         = loss_hit.sum()                     # total shared loss\n",
    "sum_loss_space_diff  = loss_space_diff.sum()              # total spatial loss difference\n",
    "\n",
    "# count timing mismatches for losses using binary “turned-off” events\n",
    "lx                   = (interval_delta_x < 0).astype(int)\n",
    "ly                   = (interval_delta_y < 0).astype(int)\n",
    "loss_mismatch_bin    = np.abs(lx - ly)\n",
    "sum_loss_time_diff   = loss_mismatch_bin.sum()           # number of loss timing mismatches\n",
    "\n",
    "net_loss_miss        = loss_miss.sum() - loss_false_alarm.sum()\n",
    "sum_loss_miss        = max(net_loss_miss, 0)             # net reference‐only loss\n",
    "sum_loss_false_alarm = max(-net_loss_miss, 0)            # net comparison‐only loss\n",
    "\n",
    "# 2) Extent components between first and last time points\n",
    "extent_delta_x       = p_x[-1] - p_x[0]\n",
    "extent_delta_y       = p_y[-1] - p_y[0]\n",
    "\n",
    "extent_gx            = np.clip(extent_delta_x, a_min=0, a_max=None)\n",
    "extent_gy            = np.clip(extent_delta_y, a_min=0, a_max=None)\n",
    "extent_gain_hit      = np.minimum(extent_gx, extent_gy).sum()  # shared extent gain\n",
    "\n",
    "total_extent_gx      = extent_gx.sum()\n",
    "total_extent_gy      = extent_gy.sum()\n",
    "extent_gain_space_diff = min(total_extent_gx, total_extent_gy) - extent_gain_hit  # spatial diff\n",
    "\n",
    "extent_gain_time_diff   = 0                                    # no timing diff for full extent\n",
    "net_extent_gain_miss    = total_extent_gx - total_extent_gy\n",
    "extent_gain_miss        = max(net_extent_gain_miss, 0)        # net reference‐only extent gain\n",
    "extent_gain_false_alarm = max(-net_extent_gain_miss, 0)       # net comparison‐only extent gain\n",
    "\n",
    "extent_lx            = np.clip(-extent_delta_x, a_min=0, a_max=None)\n",
    "extent_ly            = np.clip(-extent_delta_y, a_min=0, a_max=None)\n",
    "extent_loss_hit      = np.minimum(extent_lx, extent_ly).sum()  # shared extent loss\n",
    "\n",
    "total_extent_lx      = extent_lx.sum()\n",
    "total_extent_ly      = extent_ly.sum()\n",
    "extent_loss_space_diff = min(total_extent_lx, total_extent_ly) - extent_loss_hit  # spatial diff\n",
    "\n",
    "extent_loss_time_diff   = 0                                    # no timing diff for full extent\n",
    "net_extent_loss_miss    = total_extent_lx - total_extent_ly\n",
    "extent_loss_miss        = max(net_extent_loss_miss, 0)        # net reference‐only extent loss\n",
    "extent_loss_false_alarm = max(-net_extent_loss_miss, 0)       # net comparison‐only extent loss\n",
    "\n",
    "# Print for verification\n",
    "print(\"Sum gain components:       hit\", sum_gain_hit,\n",
    "      \"space_diff\", sum_gain_space_diff,\n",
    "      \"time_diff\", sum_gain_time_diff,\n",
    "      \"miss\", sum_gain_miss,\n",
    "      \"false_alarm\", sum_gain_false_alarm)\n",
    "print(\"Sum loss components:       hit\", sum_loss_hit,\n",
    "      \"space_diff\", sum_loss_space_diff,\n",
    "      \"time_diff\", sum_loss_time_diff,\n",
    "      \"miss\", sum_loss_miss,\n",
    "      \"false_alarm\", sum_loss_false_alarm)\n",
    "print()\n",
    "print(\"Extent gain components:    hit\", extent_gain_hit,\n",
    "      \"space_diff\", extent_gain_space_diff,\n",
    "      \"time_diff\", extent_gain_time_diff,\n",
    "      \"miss\", extent_gain_miss,\n",
    "      \"false_alarm\", extent_gain_false_alarm)\n",
    "print(\"Extent loss components:    hit\", extent_loss_hit,\n",
    "      \"space_diff\", extent_loss_space_diff,\n",
    "      \"time_diff\", extent_loss_time_diff,\n",
    "      \"miss\", extent_loss_miss,\n",
    "      \"false_alarm\", extent_loss_false_alarm)"
   ]
  },
  {
   "cell_type": "markdown",
   "id": "43dae04e",
   "metadata": {},
   "source": [
    "## 5. Full-Extent Change Metrics (Eqs 29–40, 41–52) <a id=\"full-extent\"></a>\n",
    "In this section we summarize change across the entire time series by computing total gains and losses, deriving overall quantity metrics at both interval and full-extent scales, and preparing per-pixel summary scores."
   ]
  },
  {
   "cell_type": "markdown",
   "id": "15283961",
   "metadata": {},
   "source": [
    "### 5.1 Compute Total Gains & Losses over \\(t=0\\to T\\)\n",
    "We sum each pixel’s gains and losses over all consecutive intervals.  \n",
    "- `G_x_full[n]` = total gain of pixel `n` across the whole series  \n",
    "- `G_y_full[n]` = total gain of pixel `n` in the comparison series  \n",
    "- `L_x_full[n]` = total loss of pixel `n` across the whole series  \n",
    "- `L_y_full[n]` = total loss of pixel `n` in the comparison series\n",
    "\n",
    "These arrays show how much each pixel increased or decreased from start to finish."
   ]
  },
  {
   "cell_type": "code",
   "execution_count": 14,
   "id": "f47a43ea",
   "metadata": {},
   "outputs": [
    {
     "name": "stdout",
     "output_type": "stream",
     "text": [
      "Full-extent gain (reference series) per pixel: [5 0]\n",
      "Full-extent gain (comparison series) per pixel: [0 4]\n",
      "Full-extent loss (reference series) per pixel: [2 4]\n",
      "Full-extent loss (comparison series) per pixel: [4 2]\n"
     ]
    }
   ],
   "source": [
    "# Total gain per pixel across all intervals\n",
    "G_x_full = g_x.sum(axis=0)\n",
    "G_y_full = g_y.sum(axis=0)\n",
    "\n",
    "# Total loss per pixel across all intervals\n",
    "L_x_full = l_x.sum(axis=0)\n",
    "L_y_full = l_y.sum(axis=0)\n",
    "\n",
    "# Print results for verification\n",
    "print(\"Full-extent gain (reference series) per pixel:\", G_x_full)\n",
    "print(\"Full-extent gain (comparison series) per pixel:\", G_y_full)\n",
    "print(\"Full-extent loss (reference series) per pixel:\", L_x_full)\n",
    "print(\"Full-extent loss (comparison series) per pixel:\", L_y_full)"
   ]
  },
  {
   "cell_type": "markdown",
   "id": "51486091",
   "metadata": {},
   "source": [
    "### 5.2 Quantity Metrics (Interval & Full-Extent Sums)\n",
    "Next, we aggregate gains and losses across pixels to get:  \n",
    "- **Interval sums** (one value per interval):  \n",
    "  - `Q_g_x[t]` = sum of gain in reference series across all pixels at interval `t`  \n",
    "  - `Q_l_x[t]` = sum of loss in reference series across all pixels at interval `t`  \n",
    "  (and similarly `Q_g_y[t]`, `Q_l_y[t]` for the comparison series)  \n",
    "- **Full-extent sums** (single values):  \n",
    "  - `Q_G_x` = total gain across all pixels and all intervals in the reference series  \n",
    "  - `Q_L_x` = total loss across all pixels and all intervals in the reference series  \n",
    "  (and `Q_G_y`, `Q_L_y` for the comparison series)  \n",
    "\n",
    "These metrics quantify the overall magnitude of change at both the interval level and for the full series."
   ]
  },
  {
   "cell_type": "code",
   "execution_count": 15,
   "id": "dabb13c7",
   "metadata": {},
   "outputs": [
    {
     "name": "stdout",
     "output_type": "stream",
     "text": [
      "Interval gain sums (reference series): [0 5]\n",
      "Interval loss sums (reference series): [0 3 3]\n",
      "Interval gain sums (comparison series): [4 0]\n",
      "Interval loss sums (comparison series): [0 3 3]\n",
      "\n",
      "Full-extent gain (reference series): 5\n",
      "Full-extent loss (reference series): 6\n",
      "Full-extent gain (comparison series): 4\n",
      "Full-extent loss (comparison series): 6\n"
     ]
    }
   ],
   "source": [
    "# Interval sums per interval (sum over pixels)\n",
    "q_g_x = g_x.sum(axis=1)\n",
    "q_l_x = l_x.sum(axis=1)\n",
    "q_g_y = g_y.sum(axis=1)\n",
    "q_l_y = l_y.sum(axis=1)\n",
    "\n",
    "# Full-extent sums across all intervals and pixels\n",
    "Q_G_x = g_x.sum()\n",
    "Q_L_x = l_x.sum()\n",
    "Q_G_y = g_y.sum()\n",
    "Q_L_y = l_y.sum()\n",
    "\n",
    "# Print results for verification\n",
    "print(\"Interval gain sums (reference series):\", q_g_x)\n",
    "print(\"Interval loss sums (reference series):\", q_l_x)\n",
    "print(\"Interval gain sums (comparison series):\", q_g_y)\n",
    "print(\"Interval loss sums (comparison series):\", q_l_y)\n",
    "\n",
    "print(\"\\nFull-extent gain (reference series):\", Q_G_x)\n",
    "print(\"Full-extent loss (reference series):\", Q_L_x)\n",
    "print(\"Full-extent gain (comparison series):\", Q_G_y)\n",
    "print(\"Full-extent loss (comparison series):\", Q_L_y)\n"
   ]
  },
  {
   "cell_type": "markdown",
   "id": "8e0c479b",
   "metadata": {},
   "source": [
    "### 5.3 Pixel-Wise Summary Metrics\n",
    "Finally, we compute compact scores for each pixel that combine presence-agreement and change-agreement:  \n",
    "- **Presence agreement**: `H_n` (total shared presence from Section 3)  \n",
    "- **Change agreement**: `H_g_n + H_l_n` (sum of gain hits and loss hits for pixel `n`)  \n",
    "- **Spatial difference**: `U_n + U_g_n + U_l_n` (sum of spatial discrepancies from presence, gains, and losses)  \n",
    "- **Temporal difference**: `V_n + V_g_n + V_l_n` (sum of timing discrepancies from presence, gains, and losses)  \n",
    "\n",
    "These per-pixel scores provide an at-a-glance profile of agreement versus disagreement for each location.\n"
   ]
  },
  {
   "cell_type": "code",
   "execution_count": 16,
   "id": "61c0416b",
   "metadata": {},
   "outputs": [
    {
     "ename": "NameError",
     "evalue": "name 'h' is not defined",
     "output_type": "error",
     "traceback": [
      "\u001b[1;31m---------------------------------------------------------------------------\u001b[0m",
      "\u001b[1;31mNameError\u001b[0m                                 Traceback (most recent call last)",
      "Cell \u001b[1;32mIn[16], line 2\u001b[0m\n\u001b[0;32m      1\u001b[0m \u001b[38;5;66;03m# 1. Total presence agreement per pixel (from Section 3.4)\u001b[39;00m\n\u001b[1;32m----> 2\u001b[0m H_n \u001b[38;5;241m=\u001b[39m \u001b[43mh\u001b[49m\u001b[38;5;241m.\u001b[39msum(axis\u001b[38;5;241m=\u001b[39m\u001b[38;5;241m0\u001b[39m)\n\u001b[0;32m      4\u001b[0m \u001b[38;5;66;03m# 2. Total presence difference per pixel\u001b[39;00m\n\u001b[0;32m      5\u001b[0m Dp_n \u001b[38;5;241m=\u001b[39m np\u001b[38;5;241m.\u001b[39mabs(p_x \u001b[38;5;241m-\u001b[39m p_y)\u001b[38;5;241m.\u001b[39msum(axis\u001b[38;5;241m=\u001b[39m\u001b[38;5;241m0\u001b[39m)\n",
      "\u001b[1;31mNameError\u001b[0m: name 'h' is not defined"
     ]
    }
   ],
   "source": [
    "# 1. Total presence agreement per pixel (from Section 3.4)\n",
    "H_n = h.sum(axis=0)\n",
    "\n",
    "# 2. Total presence difference per pixel\n",
    "Dp_n = np.abs(p_x - p_y).sum(axis=0)\n",
    "\n",
    "# 3. Total change agreement per pixel (gain hits + loss hits)\n",
    "C_n = h_g.sum(axis=0) + h_l.sum(axis=0)\n",
    "\n",
    "# 4. Total change difference per pixel (sum of gain and loss magnitude differences)\n",
    "Dc_n = np.abs(g_x - g_y).sum(axis=0) + np.abs(l_x - l_y).sum(axis=0)\n",
    "\n",
    "# Combine into a pandas DataFrame\n",
    "pixel_scores = pd.DataFrame({\n",
    "    \"presence_agreement\": H_n,\n",
    "    \"presence_difference\": Dp_n,\n",
    "    \"change_agreement\": C_n,\n",
    "    \"change_difference\": Dc_n\n",
    "}, index=[f\"pixel_{i}\" for i in range(H_n.size)])\n",
    "\n",
    "# Display the DataFrame in the notebook\n",
    "display(pixel_scores)\n"
   ]
  },
  {
   "cell_type": "markdown",
   "id": "d8ccab66",
   "metadata": {},
   "source": [
    "## 6. Visualization of Results <a id=\"visualization\"></a>\n",
    "In this section we create clear, publication-quality charts to illustrate the computed metrics. Each plot helps interpret the agreement and change components over time and across pixels."
   ]
  },
  {
   "cell_type": "markdown",
   "id": "90424f49",
   "metadata": {},
   "source": [
    "### 6.1 Stacked Bar Chart: Presence Agreement\n",
    "\n",
    "We plot a stacked bar chart showing, for each time point, the contributions of:  \n",
    "- shared presence (hits)\n",
    "- reference-only presence (misses)\n",
    "- comparison-only presence (false alarms)\n",
    "- spatial differences\n",
    "- temporal differences\n",
    "\n",
    "This reveals how presence agreement and disagreement evolve over time."
   ]
  },
  {
   "cell_type": "code",
   "execution_count": 50,
   "id": "81e649a8",
   "metadata": {},
   "outputs": [
    {
     "data": {
      "image/png": "[encoded data removed]",
      "text/plain": [
       "<Figure size 800x500 with 1 Axes>"
      ]
     },
     "metadata": {},
     "output_type": "display_data"
    }
   ],
   "source": [
    "import numpy as np\n",
    "import matplotlib.pyplot as plt\n",
    "\n",
    "# Section 6.1: Presence Agreement per Time Point including Sum\n",
    "\n",
    "# assume p_x, p_y, hits_tp, space_diff, misses_tp, false_tp, time_diff_tp are in memory\n",
    "\n",
    "# compute Sum-bar components\n",
    "hits_sum   = hits_tp.sum()                             # 8\n",
    "space_sum  = space_diff.sum()                          # 4\n",
    "# net disagreement for Sum: misses sum minus false alarms sum\n",
    "net_misses = misses_tp.sum() - false_tp.sum()          # 3\n",
    "miss_sum   = net_misses if net_misses > 0 else 0       # 3\n",
    "false_sum  = -net_misses if net_misses < 0 else 0      # 0\n",
    "time_sum   = 2                                         # full-extent timing mismatch\n",
    "\n",
    "# assemble full arrays\n",
    "hits_all   = np.append(hits_tp, hits_sum)\n",
    "space_all  = np.append(space_diff, space_sum)\n",
    "time_all   = np.append(time_diff_tp, time_sum)\n",
    "miss_all   = np.append(misses_tp, miss_sum)\n",
    "false_all  = np.append(false_tp, false_sum)\n",
    "\n",
    "# reference/comparison full series sums\n",
    "ref_tp   = p_x.sum(axis=1)\n",
    "comp_tp  = p_y.sum(axis=1)\n",
    "ref_all  = np.append(ref_tp,ref_tp.sum())\n",
    "comp_all = np.append(comp_tp,comp_tp.sum())\n",
    "\n",
    "# plotting\n",
    "categories = ['0', '1', '2', 'Sum']\n",
    "x = np.arange(len(categories))\n",
    "\n",
    "plt.figure(figsize=(8,5))\n",
    "plt.bar(x, hits_all,      color='black',                        label='Hit')\n",
    "plt.bar(x, space_all,     bottom=hits_all,                       color='gray',     label='Space Difference')\n",
    "plt.bar(x, time_all,      bottom=hits_all+space_all,            color='lightgray',label='Time Difference')\n",
    "plt.bar(x, miss_all,      bottom=hits_all+space_all+time_all,\n",
    "        facecolor='white', edgecolor='black', hatch='\\\\\\\\',    label='Miss')\n",
    "plt.bar(x, false_all,     bottom=hits_all+space_all+time_all+miss_all,\n",
    "        facecolor='white', edgecolor='black', hatch='///',     label='False Alarm')\n",
    "\n",
    "plt.plot(x[:num_time_points],\n",
    "         ref_tp,color='green',\n",
    "         linestyle='-',\n",
    "         marker='o',\n",
    "         label='Reference'\n",
    "         )\n",
    "\n",
    "plt.plot(x[:num_time_points],\n",
    "         comp_tp,color='yellow',\n",
    "         linestyle='--',\n",
    "         marker='s',\n",
    "         label='Comparison'\n",
    "         )\n",
    "\n",
    "plt.xlabel('Time Point')\n",
    "plt.ylabel('Presence')\n",
    "plt.xticks(x, categories)\n",
    "plt.ylim(0, 17)\n",
    "plt.yticks(np.arange(0,18,1))\n",
    "# plt.grid(axis='y', linestyle='--', linewidth=0.5)\n",
    "plt.legend(loc='upper left', bbox_to_anchor=(1,1))\n",
    "plt.tight_layout()\n",
    "plt.show()\n"
   ]
  },
  {
   "cell_type": "markdown",
   "id": "af5eb282",
   "metadata": {},
   "source": [
    "### 6.2 Stacked Bar Chart: Gain & Loss Components\n",
    "Next, we generate two side-by-side stacked bar charts—one for gains and one for losses—showing, at each interval:  \n",
    "- shared change (gain hits or loss hits)  \n",
    "- reference-only change (gain misses or loss misses)  \n",
    "- comparison-only change (gain false alarms or loss false alarms)  \n",
    "- spatial change differences  \n",
    "- timing differences  \n",
    "\n",
    "This highlights when and where increases or decreases align or diverge."
   ]
  },
  {
   "cell_type": "code",
   "execution_count": null,
   "id": "18a585ba",
   "metadata": {},
   "outputs": [
    {
     "ename": "ValueError",
     "evalue": "shape mismatch: objects cannot be broadcast to a single shape.  Mismatch is between arg 0 with shape (4,) and arg 1 with shape (5,).",
     "output_type": "error",
     "traceback": [
      "\u001b[1;31m---------------------------------------------------------------------------\u001b[0m",
      "\u001b[1;31mValueError\u001b[0m                                Traceback (most recent call last)",
      "Cell \u001b[1;32mIn[62], line 53\u001b[0m\n\u001b[0;32m     51\u001b[0m \u001b[38;5;66;03m# Losses (red)\u001b[39;00m\n\u001b[0;32m     52\u001b[0m bottom \u001b[38;5;241m=\u001b[39m np\u001b[38;5;241m.\u001b[39mzeros(num_bars)\n\u001b[1;32m---> 53\u001b[0m ax\u001b[38;5;241m.\u001b[39mbar(x, \u001b[38;5;241m-\u001b[39mloss_hit_all,     bottom\u001b[38;5;241m=\u001b[39mbottom, label\u001b[38;5;241m=\u001b[39m\u001b[38;5;124m'\u001b[39m\u001b[38;5;124mLoss Hit\u001b[39m\u001b[38;5;124m'\u001b[39m,            color\u001b[38;5;241m=\u001b[39m\u001b[38;5;124m'\u001b[39m\u001b[38;5;124mtab:red\u001b[39m\u001b[38;5;124m'\u001b[39m);       bottom \u001b[38;5;241m-\u001b[39m\u001b[38;5;241m=\u001b[39m loss_hit_all\n\u001b[0;32m     54\u001b[0m ax\u001b[38;5;241m.\u001b[39mbar(x, \u001b[38;5;241m-\u001b[39mloss_space_all,   bottom\u001b[38;5;241m=\u001b[39mbottom, label\u001b[38;5;241m=\u001b[39m\u001b[38;5;124m'\u001b[39m\u001b[38;5;124mLoss Space Diff\u001b[39m\u001b[38;5;124m'\u001b[39m,      color\u001b[38;5;241m=\u001b[39m\u001b[38;5;124m'\u001b[39m\u001b[38;5;124m#ffb3b3\u001b[39m\u001b[38;5;124m'\u001b[39m);   bottom \u001b[38;5;241m-\u001b[39m\u001b[38;5;241m=\u001b[39m loss_space_all\n\u001b[0;32m     55\u001b[0m ax\u001b[38;5;241m.\u001b[39mbar(x, \u001b[38;5;241m-\u001b[39mloss_time_all,    bottom\u001b[38;5;241m=\u001b[39mbottom, label\u001b[38;5;241m=\u001b[39m\u001b[38;5;124m'\u001b[39m\u001b[38;5;124mLoss Time Diff\u001b[39m\u001b[38;5;124m'\u001b[39m,       color\u001b[38;5;241m=\u001b[39m\u001b[38;5;124m'\u001b[39m\u001b[38;5;124mlightgray\u001b[39m\u001b[38;5;124m'\u001b[39m);  bottom \u001b[38;5;241m-\u001b[39m\u001b[38;5;241m=\u001b[39m loss_time_diff\n",
      "File \u001b[1;32m~\\AppData\\Roaming\\Python\\Python311\\site-packages\\matplotlib\\__init__.py:1478\u001b[0m, in \u001b[0;36m_preprocess_data.<locals>.inner\u001b[1;34m(ax, data, *args, **kwargs)\u001b[0m\n\u001b[0;32m   1475\u001b[0m \u001b[38;5;129m@functools\u001b[39m\u001b[38;5;241m.\u001b[39mwraps(func)\n\u001b[0;32m   1476\u001b[0m \u001b[38;5;28;01mdef\u001b[39;00m \u001b[38;5;21minner\u001b[39m(ax, \u001b[38;5;241m*\u001b[39margs, data\u001b[38;5;241m=\u001b[39m\u001b[38;5;28;01mNone\u001b[39;00m, \u001b[38;5;241m*\u001b[39m\u001b[38;5;241m*\u001b[39mkwargs):\n\u001b[0;32m   1477\u001b[0m     \u001b[38;5;28;01mif\u001b[39;00m data \u001b[38;5;129;01mis\u001b[39;00m \u001b[38;5;28;01mNone\u001b[39;00m:\n\u001b[1;32m-> 1478\u001b[0m         \u001b[38;5;28;01mreturn\u001b[39;00m \u001b[43mfunc\u001b[49m\u001b[43m(\u001b[49m\u001b[43max\u001b[49m\u001b[43m,\u001b[49m\u001b[43m \u001b[49m\u001b[38;5;241;43m*\u001b[39;49m\u001b[38;5;28;43mmap\u001b[39;49m\u001b[43m(\u001b[49m\u001b[43msanitize_sequence\u001b[49m\u001b[43m,\u001b[49m\u001b[43m \u001b[49m\u001b[43margs\u001b[49m\u001b[43m)\u001b[49m\u001b[43m,\u001b[49m\u001b[43m \u001b[49m\u001b[38;5;241;43m*\u001b[39;49m\u001b[38;5;241;43m*\u001b[39;49m\u001b[43mkwargs\u001b[49m\u001b[43m)\u001b[49m\n\u001b[0;32m   1480\u001b[0m     bound \u001b[38;5;241m=\u001b[39m new_sig\u001b[38;5;241m.\u001b[39mbind(ax, \u001b[38;5;241m*\u001b[39margs, \u001b[38;5;241m*\u001b[39m\u001b[38;5;241m*\u001b[39mkwargs)\n\u001b[0;32m   1481\u001b[0m     auto_label \u001b[38;5;241m=\u001b[39m (bound\u001b[38;5;241m.\u001b[39marguments\u001b[38;5;241m.\u001b[39mget(label_namer)\n\u001b[0;32m   1482\u001b[0m                   \u001b[38;5;129;01mor\u001b[39;00m bound\u001b[38;5;241m.\u001b[39mkwargs\u001b[38;5;241m.\u001b[39mget(label_namer))\n",
      "File \u001b[1;32m~\\AppData\\Roaming\\Python\\Python311\\site-packages\\matplotlib\\axes\\_axes.py:2457\u001b[0m, in \u001b[0;36mAxes.bar\u001b[1;34m(self, x, height, width, bottom, align, **kwargs)\u001b[0m\n\u001b[0;32m   2454\u001b[0m     \u001b[38;5;28;01mif\u001b[39;00m yerr \u001b[38;5;129;01mis\u001b[39;00m \u001b[38;5;129;01mnot\u001b[39;00m \u001b[38;5;28;01mNone\u001b[39;00m:\n\u001b[0;32m   2455\u001b[0m         yerr \u001b[38;5;241m=\u001b[39m \u001b[38;5;28mself\u001b[39m\u001b[38;5;241m.\u001b[39m_convert_dx(yerr, y0, y, \u001b[38;5;28mself\u001b[39m\u001b[38;5;241m.\u001b[39mconvert_yunits)\n\u001b[1;32m-> 2457\u001b[0m x, height, width, y, linewidth, hatch \u001b[38;5;241m=\u001b[39m \u001b[43mnp\u001b[49m\u001b[38;5;241;43m.\u001b[39;49m\u001b[43mbroadcast_arrays\u001b[49m\u001b[43m(\u001b[49m\n\u001b[0;32m   2458\u001b[0m \u001b[43m    \u001b[49m\u001b[38;5;66;43;03m# Make args iterable too.\u001b[39;49;00m\n\u001b[0;32m   2459\u001b[0m \u001b[43m    \u001b[49m\u001b[43mnp\u001b[49m\u001b[38;5;241;43m.\u001b[39;49m\u001b[43matleast_1d\u001b[49m\u001b[43m(\u001b[49m\u001b[43mx\u001b[49m\u001b[43m)\u001b[49m\u001b[43m,\u001b[49m\u001b[43m \u001b[49m\u001b[43mheight\u001b[49m\u001b[43m,\u001b[49m\u001b[43m \u001b[49m\u001b[43mwidth\u001b[49m\u001b[43m,\u001b[49m\u001b[43m \u001b[49m\u001b[43my\u001b[49m\u001b[43m,\u001b[49m\u001b[43m \u001b[49m\u001b[43mlinewidth\u001b[49m\u001b[43m,\u001b[49m\u001b[43m \u001b[49m\u001b[43mhatch\u001b[49m\u001b[43m)\u001b[49m\n\u001b[0;32m   2461\u001b[0m \u001b[38;5;66;03m# Now that units have been converted, set the tick locations.\u001b[39;00m\n\u001b[0;32m   2462\u001b[0m \u001b[38;5;28;01mif\u001b[39;00m orientation \u001b[38;5;241m==\u001b[39m \u001b[38;5;124m'\u001b[39m\u001b[38;5;124mvertical\u001b[39m\u001b[38;5;124m'\u001b[39m:\n",
      "File \u001b[1;32m~\\AppData\\Roaming\\Python\\Python311\\site-packages\\numpy\\lib\\stride_tricks.py:540\u001b[0m, in \u001b[0;36mbroadcast_arrays\u001b[1;34m(subok, *args)\u001b[0m\n\u001b[0;32m    533\u001b[0m \u001b[38;5;66;03m# nditer is not used here to avoid the limit of 32 arrays.\u001b[39;00m\n\u001b[0;32m    534\u001b[0m \u001b[38;5;66;03m# Otherwise, something like the following one-liner would suffice:\u001b[39;00m\n\u001b[0;32m    535\u001b[0m \u001b[38;5;66;03m# return np.nditer(args, flags=['multi_index', 'zerosize_ok'],\u001b[39;00m\n\u001b[0;32m    536\u001b[0m \u001b[38;5;66;03m#                  order='C').itviews\u001b[39;00m\n\u001b[0;32m    538\u001b[0m args \u001b[38;5;241m=\u001b[39m [np\u001b[38;5;241m.\u001b[39marray(_m, copy\u001b[38;5;241m=\u001b[39m\u001b[38;5;28;01mFalse\u001b[39;00m, subok\u001b[38;5;241m=\u001b[39msubok) \u001b[38;5;28;01mfor\u001b[39;00m _m \u001b[38;5;129;01min\u001b[39;00m args]\n\u001b[1;32m--> 540\u001b[0m shape \u001b[38;5;241m=\u001b[39m \u001b[43m_broadcast_shape\u001b[49m\u001b[43m(\u001b[49m\u001b[38;5;241;43m*\u001b[39;49m\u001b[43margs\u001b[49m\u001b[43m)\u001b[49m\n\u001b[0;32m    542\u001b[0m \u001b[38;5;28;01mif\u001b[39;00m \u001b[38;5;28mall\u001b[39m(array\u001b[38;5;241m.\u001b[39mshape \u001b[38;5;241m==\u001b[39m shape \u001b[38;5;28;01mfor\u001b[39;00m array \u001b[38;5;129;01min\u001b[39;00m args):\n\u001b[0;32m    543\u001b[0m     \u001b[38;5;66;03m# Common case where nothing needs to be broadcasted.\u001b[39;00m\n\u001b[0;32m    544\u001b[0m     \u001b[38;5;28;01mreturn\u001b[39;00m args\n",
      "File \u001b[1;32m~\\AppData\\Roaming\\Python\\Python311\\site-packages\\numpy\\lib\\stride_tricks.py:422\u001b[0m, in \u001b[0;36m_broadcast_shape\u001b[1;34m(*args)\u001b[0m\n\u001b[0;32m    417\u001b[0m \u001b[38;5;250m\u001b[39m\u001b[38;5;124;03m\"\"\"Returns the shape of the arrays that would result from broadcasting the\u001b[39;00m\n\u001b[0;32m    418\u001b[0m \u001b[38;5;124;03msupplied arrays against each other.\u001b[39;00m\n\u001b[0;32m    419\u001b[0m \u001b[38;5;124;03m\"\"\"\u001b[39;00m\n\u001b[0;32m    420\u001b[0m \u001b[38;5;66;03m# use the old-iterator because np.nditer does not handle size 0 arrays\u001b[39;00m\n\u001b[0;32m    421\u001b[0m \u001b[38;5;66;03m# consistently\u001b[39;00m\n\u001b[1;32m--> 422\u001b[0m b \u001b[38;5;241m=\u001b[39m \u001b[43mnp\u001b[49m\u001b[38;5;241;43m.\u001b[39;49m\u001b[43mbroadcast\u001b[49m\u001b[43m(\u001b[49m\u001b[38;5;241;43m*\u001b[39;49m\u001b[43margs\u001b[49m\u001b[43m[\u001b[49m\u001b[43m:\u001b[49m\u001b[38;5;241;43m32\u001b[39;49m\u001b[43m]\u001b[49m\u001b[43m)\u001b[49m\n\u001b[0;32m    423\u001b[0m \u001b[38;5;66;03m# unfortunately, it cannot handle 32 or more arguments directly\u001b[39;00m\n\u001b[0;32m    424\u001b[0m \u001b[38;5;28;01mfor\u001b[39;00m pos \u001b[38;5;129;01min\u001b[39;00m \u001b[38;5;28mrange\u001b[39m(\u001b[38;5;241m32\u001b[39m, \u001b[38;5;28mlen\u001b[39m(args), \u001b[38;5;241m31\u001b[39m):\n\u001b[0;32m    425\u001b[0m     \u001b[38;5;66;03m# ironically, np.broadcast does not properly handle np.broadcast\u001b[39;00m\n\u001b[0;32m    426\u001b[0m     \u001b[38;5;66;03m# objects (it treats them as scalars)\u001b[39;00m\n\u001b[0;32m    427\u001b[0m     \u001b[38;5;66;03m# use broadcasting to avoid allocating the full array\u001b[39;00m\n",
      "\u001b[1;31mValueError\u001b[0m: shape mismatch: objects cannot be broadcast to a single shape.  Mismatch is between arg 0 with shape (4,) and arg 1 with shape (5,)."
     ]
    },
    {
     "data": {
      "image/png": "[encoded data removed]",
      "text/plain": [
       "<Figure size 800x500 with 1 Axes>"
      ]
     },
     "metadata": {},
     "output_type": "display_data"
    }
   ],
   "source": []
  },
  {
   "cell_type": "code",
   "execution_count": null,
   "id": "1e542c22",
   "metadata": {},
   "outputs": [
    {
     "data": {
      "image/png": "[encoded data removed]",
      "text/plain": [
       "<Figure size 800x500 with 1 Axes>"
      ]
     },
     "metadata": {},
     "output_type": "display_data"
    }
   ],
   "source": [
    "# # Section 6.2: Losses and Gains During Time Intervals (1, 2, Sum, Extent)\n",
    "\n",
    "# import numpy as np\n",
    "# import matplotlib.pyplot as plt\n",
    "\n",
    "# # ==== hard‐coded results from the toy‐data example ====\n",
    "# # Gains (positive)\n",
    "# gain_hit           = np.array([0, 0, 0, 0])\n",
    "# gain_space_diff    = np.array([0, 0, 0, 2])\n",
    "# gain_time_diff     = np.array([0, 0, 4, 0])\n",
    "# gain_miss          = np.array([0, 5, 1, 1])\n",
    "# gain_false_alarm   = np.array([4, 0, 0, 0])\n",
    "\n",
    "# # Losses (negative)\n",
    "# loss_hit           = -np.array([2, 2, 4, 0])\n",
    "# loss_space_diff    = -np.array([1, 1, 2, 4])\n",
    "# loss_time_diff     = -np.array([0, 0, 0, 0])\n",
    "# loss_miss          = -np.array([0, 0, 0, 0])\n",
    "# loss_false_alarm   = -np.array([0, 0, 0, 0])\n",
    "\n",
    "# # Build x axis\n",
    "# categories = ['1', '2', 'Sum', 'Extent']\n",
    "# x = np.arange(len(categories))\n",
    "\n",
    "# fig, ax = plt.subplots(figsize=(8, 5))\n",
    "\n",
    "# # === plot gains ===\n",
    "# bottom = np.zeros_like(gain_hit, dtype=int)\n",
    "# ax.bar(x, gain_hit,         bottom=bottom,                 label='Gain Hit',              color='tab:blue')\n",
    "# bottom += gain_hit\n",
    "# ax.bar(x, gain_space_diff,  bottom=bottom,                 label='Gain Space Difference',  color='#0099ff')\n",
    "# bottom += gain_space_diff\n",
    "# ax.bar(x, gain_time_diff,   bottom=bottom,                 label='Gain Time Difference',   color='lightgray')\n",
    "# bottom += gain_time_diff\n",
    "# ax.bar(x, gain_miss,        bottom=bottom,                 label='Gain Miss',              facecolor='white', edgecolor='tab:orange', hatch='\\\\\\\\')\n",
    "# bottom += gain_miss\n",
    "# ax.bar(x, gain_false_alarm, bottom=bottom,                 label='Gain False Alarm',       facecolor='white', edgecolor='#000000', hatch='///')\n",
    "\n",
    "# # === plot losses ===\n",
    "# bottom = np.zeros_like(loss_hit, dtype=int)\n",
    "# ax.bar(x, loss_hit,         bottom=bottom,                 label='Loss Hit',              color='#ff1a1a')\n",
    "# bottom += loss_hit\n",
    "# ax.bar(x, loss_space_diff,  bottom=bottom,                 label='Loss Space Difference',  color='#ff6666')\n",
    "# bottom += loss_space_diff\n",
    "# ax.bar(x, loss_time_diff,   bottom=bottom,                 label='Loss Time Difference',   color='lightgray')\n",
    "# bottom += loss_time_diff\n",
    "# ax.bar(x, loss_miss,        bottom=bottom,                 label='Loss Miss',              facecolor='white', edgecolor='tab:orange', hatch='\\\\\\\\')\n",
    "# bottom += loss_miss\n",
    "# ax.bar(x, loss_false_alarm, bottom=bottom,                 label='Loss False Alarm',       facecolor='white', edgecolor='#000000',  hatch='///')\n",
    "\n",
    "# # === formatting ===\n",
    "# ax.set_xticks(x)\n",
    "# ax.set_xticklabels(categories)\n",
    "# ax.set_xlabel('Time Interval')\n",
    "# ax.set_ylabel('Gross Loss and Gain')\n",
    "# ax.set_title('Losses and Gains During Two Time Intervals')\n",
    "# # ax.grid(axis='y', linestyle='--', linewidth=0.5)\n",
    "\n",
    "# # y‐limits from −6 to +6 to match the paper\n",
    "# ax.set_ylim(-6, 6)\n",
    "\n",
    "# # legend outside on the right\n",
    "# ax.legend(loc='center left', bbox_to_anchor=(1, 0.5))\n",
    "\n",
    "# plt.tight_layout()\n",
    "# plt.show()\n"
   ]
  },
  {
   "cell_type": "markdown",
   "id": "61a5ba0b",
   "metadata": {},
   "source": [
    "### 6.3 Composition of Full-Extent Change\n",
    "Finally, we present a combined bar chart of total gains and total losses over the entire series (the “full extent”), with each component stacked. This summary plot shows overall change magnitude and the balance between agreement and disagreement across all intervals."
   ]
  },
  {
   "cell_type": "code",
   "execution_count": null,
   "id": "8abeb828",
   "metadata": {},
   "outputs": [],
   "source": []
  },
  {
   "cell_type": "markdown",
   "id": "c6ceb39d",
   "metadata": {},
   "source": [
    "## 7. Exporting Results <a id=\"export\"></a>"
   ]
  },
  {
   "cell_type": "markdown",
   "id": "a051ccf2",
   "metadata": {},
   "source": [
    "### 7.1 Save Metrics DataFrame to CSV/Excel  "
   ]
  },
  {
   "cell_type": "markdown",
   "id": "f6d51250",
   "metadata": {},
   "source": [
    "### 7.2 Save Figures (PNG)  "
   ]
  }
 ],
 "metadata": {
  "kernelspec": {
   "display_name": "base",
   "language": "python",
   "name": "python3"
  },
  "language_info": {
   "codemirror_mode": {
    "name": "ipython",
    "version": 3
   },
   "file_extension": ".py",
   "mimetype": "text/x-python",
   "name": "python",
   "nbconvert_exporter": "python",
   "pygments_lexer": "ipython3",
   "version": "3.11.4"
  }
 },
 "nbformat": 4,
 "nbformat_minor": 5
}
