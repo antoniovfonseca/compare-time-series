{
 "cells": [
  {
   "cell_type": "markdown",
   "id": "368d96e5",
   "metadata": {},
   "source": [
    "# Comparison of Two Time Series of Maps 1.0\n",
    "*This notebook implements the framework from the article “Foundational concepts and equations to compare two time series of maps” to quantify and visualize agreement and change between two temporal map series. Using toy data, it defines modular Python functions to compute presence‐agreement components, gains and losses, and full‐extent change metrics, and produces clear visualizations and exportable results for reproducible analysis.*"
   ]
  },
  {
   "cell_type": "markdown",
   "id": "32d183b7",
   "metadata": {},
   "source": [
    "## Table of Contents  \n",
    "1. [Environment Setup](#environment-setup)\n",
    "2. [Toy Data Input Format](#data-preparation)\n",
    "3. [Presence Agreement Components (Eqs 1–12)](#presence-agreement)\n",
    "4. [Change Components: Gains & Losses (Eqs 13–28)](#change-components)\n",
    "5. [Full-Extent Change Metrics (Eqs 29–40, 41–52)](#full-extent)\n",
    "6. [Visualization of Results](#visualization)\n",
    "7. [Exporting Results](#export)\n"
   ]
  },
  {
   "cell_type": "markdown",
   "id": "7a2a9132",
   "metadata": {},
   "source": [
    "## 1. Environment Setup <a id=\"environment-setup\"></a>"
   ]
  },
  {
   "cell_type": "markdown",
   "id": "3a1efd46",
   "metadata": {},
   "source": [
    "### 1.1 Install Dependencies  "
   ]
  },
  {
   "cell_type": "code",
   "execution_count": null,
   "id": "b4535208",
   "metadata": {},
   "outputs": [],
   "source": [
    "# Install packages needed for:\n",
    "# - numeric arrays and fast math (numpy)\n",
    "# - tabular data manipulation (pandas)\n",
    "# - plotting charts and graphs (matplotlib)\n",
    "# - reading and writing raster map files (rasterio)\n",
    "# - handling multi-dimensional map arrays with geospatial coordinates (xarray, rioxarray)\n",
    "# - exporting tables to Excel (openpyxl)\n",
    "# - showing progress bars in long loops (tqdm)\n",
    "%pip install numpy pandas matplotlib rasterio xarray rioxarray openpyxl tqdm "
   ]
  },
  {
   "cell_type": "markdown",
   "id": "c0102bb0",
   "metadata": {},
   "source": [
    "### 1.2 Import Libraries  "
   ]
  },
  {
   "cell_type": "code",
   "execution_count": null,
   "id": "34a05528",
   "metadata": {},
   "outputs": [],
   "source": [
    "import numpy as np\n",
    "import pandas as pd\n",
    "import matplotlib.pyplot as plt\n",
    "import rasterio\n",
    "from rasterio.transform import from_origin\n",
    "import xarray as xr\n",
    "import rioxarray\n",
    "from tqdm import tqdm\n",
    "import openpyxl\n",
    "import os"
   ]
  },
  {
   "cell_type": "markdown",
   "id": "24960193",
   "metadata": {},
   "source": [
    "### 1.3 Define Constants & Settings\n",
    "In this section we set up the main parameters for the notebook. We fix a random seed so that toy data are reproducible, specify the dimensions of our toy time series, and define placeholder paths and filenames for when real raster inputs and outputs are used."
   ]
  },
  {
   "cell_type": "code",
   "execution_count": null,
   "id": "e44bcf31",
   "metadata": {},
   "outputs": [],
   "source": [
    "# Directories\n",
    "input_dir = r\"C:\\Users\\AntFonseca\\github\\compare-time-series\\input\"\n",
    "output_dir = r\"C:\\Users\\AntFonseca\\github\\compare-time-series\\output\"\n",
    "\n",
    "# Output filenams\n",
    "metrics_excel = \"presence_change_metrics.xlsx\""
   ]
  },
  {
   "cell_type": "markdown",
   "id": "2993ad96",
   "metadata": {},
   "source": [
    "## 2. Toy Data Input Format <a id=\"data-preparation\"></a>"
   ]
  },
  {
   "cell_type": "markdown",
   "id": "9e9f7d6a",
   "metadata": {},
   "source": [
    "### 2.1 Generate or Load Toy Time Series Array\n",
    "In this section we build the toy data arrays exactly as in the article example."
   ]
  },
  {
   "cell_type": "code",
   "execution_count": null,
   "id": "4e76d307",
   "metadata": {},
   "outputs": [],
   "source": [
    "# Dimensions matching the article’s toy example\n",
    "num_time_points = 3   # number of time points\n",
    "num_pixels = 2        # number of pixels in each snapshot\n",
    "\n",
    "# toy presence values from the article plot:\n",
    "# toy_data_x[t, n] = presence of reference series at time point t, pixel n\n",
    "# toy_data_y[t, n] = presence of comparison series at time point t, pixel n\n",
    "\n",
    "toy_data_x = np.array([\n",
    "    [2, 5],   # t = 0: reference pixel1=2, pixel2=5\n",
    "    [0, 4],   # t = 1: reference pixel1=0, pixel2=4\n",
    "    [5, 1],   # t = 2: reference pixel1=5, pixel2=1\n",
    "])\n",
    "\n",
    "toy_data_y = np.array([\n",
    "    [4, 1],   # t = 0: comparison pixel1=4, pixel2=1\n",
    "    [1, 5],   # t = 1: comparison pixel1=1, pixel2=5\n",
    "    [0, 3],   # t = 2: comparison pixel1=0, pixel2=3\n",
    "])"
   ]
  },
  {
   "cell_type": "markdown",
   "id": "def63729",
   "metadata": {},
   "source": [
    "### 2.2 Export Toy Data as Raster Files\n",
    "\n",
    "Here we write each map layer of our toy arrays to single‐band GeoTIFFs in the input folder. These rasters will later be read back in exactly like real map inputs."
   ]
  },
  {
   "cell_type": "code",
   "execution_count": null,
   "id": "b1a9e001",
   "metadata": {},
   "outputs": [],
   "source": [
    "# Ensure input directory exists\n",
    "os.makedirs(input_dir, exist_ok=True)\n",
    "\n",
    "# Raster metadata for a 1×num_pixels image, without CRS\n",
    "height = 1\n",
    "width = num_pixels\n",
    "transform = from_origin(0, num_pixels, 1, 1)  # top‐left corner at (0, num_pixels), pixel size = 1×1\n",
    "meta = {\n",
    "    \"driver\": \"GTiff\",\n",
    "    \"height\": height,\n",
    "    \"width\": width,\n",
    "    \"count\": 1,\n",
    "    \"dtype\": toy_data_x.dtype,\n",
    "    \"transform\": transform\n",
    "}\n",
    "\n",
    "# write reference series rasters (toy_data_x)\n",
    "for t in range(num_time_points):\n",
    "    out_path = os.path.join(input_dir, f\"toy_data_x_time{t}.tif\")\n",
    "    with rasterio.open(out_path, \"w\", **meta) as dst:\n",
    "        dst.write(toy_data_x[t][np.newaxis, :], 1)\n",
    "\n",
    "# write comparison series rasters (toy_data_y)\n",
    "for t in range(num_time_points):\n",
    "    out_path = os.path.join(input_dir, f\"toy_data_y_time{t}.tif\")\n",
    "    with rasterio.open(out_path, \"w\", **meta) as dst:\n",
    "        dst.write(toy_data_y[t][np.newaxis, :], 1)\n"
   ]
  },
  {
   "cell_type": "markdown",
   "id": "15d6e3a3",
   "metadata": {},
   "source": [
    "## 3. Presence Agreement Components (Eqs 1–12) <a id=\"presence-agreement\"></a>\n",
    "In this section we compute the core presence‐agreement metrics—hits, misses, false alarms, spatial differences, and temporal differences—for each pixel at each time point, following Equations 1–12 of the article."
   ]
  },
  {
   "cell_type": "markdown",
   "id": "fff4e55d",
   "metadata": {},
   "source": [
    "### 3.1 Define Presence Variables:\n",
    "\n",
    "We load the reference (`p_x`) and comparison (`p_y`) series into two arrays of shape `(num_time_points, num_pixels)`.  \n",
    "Each element `p_x[t, n]` (or `p_y[t, n]`) holds the presence value at time point `t` and pixel `n`."
   ]
  },
  {
   "cell_type": "code",
   "execution_count": null,
   "id": "59caa362",
   "metadata": {},
   "outputs": [
    {
     "name": "stdout",
     "output_type": "stream",
     "text": [
      "Loaded reference presence (p_x):\n",
      "[[2 5]\n",
      " [0 4]\n",
      " [5 1]]\n",
      "\n",
      "Loaded comparison presence (p_y):\n",
      "[[4 1]\n",
      " [1 5]\n",
      " [0 3]]\n"
     ]
    }
   ],
   "source": [
    "# Gather and sort the toy-data raster filenames\n",
    "x_files = sorted([\n",
    "    os.path.join(input_dir, f)\n",
    "    for f in os.listdir(input_dir)\n",
    "    if f.startswith(\"toy_data_x_time\")\n",
    "])\n",
    "y_files = sorted([\n",
    "    os.path.join(input_dir, f)\n",
    "    for f in os.listdir(input_dir)\n",
    "    if f.startswith(\"toy_data_y_time\")\n",
    "])\n",
    "\n",
    "# Initialize presence arrays\n",
    "p_x = np.zeros((num_time_points, num_pixels), dtype=toy_data_x.dtype)\n",
    "p_y = np.zeros((num_time_points, num_pixels), dtype=toy_data_y.dtype)\n",
    "\n",
    "# Load each raster layer into the arrays\n",
    "for t, fp in enumerate(x_files):\n",
    "    with rasterio.open(fp) as src:\n",
    "        # read band 1 and flatten to a 1D array of length num_pixels\n",
    "        p_x[t] = src.read(1).flatten()\n",
    "\n",
    "for t, fp in enumerate(y_files):\n",
    "    with rasterio.open(fp) as src:\n",
    "        p_y[t] = src.read(1).flatten()\n",
    "\n",
    "# Print to console for verification\n",
    "print(\"Loaded reference presence (p_x):\")\n",
    "print(p_x)\n",
    "print(\"\\nLoaded comparison presence (p_y):\")\n",
    "print(p_y)"
   ]
  },
  {
   "cell_type": "markdown",
   "id": "4f7b0096",
   "metadata": {},
   "source": [
    "### 3.2 Implement Hit, Miss, False Alarm, Spatial Difference, and Temporal Difference Functions\n",
    "In this subsection we define five functions that implement Equations 1–12 for presence at each time point and pixel:\n",
    "- **hit(px, py):** amount of shared presence  \n",
    "- **miss(px, py):** amount of reference-only presence  \n",
    "- **false_alarm(px, py):** amount of comparison-only presence  \n",
    "- **spatial_diff(px, py):** difference in magnitude when both series have presence  \n",
    "- **temporal_diff(px_prev, px, py_prev, py):** timing differences across consecutive time points  \n",
    "\n",
    "Each function accepts an input array of presence values with dimensions `(num_time_points, num_pixels)` and returns a new array with the same dimensions."
   ]
  },
  {
   "cell_type": "code",
   "execution_count": 24,
   "id": "463c3dd5",
   "metadata": {},
   "outputs": [],
   "source": [
    "def hit(px, py):\n",
    "    \"\"\"\n",
    "    Presence hit: shared presence at each time point and pixel.\n",
    "    h[t, n] = min(px[t, n], py[t, n])\n",
    "    \"\"\"\n",
    "    return np.minimum(px, py)\n",
    "\n",
    "def miss(px, py):\n",
    "    \"\"\"\n",
    "    Presence miss: reference-only presence.\n",
    "    m[t, n] = max(px[t, n] - py[t, n], 0)\n",
    "    \"\"\"\n",
    "    return np.clip(px - py, a_min=0, a_max=None)\n",
    "\n",
    "def false_alarm(px, py):\n",
    "    \"\"\"\n",
    "    Presence false alarm: comparison-only presence.\n",
    "    f[t, n] = max(py[t, n] - px[t, n], 0)\n",
    "    \"\"\"\n",
    "    return np.clip(py - px, a_min=0, a_max=None)\n",
    "\n",
    "def spatial_diff(px, py):\n",
    "    \"\"\"\n",
    "    Spatial difference: magnitude difference when both have presence.\n",
    "    u[t, n] = abs(px[t, n] - py[t, n]) where both px and py > 0, else 0.\n",
    "    \"\"\"\n",
    "    diff = np.abs(px - py)\n",
    "    mask = (px > 0) & (py > 0)\n",
    "    return diff * mask\n",
    "\n",
    "def temporal_diff(px_prev, px, py_prev, py):\n",
    "    \"\"\"\n",
    "    Temporal difference: presence shifts between consecutive time points.\n",
    "    v[t, n] = abs((px[t, n] - px_prev[t, n]) - (py[t, n] - py_prev[t, n]))\n",
    "    for t = 1..T, zero for t = 0.\n",
    "    \"\"\"\n",
    "    # pad first time point with zeros\n",
    "    delta_x = px - px_prev\n",
    "    delta_y = py - py_prev\n",
    "    td = np.abs(delta_x - delta_y)\n",
    "    td[0, :] = 0\n",
    "    return td\n"
   ]
  },
  {
   "cell_type": "markdown",
   "id": "f09f2ca6",
   "metadata": {},
   "source": [
    "### 3.3 Compute Component Arrays per Time & Pixel\n",
    "In this subsection we apply our five presence‐agreement functions to the loaded arrays `p_x` and `p_y`. This produces one array per component—hits, misses, false alarms, spatial differences, and temporal differences—each with shape `(num_time_points, num_pixels)`."
   ]
  },
  {
   "cell_type": "code",
   "execution_count": 25,
   "id": "017d9319",
   "metadata": {},
   "outputs": [
    {
     "name": "stdout",
     "output_type": "stream",
     "text": [
      "hits (h):\n",
      " [[2 1]\n",
      " [0 4]\n",
      " [0 1]]\n",
      "misses (m):\n",
      " [[0 4]\n",
      " [0 0]\n",
      " [5 0]]\n",
      "false alarms (f):\n",
      " [[2 0]\n",
      " [1 1]\n",
      " [0 2]]\n",
      "spatial diffs (u):\n",
      " [[2 4]\n",
      " [0 1]\n",
      " [0 2]]\n",
      "temporal diffs (v):\n",
      " [[0 0]\n",
      " [1 5]\n",
      " [6 1]]\n"
     ]
    }
   ],
   "source": [
    "# Compute presence‐agreement components\n",
    "h = hit(p_x, p_y)\n",
    "m = miss(p_x, p_y)\n",
    "f = false_alarm(p_x, p_y)\n",
    "u = spatial_diff(p_x, p_y)\n",
    "\n",
    "# For temporal differences, build “previous” arrays by shifting and padding with zeros\n",
    "px_prev = np.vstack([np.zeros((1, num_pixels), dtype=p_x.dtype), p_x[:-1]])\n",
    "py_prev = np.vstack([np.zeros((1, num_pixels), dtype=p_y.dtype), p_y[:-1]])\n",
    "v = temporal_diff(px_prev, p_x, py_prev, p_y)\n",
    "\n",
    "# Verify shapes and sample values\n",
    "print(\"hits (h):\\n\", h)\n",
    "print(\"misses (m):\\n\", m)\n",
    "print(\"false alarms (f):\\n\", f)\n",
    "print(\"spatial diffs (u):\\n\", u)\n",
    "print(\"temporal diffs (v):\\n\", v)\n"
   ]
  },
  {
   "cell_type": "markdown",
   "id": "535a2d88",
   "metadata": {},
   "source": [
    "### 3.4 Aggregate Presence Components\n",
    "In this step we combine the per-pixel components into summary metrics:\n",
    "\n",
    "- **Spatial aggregates** (one value per time point \\(t\\)):  \n",
    "  - `H_t`: total shared presence across all pixels at time `t`  \n",
    "  - `M_t`: total reference-only presence across all pixels at time `t`  \n",
    "  - `F_t`: total comparison-only presence across all pixels at time `t`  \n",
    "  - `U_t`: total spatial difference across all pixels at time `t`  \n",
    "  - `V_t`: total temporal difference across all pixels at time `t`  \n",
    "\n",
    "- **Temporal aggregates** (one value per pixel `n`):  \n",
    "  - `H_n`: total shared presence for pixel `n` across all time points  \n",
    "  - `M_n`: total reference-only presence for pixel `n` across all time points  \n",
    "  - `F_n`: total comparison-only presence for pixel `n` across all time points  \n",
    "  - `U_n`: total spatial difference for pixel `n` across all time points  \n",
    "  - `V_n`: total temporal difference for pixel `n` across all time points  \n",
    "\n",
    "The code below computes these arrays and prints them for verification."
   ]
  },
  {
   "cell_type": "code",
   "execution_count": 26,
   "id": "496dc1d8",
   "metadata": {},
   "outputs": [
    {
     "name": "stdout",
     "output_type": "stream",
     "text": [
      "Spatial aggregates at each time point:\n",
      "H_t, M_t, F_t, U_t, V_t = [3 4 1] [4 0 5] [2 2 2] [6 1 2] [0 6 7]\n",
      "\n",
      "Temporal aggregates for each pixel:\n",
      "H_n, M_n, F_n, U_n, V_n = [2 6] [5 4] [3 3] [2 7] [7 6]\n"
     ]
    }
   ],
   "source": [
    "# Spatial aggregates per time point (axis=1 sums over pixels)\n",
    "H_t = h.sum(axis=1)\n",
    "M_t = m.sum(axis=1)\n",
    "F_t = f.sum(axis=1)\n",
    "U_t = u.sum(axis=1)\n",
    "V_t = v.sum(axis=1)\n",
    "\n",
    "# Temporal aggregates per pixel (axis=0 sums over time points)\n",
    "H_n = h.sum(axis=0)\n",
    "M_n = m.sum(axis=0)\n",
    "F_n = f.sum(axis=0)\n",
    "U_n = u.sum(axis=0)\n",
    "V_n = v.sum(axis=0)\n",
    "\n",
    "# Print results for verification\n",
    "print(\"Spatial aggregates at each time point:\")\n",
    "print(\"H_t, M_t, F_t, U_t, V_t =\", H_t, M_t, F_t, U_t, V_t)\n",
    "\n",
    "print(\"\\nTemporal aggregates for each pixel:\")\n",
    "print(\"H_n, M_n, F_n, U_n, V_n =\", H_n, M_n, F_n, U_n, V_n)\n"
   ]
  },
  {
   "cell_type": "markdown",
   "id": "32a43115",
   "metadata": {},
   "source": [
    "## 4. Change Components: Gains & Losses (Eqs 13–28) <a id=\"change-components\"></a>\n",
    "In this section we quantify change between consecutive time points by decomposing it into **gains** (positive increases) and **losses** (negative decreases) for both series. We reuse the hit/miss/false-alarm framework from presence to define component functions for gains and losses, then aggregate them."
   ]
  },
  {
   "cell_type": "markdown",
   "id": "d605fab5",
   "metadata": {},
   "source": [
    "### 4.1 Define Gain & Loss Variables:\n",
    "Load or compute the per-interval gain arrays `g_x`, `g_y` and loss arrays `l_x`, `l_y` from the raw presence data."
   ]
  },
  {
   "cell_type": "markdown",
   "id": "d62b6ba6",
   "metadata": {},
   "source": [
    "### 4.2 Implement Gain-Component Functions\n",
    "Define functions that calculate gain hits, gain misses, gain false alarms, spatial differences, and temporal differences by substituting presence (`p`) with gains (`g`).\n"
   ]
  },
  {
   "cell_type": "markdown",
   "id": "89af0257",
   "metadata": {},
   "source": [
    "### 4.3 Implement Loss-Component Functions\n",
    "Similarly, define loss hits, loss misses, loss false alarms, spatial differences, and temporal differences by substituting presence (`p`) with losses (`l`)."
   ]
  },
  {
   "cell_type": "markdown",
   "id": "a5d344e6",
   "metadata": {},
   "source": [
    "### 4.4 Aggregate Gain & Loss Components\n",
    "Sum each gain and loss component across pixels (for each interval) and across intervals (for each pixel) to create summary change metrics."
   ]
  },
  {
   "cell_type": "markdown",
   "id": "43dae04e",
   "metadata": {},
   "source": [
    "## 5. Full-Extent Change Metrics (Eqs 29–40, 41–52) <a id=\"full-extent\"></a>"
   ]
  },
  {
   "cell_type": "markdown",
   "id": "15283961",
   "metadata": {},
   "source": [
    "### 5.1 Compute Total Gains & Losses over \\(t=0\\to T\\)  "
   ]
  },
  {
   "cell_type": "markdown",
   "id": "51486091",
   "metadata": {},
   "source": [
    "### 5.2 Quantity Metrics (Interval & Full-Extent Sums)  "
   ]
  },
  {
   "cell_type": "markdown",
   "id": "8e0c479b",
   "metadata": {},
   "source": [
    "### 5.3 Pixel-Wise Summary Metrics  "
   ]
  },
  {
   "cell_type": "markdown",
   "id": "d8ccab66",
   "metadata": {},
   "source": [
    "## 6. Visualization of Results <a id=\"visualization\"></a>"
   ]
  },
  {
   "cell_type": "markdown",
   "id": "90424f49",
   "metadata": {},
   "source": [
    "### 6.1 Stacked Bar Chart: Presence Agreement  "
   ]
  },
  {
   "cell_type": "markdown",
   "id": "af5eb282",
   "metadata": {},
   "source": [
    "### 6.2 Stacked Bar Chart: Gain & Loss Components  "
   ]
  },
  {
   "cell_type": "markdown",
   "id": "61a5ba0b",
   "metadata": {},
   "source": [
    "### 6.3 Composition of Full-Extent Change  "
   ]
  },
  {
   "cell_type": "markdown",
   "id": "c6ceb39d",
   "metadata": {},
   "source": [
    "## 7. Exporting Results <a id=\"export\"></a>"
   ]
  },
  {
   "cell_type": "markdown",
   "id": "a051ccf2",
   "metadata": {},
   "source": [
    "### 7.1 Save Metrics DataFrame to CSV/Excel  "
   ]
  },
  {
   "cell_type": "markdown",
   "id": "f6d51250",
   "metadata": {},
   "source": [
    "### 7.2 Save Figures (PNG)  "
   ]
  }
 ],
 "metadata": {
  "kernelspec": {
   "display_name": "base",
   "language": "python",
   "name": "python3"
  },
  "language_info": {
   "codemirror_mode": {
    "name": "ipython",
    "version": 3
   },
   "file_extension": ".py",
   "mimetype": "text/x-python",
   "name": "python",
   "nbconvert_exporter": "python",
   "pygments_lexer": "ipython3",
   "version": "3.11.4"
  }
 },
 "nbformat": 4,
 "nbformat_minor": 5
}
