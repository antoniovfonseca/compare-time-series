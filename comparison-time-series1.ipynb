{
 "cells": [
  {
   "cell_type": "markdown",
   "id": "368d96e5",
   "metadata": {},
   "source": [
    "# Comparison of Two Time Series of Maps 1.0\n",
    "*This notebook implements the framework from the article “Foundational concepts and equations to compare two time series of maps” to quantify and visualize agreement and change between two temporal map series. Using toy data, it defines modular Python functions to compute presence‐agreement components, gains and losses, and full‐extent change metrics, and produces clear visualizations and exportable results for reproducible analysis.*"
   ]
  },
  {
   "cell_type": "markdown",
   "id": "32d183b7",
   "metadata": {},
   "source": [
    "## Table of Contents  \n",
    "1. [Environment Setup](#environment-setup)\n",
    "2. [Toy Data Input Format](#data-preparation)\n",
    "3. [Presence Agreement Components (Eqs 1–12)](#presence-agreement)\n",
    "4. [Change Components: Gains & Losses (Eqs 13–28)](#change-components)\n",
    "5. [Full-Extent Change Metrics (Eqs 29–40, 41–52)](#full-extent)\n",
    "6. [Visualization of Results](#visualization)\n",
    "7. [Exporting Results](#export)\n"
   ]
  },
  {
   "cell_type": "markdown",
   "id": "7a2a9132",
   "metadata": {},
   "source": [
    "## 1. Environment Setup <a id=\"environment-setup\"></a>"
   ]
  },
  {
   "cell_type": "markdown",
   "id": "3a1efd46",
   "metadata": {},
   "source": [
    "### 1.1 Install Dependencies  "
   ]
  },
  {
   "cell_type": "code",
   "execution_count": 9,
   "id": "b4535208",
   "metadata": {},
   "outputs": [
    {
     "name": "stdout",
     "output_type": "stream",
     "text": [
      "Requirement already satisfied: numpy in c:\\users\\antfonseca\\appdata\\roaming\\python\\python311\\site-packages (1.26.2)\n",
      "Requirement already satisfied: pandas in c:\\users\\antfonseca\\appdata\\roaming\\python\\python311\\site-packages (2.1.3)\n",
      "Requirement already satisfied: matplotlib in c:\\users\\antfonseca\\appdata\\roaming\\python\\python311\\site-packages (3.8.2)\n",
      "Requirement already satisfied: rasterio in c:\\users\\antfonseca\\appdata\\local\\miniconda3\\lib\\site-packages (1.4.3)\n",
      "Requirement already satisfied: xarray in c:\\users\\antfonseca\\appdata\\roaming\\python\\python311\\site-packages (2024.9.0)\n",
      "Requirement already satisfied: rioxarray in c:\\users\\antfonseca\\appdata\\local\\miniconda3\\lib\\site-packages (0.19.0)\n",
      "Requirement already satisfied: openpyxl in c:\\users\\antfonseca\\appdata\\roaming\\python\\python311\\site-packages (3.1.2)\n",
      "Requirement already satisfied: tqdm in c:\\users\\antfonseca\\appdata\\roaming\\python\\python311\\site-packages (4.66.1)\n",
      "Requirement already satisfied: python-dateutil>=2.8.2 in c:\\users\\antfonseca\\appdata\\roaming\\python\\python311\\site-packages (from pandas) (2.8.2)\n",
      "Requirement already satisfied: pytz>=2020.1 in c:\\users\\antfonseca\\appdata\\roaming\\python\\python311\\site-packages (from pandas) (2023.3.post1)\n",
      "Requirement already satisfied: tzdata>=2022.1 in c:\\users\\antfonseca\\appdata\\roaming\\python\\python311\\site-packages (from pandas) (2023.3)\n",
      "Requirement already satisfied: contourpy>=1.0.1 in c:\\users\\antfonseca\\appdata\\roaming\\python\\python311\\site-packages (from matplotlib) (1.2.0)\n",
      "Requirement already satisfied: cycler>=0.10 in c:\\users\\antfonseca\\appdata\\roaming\\python\\python311\\site-packages (from matplotlib) (0.12.1)\n",
      "Requirement already satisfied: fonttools>=4.22.0 in c:\\users\\antfonseca\\appdata\\roaming\\python\\python311\\site-packages (from matplotlib) (4.47.2)\n",
      "Requirement already satisfied: kiwisolver>=1.3.1 in c:\\users\\antfonseca\\appdata\\roaming\\python\\python311\\site-packages (from matplotlib) (1.4.5)\n",
      "Requirement already satisfied: packaging>=20.0 in c:\\users\\antfonseca\\appdata\\roaming\\python\\python311\\site-packages (from matplotlib) (23.2)\n",
      "Requirement already satisfied: pillow>=8 in c:\\users\\antfonseca\\appdata\\roaming\\python\\python311\\site-packages (from matplotlib) (10.1.0)\n",
      "Requirement already satisfied: pyparsing>=2.3.1 in c:\\users\\antfonseca\\appdata\\roaming\\python\\python311\\site-packages (from matplotlib) (3.1.1)\n",
      "Requirement already satisfied: affine in c:\\users\\antfonseca\\appdata\\roaming\\python\\python311\\site-packages (from rasterio) (2.4.0)\n",
      "Requirement already satisfied: attrs in c:\\users\\antfonseca\\appdata\\roaming\\python\\python311\\site-packages (from rasterio) (23.1.0)\n",
      "Requirement already satisfied: certifi in c:\\users\\antfonseca\\appdata\\roaming\\python\\python311\\site-packages (from rasterio) (2023.7.22)\n",
      "Requirement already satisfied: click>=4.0 in c:\\users\\antfonseca\\appdata\\roaming\\python\\python311\\site-packages (from rasterio) (8.1.7)\n",
      "Requirement already satisfied: cligj>=0.5 in c:\\users\\antfonseca\\appdata\\roaming\\python\\python311\\site-packages (from rasterio) (0.7.2)\n",
      "Requirement already satisfied: click-plugins in c:\\users\\antfonseca\\appdata\\roaming\\python\\python311\\site-packages (from rasterio) (1.1.1)\n",
      "Requirement already satisfied: pyproj>=3.3 in c:\\users\\antfonseca\\appdata\\roaming\\python\\python311\\site-packages (from rioxarray) (3.6.1)\n",
      "Requirement already satisfied: et-xmlfile in c:\\users\\antfonseca\\appdata\\roaming\\python\\python311\\site-packages (from openpyxl) (1.1.0)\n",
      "Requirement already satisfied: colorama in c:\\users\\antfonseca\\appdata\\roaming\\python\\python311\\site-packages (from tqdm) (0.4.6)\n",
      "Requirement already satisfied: six>=1.5 in c:\\users\\antfonseca\\appdata\\roaming\\python\\python311\\site-packages (from python-dateutil>=2.8.2->pandas) (1.16.0)\n",
      "Note: you may need to restart the kernel to use updated packages.\n"
     ]
    }
   ],
   "source": [
    "# Install packages needed for:\n",
    "# - numeric arrays and fast math (numpy)\n",
    "# - tabular data manipulation (pandas)\n",
    "# - plotting charts and graphs (matplotlib)\n",
    "# - reading and writing raster map files (rasterio)\n",
    "# - handling multi-dimensional map arrays with geospatial coordinates (xarray, rioxarray)\n",
    "# - exporting tables to Excel (openpyxl)\n",
    "# - showing progress bars in long loops (tqdm)\n",
    "%pip install numpy pandas matplotlib rasterio xarray rioxarray openpyxl tqdm"
   ]
  },
  {
   "cell_type": "markdown",
   "id": "c0102bb0",
   "metadata": {},
   "source": [
    "### 1.2 Import Libraries  "
   ]
  },
  {
   "cell_type": "code",
   "execution_count": 10,
   "id": "34a05528",
   "metadata": {},
   "outputs": [],
   "source": [
    "import numpy as np\n",
    "import pandas as pd\n",
    "import matplotlib.pyplot as plt\n",
    "import rasterio\n",
    "import xarray as xr\n",
    "import rioxarray\n",
    "from tqdm import tqdm\n",
    "import openpyxl\n"
   ]
  },
  {
   "cell_type": "markdown",
   "id": "24960193",
   "metadata": {},
   "source": [
    "### 1.3 Define Constants & Settings\n",
    "In this section we set up the main parameters for the notebook. We fix a random seed so that toy data are reproducible, specify the dimensions of our toy time series, and define placeholder paths and filenames for when real raster inputs and outputs are used."
   ]
  },
  {
   "cell_type": "code",
   "execution_count": 12,
   "id": "e44bcf31",
   "metadata": {},
   "outputs": [],
   "source": [
    "# directories for real‐data version (not used for toy data)\n",
    "input_dir = r\"C:\\Users\\AntFonseca\\github\\compare-time-series\\input\"\n",
    "output_dir = r\"C:\\Users\\AntFonseca\\github\\compare-time-series\\output\"\n",
    "\n",
    "# output filenams\n",
    "metrics_excel = \"presence_change_metrics.xlsx\""
   ]
  },
  {
   "cell_type": "markdown",
   "id": "2993ad96",
   "metadata": {},
   "source": [
    "## 2. Toy Data Input Format <a id=\"data-preparation\"></a>\n",
    "In this section we build the toy data arrays exactly as in the article example."
   ]
  },
  {
   "cell_type": "markdown",
   "id": "9e9f7d6a",
   "metadata": {},
   "source": [
    "### 2.1 Generate or Load Toy Time Series Array  "
   ]
  },
  {
   "cell_type": "code",
   "execution_count": null,
   "id": "4e76d307",
   "metadata": {},
   "outputs": [],
   "source": [
    "# dimensions matching the article’s toy example\n",
    "num_time_points = 3   # number of time points\n",
    "num_pixels = 2        # number of pixels in each snapshot\n",
    "\n",
    "# toy presence values from the article plot:\n",
    "# toy_data_x[t, n] = presence of reference series at time point t, pixel n\n",
    "# toy_data_y[t, n] = presence of comparison series at time point t, pixel n\n",
    "\n",
    "toy_data_x = np.array([\n",
    "    [2, 5],   # t = 0: reference pixel1=2, pixel2=5\n",
    "    [0, 4],   # t = 1: reference pixel1=0, pixel2=4\n",
    "    [5, 1],   # t = 2: reference pixel1=5, pixel2=1\n",
    "])\n",
    "\n",
    "toy_data_y = np.array([\n",
    "    [4, 1],   # t = 0: comparison pixel1=4, pixel2=1\n",
    "    [1, 5],   # t = 1: comparison pixel1=1, pixel2=5\n",
    "    [0, 3],   # t = 2: comparison pixel1=0, pixel2=3\n",
    "])"
   ]
  },
  {
   "cell_type": "markdown",
   "id": "15d6e3a3",
   "metadata": {},
   "source": [
    "## 3. Presence Agreement Components (Eqs 1–12) <a id=\"presence-agreement\"></a>"
   ]
  },
  {
   "cell_type": "markdown",
   "id": "fff4e55d",
   "metadata": {},
   "source": [
    "### 3.1 Define Presence Variables:"
   ]
  },
  {
   "cell_type": "markdown",
   "id": "4f7b0096",
   "metadata": {},
   "source": [
    "### 3.2 Implement Hit/Miss/False-Alarm/Spatial-Diff/Temporal-Diff Functions  "
   ]
  },
  {
   "cell_type": "markdown",
   "id": "f09f2ca6",
   "metadata": {},
   "source": [
    "### 3.3 Compute Component Arrays per Time & Pixel  "
   ]
  },
  {
   "cell_type": "markdown",
   "id": "535a2d88",
   "metadata": {},
   "source": [
    "### 3.4 Aggregate Presence Components "
   ]
  },
  {
   "cell_type": "markdown",
   "id": "32a43115",
   "metadata": {},
   "source": [
    "## 4. Change Components: Gains & Losses (Eqs 13–28) <a id=\"change-components\"></a>"
   ]
  },
  {
   "cell_type": "markdown",
   "id": "d605fab5",
   "metadata": {},
   "source": [
    "### 4.1 Define Gain & Loss Variables:  "
   ]
  },
  {
   "cell_type": "markdown",
   "id": "d62b6ba6",
   "metadata": {},
   "source": [
    "### 4.2 Implement Gain-Component Functions  "
   ]
  },
  {
   "cell_type": "markdown",
   "id": "89af0257",
   "metadata": {},
   "source": [
    "### 4.3 Implement Loss-Component Functions "
   ]
  },
  {
   "cell_type": "markdown",
   "id": "a5d344e6",
   "metadata": {},
   "source": [
    "### 4.4 Aggregate Gain & Loss Components  "
   ]
  },
  {
   "cell_type": "markdown",
   "id": "43dae04e",
   "metadata": {},
   "source": [
    "## 5. Full-Extent Change Metrics (Eqs 29–40, 41–52) <a id=\"full-extent\"></a>"
   ]
  },
  {
   "cell_type": "markdown",
   "id": "15283961",
   "metadata": {},
   "source": [
    "### 5.1 Compute Total Gains & Losses over \\(t=0\\to T\\)  "
   ]
  },
  {
   "cell_type": "markdown",
   "id": "51486091",
   "metadata": {},
   "source": [
    "### 5.2 Quantity Metrics (Interval & Full-Extent Sums)  "
   ]
  },
  {
   "cell_type": "markdown",
   "id": "8e0c479b",
   "metadata": {},
   "source": [
    "### 5.3 Pixel-Wise Summary Metrics  "
   ]
  },
  {
   "cell_type": "markdown",
   "id": "d8ccab66",
   "metadata": {},
   "source": [
    "## 6. Visualization of Results <a id=\"visualization\"></a>"
   ]
  },
  {
   "cell_type": "markdown",
   "id": "90424f49",
   "metadata": {},
   "source": [
    "### 6.1 Stacked Bar Chart: Presence Agreement  "
   ]
  },
  {
   "cell_type": "markdown",
   "id": "af5eb282",
   "metadata": {},
   "source": [
    "### 6.2 Stacked Bar Chart: Gain & Loss Components  "
   ]
  },
  {
   "cell_type": "markdown",
   "id": "61a5ba0b",
   "metadata": {},
   "source": [
    "### 6.3 Composition of Full-Extent Change  "
   ]
  },
  {
   "cell_type": "markdown",
   "id": "c6ceb39d",
   "metadata": {},
   "source": [
    "## 7. Exporting Results <a id=\"export\"></a>"
   ]
  },
  {
   "cell_type": "markdown",
   "id": "a051ccf2",
   "metadata": {},
   "source": [
    "### 7.1 Save Metrics DataFrame to CSV/Excel  "
   ]
  },
  {
   "cell_type": "markdown",
   "id": "f6d51250",
   "metadata": {},
   "source": [
    "### 7.2 Save Figures (PNG)  "
   ]
  }
 ],
 "metadata": {
  "kernelspec": {
   "display_name": "base",
   "language": "python",
   "name": "python3"
  },
  "language_info": {
   "codemirror_mode": {
    "name": "ipython",
    "version": 3
   },
   "file_extension": ".py",
   "mimetype": "text/x-python",
   "name": "python",
   "nbconvert_exporter": "python",
   "pygments_lexer": "ipython3",
   "version": "3.11.4"
  }
 },
 "nbformat": 4,
 "nbformat_minor": 5
}
