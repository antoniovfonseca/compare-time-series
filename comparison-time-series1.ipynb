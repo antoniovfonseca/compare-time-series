{
 "cells": [
  {
   "cell_type": "markdown",
   "id": "368d96e5",
   "metadata": {},
   "source": [
    "# Comparison of Two Time Series of Maps 1.0\n",
    "*This notebook implements the framework from the article “Foundational concepts and equations to compare two time series of maps” to quantify and visualize agreement and change between two temporal map series. Using toy data, it defines modular Python functions to compute presence‐agreement components, gains and losses, and full‐extent change metrics, and produces clear visualizations and exportable results for reproducible analysis.*"
   ]
  },
  {
   "cell_type": "markdown",
   "id": "32d183b7",
   "metadata": {},
   "source": [
    "## Table of Contents  \n",
    "1. [Environment Setup](#environment-setup)\n",
    "2. [Toy Data Input Format](#data-preparation)\n",
    "3. [Presence Agreement Components (Eqs 1–12)](#presence-agreement)\n",
    "4. [Change Components: Gains & Losses (Eqs 13–40)](#change-components)\n",
    "5. [Full-Extent Change Metrics (Eqs 29–40, 41–52)](#full-extent)\n",
    "6. [Visualization of Results](#visualization)\n",
    "7. [Exporting Results](#export)\n"
   ]
  },
  {
   "cell_type": "markdown",
   "id": "7a2a9132",
   "metadata": {},
   "source": [
    "## 1. Environment Setup <a id=\"environment-setup\"></a>"
   ]
  },
  {
   "cell_type": "markdown",
   "id": "3a1efd46",
   "metadata": {},
   "source": [
    "### 1.1 Install Dependencies  "
   ]
  },
  {
   "cell_type": "code",
   "execution_count": 152,
   "id": "b4535208",
   "metadata": {},
   "outputs": [
    {
     "name": "stdout",
     "output_type": "stream",
     "text": [
      "Requirement already satisfied: numpy in c:\\users\\antfonseca\\appdata\\roaming\\python\\python311\\site-packages (1.26.2)Note: you may need to restart the kernel to use updated packages.\n",
      "\n",
      "Requirement already satisfied: pandas in c:\\users\\antfonseca\\appdata\\roaming\\python\\python311\\site-packages (2.1.3)\n",
      "Requirement already satisfied: matplotlib in c:\\users\\antfonseca\\appdata\\roaming\\python\\python311\\site-packages (3.8.2)\n",
      "Requirement already satisfied: rasterio in c:\\users\\antfonseca\\appdata\\local\\miniconda3\\lib\\site-packages (1.4.3)\n",
      "Requirement already satisfied: xarray in c:\\users\\antfonseca\\appdata\\roaming\\python\\python311\\site-packages (2024.9.0)\n",
      "Requirement already satisfied: rioxarray in c:\\users\\antfonseca\\appdata\\local\\miniconda3\\lib\\site-packages (0.19.0)\n",
      "Requirement already satisfied: openpyxl in c:\\users\\antfonseca\\appdata\\roaming\\python\\python311\\site-packages (3.1.2)\n",
      "Requirement already satisfied: tqdm in c:\\users\\antfonseca\\appdata\\roaming\\python\\python311\\site-packages (4.66.1)\n",
      "Requirement already satisfied: python-dateutil>=2.8.2 in c:\\users\\antfonseca\\appdata\\roaming\\python\\python311\\site-packages (from pandas) (2.8.2)\n",
      "Requirement already satisfied: pytz>=2020.1 in c:\\users\\antfonseca\\appdata\\roaming\\python\\python311\\site-packages (from pandas) (2023.3.post1)\n",
      "Requirement already satisfied: tzdata>=2022.1 in c:\\users\\antfonseca\\appdata\\roaming\\python\\python311\\site-packages (from pandas) (2023.3)\n",
      "Requirement already satisfied: contourpy>=1.0.1 in c:\\users\\antfonseca\\appdata\\roaming\\python\\python311\\site-packages (from matplotlib) (1.2.0)\n",
      "Requirement already satisfied: cycler>=0.10 in c:\\users\\antfonseca\\appdata\\roaming\\python\\python311\\site-packages (from matplotlib) (0.12.1)\n",
      "Requirement already satisfied: fonttools>=4.22.0 in c:\\users\\antfonseca\\appdata\\roaming\\python\\python311\\site-packages (from matplotlib) (4.47.2)\n",
      "Requirement already satisfied: kiwisolver>=1.3.1 in c:\\users\\antfonseca\\appdata\\roaming\\python\\python311\\site-packages (from matplotlib) (1.4.5)\n",
      "Requirement already satisfied: packaging>=20.0 in c:\\users\\antfonseca\\appdata\\roaming\\python\\python311\\site-packages (from matplotlib) (23.2)\n",
      "Requirement already satisfied: pillow>=8 in c:\\users\\antfonseca\\appdata\\roaming\\python\\python311\\site-packages (from matplotlib) (10.1.0)\n",
      "Requirement already satisfied: pyparsing>=2.3.1 in c:\\users\\antfonseca\\appdata\\roaming\\python\\python311\\site-packages (from matplotlib) (3.1.1)\n",
      "Requirement already satisfied: affine in c:\\users\\antfonseca\\appdata\\roaming\\python\\python311\\site-packages (from rasterio) (2.4.0)\n",
      "Requirement already satisfied: attrs in c:\\users\\antfonseca\\appdata\\roaming\\python\\python311\\site-packages (from rasterio) (23.1.0)\n",
      "Requirement already satisfied: certifi in c:\\users\\antfonseca\\appdata\\roaming\\python\\python311\\site-packages (from rasterio) (2023.7.22)\n",
      "Requirement already satisfied: click>=4.0 in c:\\users\\antfonseca\\appdata\\roaming\\python\\python311\\site-packages (from rasterio) (8.1.7)\n",
      "Requirement already satisfied: cligj>=0.5 in c:\\users\\antfonseca\\appdata\\roaming\\python\\python311\\site-packages (from rasterio) (0.7.2)\n",
      "Requirement already satisfied: click-plugins in c:\\users\\antfonseca\\appdata\\roaming\\python\\python311\\site-packages (from rasterio) (1.1.1)\n",
      "Requirement already satisfied: pyproj>=3.3 in c:\\users\\antfonseca\\appdata\\roaming\\python\\python311\\site-packages (from rioxarray) (3.6.1)\n",
      "Requirement already satisfied: et-xmlfile in c:\\users\\antfonseca\\appdata\\roaming\\python\\python311\\site-packages (from openpyxl) (1.1.0)\n",
      "Requirement already satisfied: colorama in c:\\users\\antfonseca\\appdata\\roaming\\python\\python311\\site-packages (from tqdm) (0.4.6)\n",
      "Requirement already satisfied: six>=1.5 in c:\\users\\antfonseca\\appdata\\roaming\\python\\python311\\site-packages (from python-dateutil>=2.8.2->pandas) (1.16.0)\n"
     ]
    }
   ],
   "source": [
    "# Install packages needed for:\n",
    "# - numeric arrays and fast math (numpy)\n",
    "# - tabular data manipulation (pandas)\n",
    "# - plotting charts and graphs (matplotlib)\n",
    "# - reading and writing raster map files (rasterio)\n",
    "# - handling multi-dimensional map arrays with geospatial coordinates (xarray, rioxarray)\n",
    "# - exporting tables to Excel (openpyxl)\n",
    "# - showing progress bars in long loops (tqdm)\n",
    "%pip install numpy pandas matplotlib rasterio xarray rioxarray openpyxl tqdm "
   ]
  },
  {
   "cell_type": "markdown",
   "id": "c0102bb0",
   "metadata": {},
   "source": [
    "### 1.2 Import Libraries  "
   ]
  },
  {
   "cell_type": "code",
   "execution_count": 153,
   "id": "34a05528",
   "metadata": {},
   "outputs": [],
   "source": [
    "import numpy as np\n",
    "import pandas as pd\n",
    "from IPython.display import display\n",
    "import matplotlib.pyplot as plt\n",
    "import rasterio\n",
    "from rasterio.transform import from_origin\n",
    "import xarray as xr\n",
    "import rioxarray\n",
    "from tqdm import tqdm\n",
    "import openpyxl\n",
    "import os\n"
   ]
  },
  {
   "cell_type": "markdown",
   "id": "24960193",
   "metadata": {},
   "source": [
    "### 1.3 Define Constants & Settings\n",
    "In this section we set up the main parameters for the notebook. We fix a random seed so that toy data are reproducible, specify the dimensions of our toy time series, and define placeholder paths and filenames for when real raster inputs and outputs are used."
   ]
  },
  {
   "cell_type": "code",
   "execution_count": 154,
   "id": "e44bcf31",
   "metadata": {},
   "outputs": [],
   "source": [
    "# Directories\n",
    "input_dir = r\"C:\\Users\\AntFonseca\\github\\compare-time-series\\input\"\n",
    "output_dir = r\"C:\\Users\\AntFonseca\\github\\compare-time-series\\output\"\n",
    "\n",
    "# Output filenams\n",
    "metrics_excel = \"presence_change_metrics.xlsx\""
   ]
  },
  {
   "cell_type": "markdown",
   "id": "2993ad96",
   "metadata": {},
   "source": [
    "## 2. Toy Data Input Format <a id=\"data-preparation\"></a>"
   ]
  },
  {
   "cell_type": "markdown",
   "id": "9e9f7d6a",
   "metadata": {},
   "source": [
    "### 2.1 Generate or Load Toy Time Series Array\n",
    "In this section we build the toy data arrays exactly as in the article example."
   ]
  },
  {
   "cell_type": "code",
   "execution_count": 155,
   "id": "4e76d307",
   "metadata": {},
   "outputs": [],
   "source": [
    "# Dimensions matching the article’s toy example\n",
    "num_time_points = 3   # number of time points\n",
    "num_pixels = 2        # number of pixels in each snapshot\n",
    "\n",
    "# toy presence values from the article plot:\n",
    "# toy_data_x[t, n] = presence of reference series at time point t, pixel n\n",
    "# toy_data_y[t, n] = presence of comparison series at time point t, pixel n\n",
    "\n",
    "toy_data_x = np.array([\n",
    "    [2, 5],   # t = 0: reference pixel1=2, pixel2=5\n",
    "    [0, 4],   # t = 1: reference pixel1=0, pixel2=4\n",
    "    [5, 1],   # t = 2: reference pixel1=5, pixel2=1\n",
    "])\n",
    "\n",
    "toy_data_y = np.array([\n",
    "    [4, 1],   # t = 0: comparison pixel1=4, pixel2=1\n",
    "    [1, 5],   # t = 1: comparison pixel1=1, pixel2=5\n",
    "    [0, 3],   # t = 2: comparison pixel1=0, pixel2=3\n",
    "])"
   ]
  },
  {
   "cell_type": "markdown",
   "id": "def63729",
   "metadata": {},
   "source": [
    "### 2.2 Export Toy Data as Raster Files\n",
    "\n",
    "Here we write each map layer of our toy arrays to single‐band GeoTIFFs in the input folder. These rasters will later be read back in exactly like real map inputs."
   ]
  },
  {
   "cell_type": "code",
   "execution_count": 156,
   "id": "b1a9e001",
   "metadata": {},
   "outputs": [],
   "source": [
    "# Ensure input directory exists\n",
    "os.makedirs(input_dir, exist_ok=True)\n",
    "\n",
    "# Raster metadata for a 1×num_pixels image, without CRS\n",
    "height = 1\n",
    "width = num_pixels\n",
    "transform = from_origin(0, num_pixels, 1, 1)  # top‐left corner at (0, num_pixels), pixel size = 1×1\n",
    "meta = {\n",
    "    \"driver\": \"GTiff\",\n",
    "    \"height\": height,\n",
    "    \"width\": width,\n",
    "    \"count\": 1,\n",
    "    \"dtype\": toy_data_x.dtype,\n",
    "    \"transform\": transform\n",
    "}\n",
    "\n",
    "# write reference series rasters (toy_data_x)\n",
    "for t in range(num_time_points):\n",
    "    out_path = os.path.join(input_dir, f\"toy_data_x_time{t}.tif\")\n",
    "    with rasterio.open(out_path, \"w\", **meta) as dst:\n",
    "        dst.write(toy_data_x[t][np.newaxis, :], 1)\n",
    "\n",
    "# write comparison series rasters (toy_data_y)\n",
    "for t in range(num_time_points):\n",
    "    out_path = os.path.join(input_dir, f\"toy_data_y_time{t}.tif\")\n",
    "    with rasterio.open(out_path, \"w\", **meta) as dst:\n",
    "        dst.write(toy_data_y[t][np.newaxis, :], 1)\n"
   ]
  },
  {
   "cell_type": "markdown",
   "id": "15d6e3a3",
   "metadata": {},
   "source": [
    "## 3. Presence Agreement Components (Eqs 1–12) <a id=\"presence-agreement\"></a>\n",
    "In this section we compute the core presence‐agreement metrics—hits, misses, false alarms, spatial differences, and temporal differences—for each pixel at each time point, following Equations 1–12 of the article."
   ]
  },
  {
   "cell_type": "markdown",
   "id": "fff4e55d",
   "metadata": {},
   "source": [
    "### 3.1 Define Presence Variables:\n",
    "\n",
    "We load the reference (`p_x`) and comparison (`p_y`) series into two arrays of shape `(num_time_points, num_pixels)`.  \n",
    "Each element `p_x[t, n]` (or `p_y[t, n]`) holds the presence value at time point `t` and pixel `n`."
   ]
  },
  {
   "cell_type": "code",
   "execution_count": 157,
   "id": "59caa362",
   "metadata": {},
   "outputs": [
    {
     "name": "stdout",
     "output_type": "stream",
     "text": [
      "Loaded reference presence (p_x):\n",
      "[[2 5]\n",
      " [0 4]\n",
      " [5 1]]\n",
      "\n",
      "Loaded comparison presence (p_y):\n",
      "[[4 1]\n",
      " [1 5]\n",
      " [0 3]]\n"
     ]
    }
   ],
   "source": [
    "# Gather and sort the toy-data raster filenames\n",
    "x_files = sorted([\n",
    "    os.path.join(input_dir, f)\n",
    "    for f in os.listdir(input_dir)\n",
    "    if f.startswith(\"toy_data_x_time\")\n",
    "])\n",
    "y_files = sorted([\n",
    "    os.path.join(input_dir, f)\n",
    "    for f in os.listdir(input_dir)\n",
    "    if f.startswith(\"toy_data_y_time\")\n",
    "])\n",
    "\n",
    "# Initialize presence arrays\n",
    "p_x = np.zeros((num_time_points, num_pixels), dtype=toy_data_x.dtype)\n",
    "p_y = np.zeros((num_time_points, num_pixels), dtype=toy_data_y.dtype)\n",
    "\n",
    "# Load each raster layer into the arrays\n",
    "for t, fp in enumerate(x_files):\n",
    "    with rasterio.open(fp) as src:\n",
    "        # read band 1 and flatten to a 1D array of length num_pixels\n",
    "        p_x[t] = src.read(1).flatten()\n",
    "\n",
    "for t, fp in enumerate(y_files):\n",
    "    with rasterio.open(fp) as src:\n",
    "        p_y[t] = src.read(1).flatten()\n",
    "\n",
    "# Print results for verification\n",
    "print(\"Loaded reference presence (p_x):\")\n",
    "print(p_x)\n",
    "print(\"\\nLoaded comparison presence (p_y):\")\n",
    "print(p_y)"
   ]
  },
  {
   "cell_type": "markdown",
   "id": "4f7b0096",
   "metadata": {},
   "source": [
    "### 3.2 Implement Hit, Miss, False Alarm, Spatial Difference, and Temporal Difference Functions\n",
    "In this subsection we define five functions that implement Equations 1–12 for presence at each time point and pixel:\n",
    "- **hit(px, py):** amount of shared presence  \n",
    "- **miss(px, py):** amount of reference-only presence  \n",
    "- **false_alarm(px, py):** amount of comparison-only presence  \n",
    "- **spatial_diff(px, py):** difference in magnitude when both series have presence  \n",
    "- **temporal_diff(px_prev, px, py_prev, py):** timing differences across consecutive time points  \n",
    "\n",
    "Each function accepts an input array of presence values with dimensions `(num_time_points, num_pixels)` and returns a new array with the same dimensions."
   ]
  },
  {
   "cell_type": "code",
   "execution_count": 158,
   "id": "463c3dd5",
   "metadata": {},
   "outputs": [],
   "source": [
    "def hit(px, py):\n",
    "    \"\"\"\n",
    "    Presence hit: shared presence at each time point and pixel.\n",
    "    h[t, n] = min(px[t, n], py[t, n])\n",
    "    \"\"\"\n",
    "    return np.minimum(px, py)\n",
    "\n",
    "def miss(px, py):\n",
    "    \"\"\"\n",
    "    Presence miss: reference-only presence.\n",
    "    m[t, n] = max(px[t, n] - py[t, n], 0)\n",
    "    \"\"\"\n",
    "    bx = (px > 0).astype(int)\n",
    "    by = (py > 0).astype(int)\n",
    "    return np.clip(bx - by, a_min=0, a_max=None)\n",
    "\n",
    "def false_alarm(px, py):\n",
    "    \"\"\"\n",
    "    Presence false alarm: comparison-only presence.\n",
    "    f[t, n] = max(py[t, n] - px[t, n], 0)\n",
    "    \"\"\"\n",
    "    bx = (px > 0).astype(int)\n",
    "    by = (py > 0).astype(int)\n",
    "    return np.clip(by - bx, a_min=0, a_max=None)\n",
    "\n",
    "def spatial_diff(px, py):\n",
    "    \"\"\"\n",
    "    Spatial difference: magnitude difference when both have presence.\n",
    "    u[t, n] = abs(px[t, n] - py[t, n]) where both px and py > 0, else 0.\n",
    "    \"\"\"\n",
    "    diff = np.abs(px - py)\n",
    "    mask = (px > 0) & (py > 0)\n",
    "    return diff * mask\n",
    "\n",
    "def temporal_diff(px_prev, px, py_prev, py):\n",
    "    \"\"\"\n",
    "    Temporal difference: presence shifts between consecutive time points.\n",
    "    v[t, n] = abs((px[t, n] - px_prev[t, n]) - (py[t, n] - py_prev[t, n]))\n",
    "    for t = 1..T, zero for t = 0.\n",
    "    \"\"\"\n",
    "    # pad first time point with zeros\n",
    "    delta_x = px - px_prev\n",
    "    delta_y = py - py_prev\n",
    "    td = np.abs(delta_x - delta_y)\n",
    "    td[0, :] = 0\n",
    "    return td\n"
   ]
  },
  {
   "cell_type": "markdown",
   "id": "f09f2ca6",
   "metadata": {},
   "source": [
    "### 3.3 Compute Component Arrays per Time & Pixel\n",
    "In this subsection we apply our five presence‐agreement functions to the loaded arrays `p_x` and `p_y`. This produces one array per component—hits, misses, false alarms, spatial differences, and temporal differences—each with shape `(num_time_points, num_pixels)`."
   ]
  },
  {
   "cell_type": "code",
   "execution_count": 159,
   "id": "017d9319",
   "metadata": {},
   "outputs": [
    {
     "name": "stdout",
     "output_type": "stream",
     "text": [
      "hits (h):\n",
      " [[2 1]\n",
      " [0 4]\n",
      " [0 1]]\n",
      "misses (m):\n",
      " [[0 0]\n",
      " [0 0]\n",
      " [1 0]]\n",
      "false alarms (f):\n",
      " [[0 0]\n",
      " [1 0]\n",
      " [0 0]]\n",
      "spatial diffs (u):\n",
      " [[2 4]\n",
      " [0 1]\n",
      " [0 2]]\n",
      "temporal diffs (v):\n",
      " [[0 0]\n",
      " [1 5]\n",
      " [6 1]]\n"
     ]
    }
   ],
   "source": [
    "# Compute presence‐agreement components\n",
    "h = hit(p_x, p_y)\n",
    "m = miss(p_x, p_y)\n",
    "f = false_alarm(p_x, p_y)\n",
    "u = spatial_diff(p_x, p_y)\n",
    "\n",
    "# For temporal differences, build “previous” arrays by shifting and padding with zeros\n",
    "px_prev = np.vstack([np.zeros((1, num_pixels), dtype=p_x.dtype), p_x[:-1]])\n",
    "py_prev = np.vstack([np.zeros((1, num_pixels), dtype=p_y.dtype), p_y[:-1]])\n",
    "v = temporal_diff(px_prev, p_x, py_prev, p_y)\n",
    "\n",
    "# Print results for verification\n",
    "print(\"hits (h):\\n\", h)\n",
    "print(\"misses (m):\\n\", m)\n",
    "print(\"false alarms (f):\\n\", f)\n",
    "print(\"spatial diffs (u):\\n\", u)\n",
    "print(\"temporal diffs (v):\\n\", v)\n"
   ]
  },
  {
   "cell_type": "markdown",
   "id": "535a2d88",
   "metadata": {},
   "source": [
    "### 3.4 Aggregate Presence Components\n",
    "In this step we combine the per-pixel components into summary metrics:\n",
    "\n",
    "- **Spatial aggregates** (one value per time point \\(t\\)):  \n",
    "  - `H_t`: total shared presence across all pixels at time `t`  \n",
    "  - `M_t`: total reference-only presence across all pixels at time `t`  \n",
    "  - `F_t`: total comparison-only presence across all pixels at time `t`  \n",
    "  - `U_t`: total spatial difference across all pixels at time `t`  \n",
    "  - `V_t`: total temporal difference across all pixels at time `t`  \n",
    "\n",
    "- **Temporal aggregates** (one value per pixel `n`):  \n",
    "  - `H_n`: total shared presence for pixel `n` across all time points  \n",
    "  - `M_n`: total reference-only presence for pixel `n` across all time points  \n",
    "  - `F_n`: total comparison-only presence for pixel `n` across all time points  \n",
    "  - `U_n`: total spatial difference for pixel `n` across all time points  \n",
    "  - `V_n`: total temporal difference for pixel `n` across all time points  \n",
    "\n",
    "The code below computes these arrays and prints them for verification."
   ]
  },
  {
   "cell_type": "code",
   "execution_count": 160,
   "id": "496dc1d8",
   "metadata": {},
   "outputs": [
    {
     "name": "stdout",
     "output_type": "stream",
     "text": [
      "Spatial aggregates at each time point:\n",
      "H_t, M_t, F_t, U_t, V_t = [3 4 1] [0 0 1] [0 1 0] [6 1 2] [0 6 7]\n",
      "\n",
      "Temporal aggregates for each pixel:\n",
      "H_n, M_n, F_n, U_n, V_n = [2 6] [1 0] [1 0] [2 7] [7 6]\n"
     ]
    }
   ],
   "source": [
    "# Spatial aggregates per time point (axis=1 sums over pixels)\n",
    "H_t = h.sum(axis=1)\n",
    "M_t = m.sum(axis=1)\n",
    "F_t = f.sum(axis=1)\n",
    "U_t = u.sum(axis=1)\n",
    "V_t = v.sum(axis=1)\n",
    "\n",
    "# Temporal aggregates per pixel (axis=0 sums over time points)\n",
    "H_n = h.sum(axis=0)\n",
    "M_n = m.sum(axis=0)\n",
    "F_n = f.sum(axis=0)\n",
    "U_n = u.sum(axis=0)\n",
    "V_n = v.sum(axis=0)\n",
    "\n",
    "# Print results for verification\n",
    "print(\"Spatial aggregates at each time point:\")\n",
    "print(\"H_t, M_t, F_t, U_t, V_t =\", H_t, M_t, F_t, U_t, V_t)\n",
    "\n",
    "print(\"\\nTemporal aggregates for each pixel:\")\n",
    "print(\"H_n, M_n, F_n, U_n, V_n =\", H_n, M_n, F_n, U_n, V_n)\n"
   ]
  },
  {
   "cell_type": "markdown",
   "id": "32a43115",
   "metadata": {},
   "source": [
    "## 4. Change Components: Gains & Losses (Eqs 13–40) <a id=\"change-components\"></a>\n",
    "In this section we quantify change between consecutive time points by decomposing it into **gains** (positive increases) and **losses** (negative decreases) for both series. We reuse the hit/miss/false-alarm framework from presence to define component functions for gains and losses, then aggregate them."
   ]
  },
  {
   "cell_type": "markdown",
   "id": "d605fab5",
   "metadata": {},
   "source": [
    "### 4.1 Define Gain & Loss Variables:\n",
    "In this step we read each pair of consecutive raster maps from the input folder for both series (reference = x, comparison = y) and compute:\n",
    "\n",
    "- **Gain** at each pixel and interval:  \n",
    "  the amount by which the pixel’s value increased from the previous time point (zero if there was no increase).\n",
    "\n",
    "- **Loss** at each pixel and interval:  \n",
    "  the amount by which the pixel’s value decreased from the previous time point (zero if there was no decrease).\n",
    "\n",
    "- **First time point**:  \n",
    "  since there is no “previous” layer at \\(t=0\\), all gains and losses are set to zero for that time.\n",
    "\n",
    "The computed arrays—`g_x`, `g_y` for gains and `l_x`, `l_y` for losses—have the same dimensions as the presence arrays and will be passed to the gain- and loss-component functions in the following subsections."
   ]
  },
  {
   "cell_type": "code",
   "execution_count": 161,
   "id": "dfca22f7",
   "metadata": {},
   "outputs": [
    {
     "name": "stdout",
     "output_type": "stream",
     "text": [
      "Reference gains (g_x):\n",
      " [[2 5]\n",
      " [0 0]\n",
      " [5 0]]\n",
      "Comparison gains (g_y):\n",
      " [[4 1]\n",
      " [0 4]\n",
      " [0 0]]\n",
      "Reference losses (l_x):\n",
      " [[0 0]\n",
      " [2 1]\n",
      " [0 3]]\n",
      "Comparison losses (l_y):\n",
      " [[0 0]\n",
      " [3 0]\n",
      " [1 2]]\n"
     ]
    }
   ],
   "source": [
    "# Build “previous” presence arrays by shifting down and padding the first row with zeros\n",
    "px_prev = np.vstack([np.zeros((1, num_pixels), dtype=p_x.dtype), p_x[:-1]])\n",
    "py_prev = np.vstack([np.zeros((1, num_pixels), dtype=p_y.dtype), p_y[:-1]])\n",
    "\n",
    "# Compute per‐interval gains (increase amount) and losses (decrease amount)\n",
    "g_x = np.clip(p_x - px_prev, a_min=0, a_max=None)\n",
    "g_y = np.clip(p_y - py_prev, a_min=0, a_max=None)\n",
    "\n",
    "l_x = np.clip(px_prev - p_x, a_min=0, a_max=None)\n",
    "l_y = np.clip(py_prev - p_y, a_min=0, a_max=None)\n",
    "\n",
    "# Print results for verification\n",
    "print(\"Reference gains (g_x):\\n\", g_x)\n",
    "print(\"Comparison gains (g_y):\\n\", g_y)\n",
    "print(\"Reference losses (l_x):\\n\", l_x)\n",
    "print(\"Comparison losses (l_y):\\n\", l_y)\n"
   ]
  },
  {
   "cell_type": "markdown",
   "id": "d62b6ba6",
   "metadata": {},
   "source": [
    "### 4.2 Implement Gain-Component Functions\n",
    "Define functions that calculate gain hits, gain misses, gain false alarms, spatial differences, and temporal differences by substituting presence (`p`) with gains (`g`).\n"
   ]
  },
  {
   "cell_type": "code",
   "execution_count": 162,
   "id": "996179aa",
   "metadata": {},
   "outputs": [
    {
     "name": "stdout",
     "output_type": "stream",
     "text": [
      "Gain hits (h_g):\n",
      " [[2 1]\n",
      " [0 0]\n",
      " [0 0]]\n",
      "Gain misses (m_g):\n",
      " [[0 4]\n",
      " [0 0]\n",
      " [5 0]]\n",
      "Gain false alarms (f_g):\n",
      " [[2 0]\n",
      " [0 4]\n",
      " [0 0]]\n",
      "Gain spatial diffs (u_g):\n",
      " [[2 4]\n",
      " [0 0]\n",
      " [0 0]]\n",
      "Gain temporal diffs (v_g):\n",
      " [[0 0]\n",
      " [2 8]\n",
      " [5 4]]\n"
     ]
    }
   ],
   "source": [
    "# Define gain-component functions for Equations 13–28\n",
    "def gain_hit(gx, gy):\n",
    "    \"\"\"\n",
    "    Gain hit: shared positive change at each interval and pixel.\n",
    "    h_g[t, n] = min(gx[t, n], gy[t, n])\n",
    "    \"\"\"\n",
    "    return np.minimum(gx, gy)\n",
    "\n",
    "def gain_miss(gx, gy):\n",
    "    \"\"\"\n",
    "    Gain miss: reference-only gain.\n",
    "    m_g[t, n] = max(gx[t, n] - gy[t, n], 0)\n",
    "    \"\"\"\n",
    "    return np.clip(gx - gy, a_min=0, a_max=None)\n",
    "\n",
    "def gain_false_alarm(gx, gy):\n",
    "    \"\"\"\n",
    "    Gain false alarm: comparison-only gain.\n",
    "    f_g[t, n] = max(gy[t, n] - gx[t, n], 0)\n",
    "    \"\"\"\n",
    "    return np.clip(gy - gx, a_min=0, a_max=None)\n",
    "\n",
    "def gain_spatial_diff(gx, gy):\n",
    "    \"\"\"\n",
    "    Gain spatial difference: magnitude difference when both series have gain.\n",
    "    u_g[t, n] = abs(gx[t, n] - gy[t, n]) where both gx and gy > 0, else 0.\n",
    "    \"\"\"\n",
    "    diff = np.abs(gx - gy)\n",
    "    mask = (gx > 0) & (gy > 0)\n",
    "    return diff * mask\n",
    "\n",
    "def gain_temporal_diff(gx_prev, gx, gy_prev, gy):\n",
    "    \"\"\"\n",
    "    Gain temporal difference: change in gain timing between intervals.\n",
    "    v_g[t, n] = abs((gx[t, n] - gx_prev[t, n]) - (gy[t, n] - gy_prev[t, n]))\n",
    "    set to 0 for t = 0 (first interval).\n",
    "    \"\"\"\n",
    "    delta_x = gx - gx_prev\n",
    "    delta_y = gy - gy_prev\n",
    "    td_g = np.abs(delta_x - delta_y)\n",
    "    td_g[0, :] = 0\n",
    "    return td_g\n",
    "\n",
    "# Prepare \"previous\" gain arrays by shifting and padding\n",
    "g_x_prev = np.vstack([np.zeros((1, num_pixels), dtype=g_x.dtype), g_x[:-1]])\n",
    "g_y_prev = np.vstack([np.zeros((1, num_pixels), dtype=g_y.dtype), g_y[:-1]])\n",
    "\n",
    "# Test functions on the gain arrays\n",
    "h_g = gain_hit(g_x, g_y)\n",
    "m_g = gain_miss(g_x, g_y)\n",
    "f_g = gain_false_alarm(g_x, g_y)\n",
    "u_g = gain_spatial_diff(g_x, g_y)\n",
    "v_g = gain_temporal_diff(g_x_prev, g_x, g_y_prev, g_y)\n",
    "\n",
    "# Print results for verification\n",
    "print(\"Gain hits (h_g):\\n\", h_g)\n",
    "print(\"Gain misses (m_g):\\n\", m_g)\n",
    "print(\"Gain false alarms (f_g):\\n\", f_g)\n",
    "print(\"Gain spatial diffs (u_g):\\n\", u_g)\n",
    "print(\"Gain temporal diffs (v_g):\\n\", v_g)"
   ]
  },
  {
   "cell_type": "markdown",
   "id": "89af0257",
   "metadata": {},
   "source": [
    "### 4.3 Implement Loss-Component Functions\n",
    "Similarly, define loss hits, loss misses, loss false alarms, spatial differences, and temporal differences by substituting presence (`p`) with losses (`l`)."
   ]
  },
  {
   "cell_type": "code",
   "execution_count": 163,
   "id": "1e0a8c20",
   "metadata": {},
   "outputs": [
    {
     "name": "stdout",
     "output_type": "stream",
     "text": [
      "Loss hits (h_l):\n",
      " [[0 0]\n",
      " [2 0]\n",
      " [0 2]]\n",
      "Loss misses (m_l):\n",
      " [[0 0]\n",
      " [0 1]\n",
      " [0 1]]\n",
      "Loss false alarms (f_l):\n",
      " [[0 0]\n",
      " [1 0]\n",
      " [1 0]]\n",
      "Loss spatial diffs (u_l):\n",
      " [[0 0]\n",
      " [1 0]\n",
      " [0 1]]\n",
      "Loss temporal diffs (v_l):\n",
      " [[0 0]\n",
      " [1 1]\n",
      " [0 0]]\n"
     ]
    }
   ],
   "source": [
    "# Define loss-component functions for Equations 29–40\n",
    "\n",
    "def loss_hit(lx, ly):\n",
    "    \"\"\"\n",
    "    Shared negative change at each interval and pixel.\n",
    "    Returns the minimum of reference‐series loss and comparison‐series loss.\n",
    "    \"\"\"\n",
    "    return np.minimum(lx, ly)\n",
    "\n",
    "def loss_miss(lx, ly):\n",
    "    \"\"\"\n",
    "    Reference‐only loss at each interval and pixel.\n",
    "    Returns the positive difference where reference loss exceeds comparison loss.\n",
    "    \"\"\"\n",
    "    return np.clip(lx - ly, a_min=0, a_max=None)\n",
    "\n",
    "def loss_false_alarm(lx, ly):\n",
    "    \"\"\"\n",
    "    Comparison‐only loss at each interval and pixel.\n",
    "    Returns the positive difference where comparison loss exceeds reference loss.\n",
    "    \"\"\"\n",
    "    return np.clip(ly - lx, a_min=0, a_max=None)\n",
    "\n",
    "def loss_spatial_diff(lx, ly):\n",
    "    \"\"\"\n",
    "    Magnitude difference when both series have loss.\n",
    "    Calculates the absolute difference only for pixels with loss in both series.\n",
    "    \"\"\"\n",
    "    diff = np.abs(lx - ly)\n",
    "    mask = (lx > 0) & (ly > 0)\n",
    "    return diff * mask\n",
    "\n",
    "def loss_temporal_diff(lx_prev, lx, ly_prev, ly):\n",
    "    \"\"\"\n",
    "    Change in loss timing between consecutive intervals.\n",
    "    Computes absolute difference of interval‐to‐interval changes in loss.\n",
    "    Sets values to zero for the first interval.\n",
    "    \"\"\"\n",
    "    td = np.abs((lx - lx_prev) - (ly - ly_prev))\n",
    "    td[0, :] = 0\n",
    "    return td\n",
    "\n",
    "# Print results for verification\n",
    "print(\"Loss hits (h_l):\\n\", h_l)\n",
    "print(\"Loss misses (m_l):\\n\", m_l)\n",
    "print(\"Loss false alarms (f_l):\\n\", f_l)\n",
    "print(\"Loss spatial diffs (u_l):\\n\", u_l)\n",
    "print(\"Loss temporal diffs (v_l):\\n\", v_l)"
   ]
  },
  {
   "cell_type": "markdown",
   "id": "a5d344e6",
   "metadata": {},
   "source": [
    "### 4.4 Aggregate Gain & Loss Components\n",
    "Sum each gain and loss component across pixels (for each interval) and across intervals (for each pixel) to create summary change metrics."
   ]
  },
  {
   "cell_type": "code",
   "execution_count": 164,
   "id": "5d392d00",
   "metadata": {},
   "outputs": [
    {
     "name": "stdout",
     "output_type": "stream",
     "text": [
      "Gain spatial aggregates per interval: [3 0 0] [4 0 5] [2 4 0] [6 0 0] [ 0 10  9]\n",
      "Gain temporal aggregates per pixel: [2 1] [5 4] [2 4] [2 4] [ 7 12]\n",
      "Loss spatial aggregates per interval: [0 2 2] [0 1 1] [0 1 1] [0 1 1] [0 2 0]\n",
      "Loss temporal aggregates per pixel: [2 2] [0 2] [2 0] [1 1] [1 1]\n"
     ]
    }
   ],
   "source": [
    "# --- Gain aggregates ---\n",
    "\n",
    "H_g_t = h_g.sum(axis=1)\n",
    "M_g_t = m_g.sum(axis=1)\n",
    "F_g_t = f_g.sum(axis=1)\n",
    "U_g_t = u_g.sum(axis=1)\n",
    "V_g_t = v_g.sum(axis=1)\n",
    "\n",
    "H_g_n = h_g.sum(axis=0)\n",
    "M_g_n = m_g.sum(axis=0)\n",
    "F_g_n = f_g.sum(axis=0)\n",
    "U_g_n = u_g.sum(axis=0)\n",
    "V_g_n = v_g.sum(axis=0)\n",
    "\n",
    "# --- Loss aggregates ---\n",
    "\n",
    "H_l_t = h_l.sum(axis=1)\n",
    "M_l_t = m_l.sum(axis=1)\n",
    "F_l_t = f_l.sum(axis=1)\n",
    "U_l_t = u_l.sum(axis=1)\n",
    "V_l_t = v_l.sum(axis=1)\n",
    "\n",
    "H_l_n = h_l.sum(axis=0)\n",
    "M_l_n = m_l.sum(axis=0)\n",
    "F_l_n = f_l.sum(axis=0)\n",
    "U_l_n = u_l.sum(axis=0)\n",
    "V_l_n = v_l.sum(axis=0)\n",
    "\n",
    "# Print results for verification\n",
    "print(\"Gain spatial aggregates per interval:\", H_g_t, M_g_t, F_g_t, U_g_t, V_g_t)\n",
    "print(\"Gain temporal aggregates per pixel:\", H_g_n, M_g_n, F_g_n, U_g_n, V_g_n)\n",
    "print(\"Loss spatial aggregates per interval:\", H_l_t, M_l_t, F_l_t, U_l_t, V_l_t)\n",
    "print(\"Loss temporal aggregates per pixel:\", H_l_n, M_l_n, F_l_n, U_l_n, V_l_n)\n"
   ]
  },
  {
   "cell_type": "markdown",
   "id": "43dae04e",
   "metadata": {},
   "source": [
    "## 5. Full-Extent Change Metrics (Eqs 29–40, 41–52) <a id=\"full-extent\"></a>\n",
    "In this section we summarize change across the entire time series by computing total gains and losses, deriving overall quantity metrics at both interval and full-extent scales, and preparing per-pixel summary scores."
   ]
  },
  {
   "cell_type": "markdown",
   "id": "15283961",
   "metadata": {},
   "source": [
    "### 5.1 Compute Total Gains & Losses over \\(t=0\\to T\\)\n",
    "We sum each pixel’s gains and losses over all consecutive intervals.  \n",
    "- `G_x_full[n]` = total gain of pixel `n` across the whole series  \n",
    "- `G_y_full[n]` = total gain of pixel `n` in the comparison series  \n",
    "- `L_x_full[n]` = total loss of pixel `n` across the whole series  \n",
    "- `L_y_full[n]` = total loss of pixel `n` in the comparison series\n",
    "\n",
    "These arrays show how much each pixel increased or decreased from start to finish."
   ]
  },
  {
   "cell_type": "code",
   "execution_count": 165,
   "id": "f47a43ea",
   "metadata": {},
   "outputs": [
    {
     "name": "stdout",
     "output_type": "stream",
     "text": [
      "Full-extent gain (reference series) per pixel: [7 5]\n",
      "Full-extent gain (comparison series) per pixel: [4 5]\n",
      "Full-extent loss (reference series) per pixel: [2 4]\n",
      "Full-extent loss (comparison series) per pixel: [4 2]\n"
     ]
    }
   ],
   "source": [
    "# Total gain per pixel across all intervals\n",
    "G_x_full = g_x.sum(axis=0)\n",
    "G_y_full = g_y.sum(axis=0)\n",
    "\n",
    "# Total loss per pixel across all intervals\n",
    "L_x_full = l_x.sum(axis=0)\n",
    "L_y_full = l_y.sum(axis=0)\n",
    "\n",
    "# Print results for verification\n",
    "print(\"Full-extent gain (reference series) per pixel:\", G_x_full)\n",
    "print(\"Full-extent gain (comparison series) per pixel:\", G_y_full)\n",
    "print(\"Full-extent loss (reference series) per pixel:\", L_x_full)\n",
    "print(\"Full-extent loss (comparison series) per pixel:\", L_y_full)"
   ]
  },
  {
   "cell_type": "markdown",
   "id": "51486091",
   "metadata": {},
   "source": [
    "### 5.2 Quantity Metrics (Interval & Full-Extent Sums)\n",
    "Next, we aggregate gains and losses across pixels to get:  \n",
    "- **Interval sums** (one value per interval):  \n",
    "  - `Q_g_x[t]` = sum of gain in reference series across all pixels at interval `t`  \n",
    "  - `Q_l_x[t]` = sum of loss in reference series across all pixels at interval `t`  \n",
    "  (and similarly `Q_g_y[t]`, `Q_l_y[t]` for the comparison series)  \n",
    "- **Full-extent sums** (single values):  \n",
    "  - `Q_G_x` = total gain across all pixels and all intervals in the reference series  \n",
    "  - `Q_L_x` = total loss across all pixels and all intervals in the reference series  \n",
    "  (and `Q_G_y`, `Q_L_y` for the comparison series)  \n",
    "\n",
    "These metrics quantify the overall magnitude of change at both the interval level and for the full series."
   ]
  },
  {
   "cell_type": "code",
   "execution_count": 166,
   "id": "dabb13c7",
   "metadata": {},
   "outputs": [
    {
     "name": "stdout",
     "output_type": "stream",
     "text": [
      "Interval gain sums (reference series): [7 0 5]\n",
      "Interval loss sums (reference series): [0 3 3]\n",
      "Interval gain sums (comparison series): [5 4 0]\n",
      "Interval loss sums (comparison series): [0 3 3]\n",
      "\n",
      "Full-extent gain (reference series): 12\n",
      "Full-extent loss (reference series): 6\n",
      "Full-extent gain (comparison series): 9\n",
      "Full-extent loss (comparison series): 6\n"
     ]
    }
   ],
   "source": [
    "# Interval sums per interval (sum over pixels)\n",
    "q_g_x = g_x.sum(axis=1)\n",
    "q_l_x = l_x.sum(axis=1)\n",
    "q_g_y = g_y.sum(axis=1)\n",
    "q_l_y = l_y.sum(axis=1)\n",
    "\n",
    "# Full-extent sums across all intervals and pixels\n",
    "Q_G_x = g_x.sum()\n",
    "Q_L_x = l_x.sum()\n",
    "Q_G_y = g_y.sum()\n",
    "Q_L_y = l_y.sum()\n",
    "\n",
    "# Print results for verification\n",
    "print(\"Interval gain sums (reference series):\", q_g_x)\n",
    "print(\"Interval loss sums (reference series):\", q_l_x)\n",
    "print(\"Interval gain sums (comparison series):\", q_g_y)\n",
    "print(\"Interval loss sums (comparison series):\", q_l_y)\n",
    "\n",
    "print(\"\\nFull-extent gain (reference series):\", Q_G_x)\n",
    "print(\"Full-extent loss (reference series):\", Q_L_x)\n",
    "print(\"Full-extent gain (comparison series):\", Q_G_y)\n",
    "print(\"Full-extent loss (comparison series):\", Q_L_y)\n"
   ]
  },
  {
   "cell_type": "markdown",
   "id": "8e0c479b",
   "metadata": {},
   "source": [
    "### 5.3 Pixel-Wise Summary Metrics\n",
    "Finally, we compute compact scores for each pixel that combine presence-agreement and change-agreement:  \n",
    "- **Presence agreement**: `H_n` (total shared presence from Section 3)  \n",
    "- **Change agreement**: `H_g_n + H_l_n` (sum of gain hits and loss hits for pixel `n`)  \n",
    "- **Spatial difference**: `U_n + U_g_n + U_l_n` (sum of spatial discrepancies from presence, gains, and losses)  \n",
    "- **Temporal difference**: `V_n + V_g_n + V_l_n` (sum of timing discrepancies from presence, gains, and losses)  \n",
    "\n",
    "These per-pixel scores provide an at-a-glance profile of agreement versus disagreement for each location.\n"
   ]
  },
  {
   "cell_type": "code",
   "execution_count": 167,
   "id": "61c0416b",
   "metadata": {},
   "outputs": [
    {
     "data": {
      "text/html": [
       "<div>\n",
       "<style scoped>\n",
       "    .dataframe tbody tr th:only-of-type {\n",
       "        vertical-align: middle;\n",
       "    }\n",
       "\n",
       "    .dataframe tbody tr th {\n",
       "        vertical-align: top;\n",
       "    }\n",
       "\n",
       "    .dataframe thead th {\n",
       "        text-align: right;\n",
       "    }\n",
       "</style>\n",
       "<table border=\"1\" class=\"dataframe\">\n",
       "  <thead>\n",
       "    <tr style=\"text-align: right;\">\n",
       "      <th></th>\n",
       "      <th>presence_agreement</th>\n",
       "      <th>presence_difference</th>\n",
       "      <th>change_agreement</th>\n",
       "      <th>change_difference</th>\n",
       "    </tr>\n",
       "  </thead>\n",
       "  <tbody>\n",
       "    <tr>\n",
       "      <th>pixel_0</th>\n",
       "      <td>2</td>\n",
       "      <td>8</td>\n",
       "      <td>4</td>\n",
       "      <td>9</td>\n",
       "    </tr>\n",
       "    <tr>\n",
       "      <th>pixel_1</th>\n",
       "      <td>6</td>\n",
       "      <td>7</td>\n",
       "      <td>3</td>\n",
       "      <td>10</td>\n",
       "    </tr>\n",
       "  </tbody>\n",
       "</table>\n",
       "</div>"
      ],
      "text/plain": [
       "         presence_agreement  presence_difference  change_agreement  \\\n",
       "pixel_0                   2                    8                 4   \n",
       "pixel_1                   6                    7                 3   \n",
       "\n",
       "         change_difference  \n",
       "pixel_0                  9  \n",
       "pixel_1                 10  "
      ]
     },
     "metadata": {},
     "output_type": "display_data"
    }
   ],
   "source": [
    "# 1. Total presence agreement per pixel (from Section 3.4)\n",
    "H_n = h.sum(axis=0)\n",
    "\n",
    "# 2. Total presence difference per pixel\n",
    "Dp_n = np.abs(p_x - p_y).sum(axis=0)\n",
    "\n",
    "# 3. Total change agreement per pixel (gain hits + loss hits)\n",
    "C_n = h_g.sum(axis=0) + h_l.sum(axis=0)\n",
    "\n",
    "# 4. Total change difference per pixel (sum of gain and loss magnitude differences)\n",
    "Dc_n = np.abs(g_x - g_y).sum(axis=0) + np.abs(l_x - l_y).sum(axis=0)\n",
    "\n",
    "# Combine into a pandas DataFrame\n",
    "pixel_scores = pd.DataFrame({\n",
    "    \"presence_agreement\": H_n,\n",
    "    \"presence_difference\": Dp_n,\n",
    "    \"change_agreement\": C_n,\n",
    "    \"change_difference\": Dc_n\n",
    "}, index=[f\"pixel_{i}\" for i in range(H_n.size)])\n",
    "\n",
    "# Display the DataFrame in the notebook\n",
    "display(pixel_scores)\n"
   ]
  },
  {
   "cell_type": "markdown",
   "id": "d8ccab66",
   "metadata": {},
   "source": [
    "## 6. Visualization of Results <a id=\"visualization\"></a>\n",
    "In this section we create clear, publication-quality charts to illustrate the computed metrics. Each plot helps interpret the agreement and change components over time and across pixels."
   ]
  },
  {
   "cell_type": "markdown",
   "id": "90424f49",
   "metadata": {},
   "source": [
    "### 6.1 Stacked Bar Chart: Presence Agreement\n",
    "\n",
    "We plot a stacked bar chart showing, for each time point, the contributions of:  \n",
    "- shared presence (hits)\n",
    "- reference-only presence (misses)\n",
    "- comparison-only presence (false alarms)\n",
    "- spatial differences\n",
    "- temporal differences\n",
    "\n",
    "This reveals how presence agreement and disagreement evolve over time."
   ]
  },
  {
   "cell_type": "code",
   "execution_count": 168,
   "id": "2e419c55",
   "metadata": {},
   "outputs": [
    {
     "data": {
      "image/png": "[encoded data removed]",
      "text/plain": [
       "<Figure size 800x500 with 1 Axes>"
      ]
     },
     "metadata": {},
     "output_type": "display_data"
    }
   ],
   "source": [
    "# 1) Per-timepoint component sums (t=0,1,2)\n",
    "hits_tp   = h.sum(axis=1)\n",
    "misses_tp = m.sum(axis=1)\n",
    "false_tp  = f.sum(axis=1)\n",
    "\n",
    "# 2) Full-extent (Sum) component sums\n",
    "hits_sum   = hits_tp.sum()\n",
    "misses_sum = misses_tp.sum()\n",
    "false_sum  = false_tp.sum()\n",
    "space_sum  = u.sum()\n",
    "time_sum   = v.sum()\n",
    "\n",
    "# 3) Assemble arrays for bars at positions [0,1,2,Sum]\n",
    "hits_all   = np.append(hits_tp,hits_sum)\n",
    "misses_all = np.append(misses_tp,misses_sum)\n",
    "false_all  = np.append(false_tp,false_sum)\n",
    "space_all  = np.array([0, 0, 0,space_sum])\n",
    "time_all   = np.array([0, 0, 0,time_sum])\n",
    "\n",
    "# 4) Reference & comparison series totals\n",
    "ref_tp   = p_x.sum(axis=1)\n",
    "comp_tp  = p_y.sum(axis=1)\n",
    "ref_all  = np.append(ref_tp,ref_tp.sum())\n",
    "comp_all = np.append(comp_tp,comp_tp.sum())\n",
    "\n",
    "# 5) Plotting\n",
    "categories = ['0', '1', '2', 'Sum']\n",
    "x = np.arange(len(categories))\n",
    "\n",
    "plt.figure(figsize=(8, 5))\n",
    "\n",
    "# Stacked bars\n",
    "plt.bar(x,\n",
    "        hits_all,\n",
    "        color='black',\n",
    "        label='Hit'\n",
    "        )\n",
    "plt.bar(x,\n",
    "        misses_all,\n",
    "        bottom=hits_all,\n",
    "        facecolor='white',\n",
    "        edgecolor='black',\n",
    "        hatch='///',\n",
    "        label='Miss'\n",
    "        )\n",
    "plt.bar(x,\n",
    "        false_all,\n",
    "        bottom=hits_all+misses_all,\n",
    "        facecolor='white',\n",
    "        edgecolor='black',\n",
    "        hatch='\\\\\\\\',\n",
    "        label='False Alarm'\n",
    "        )\n",
    "plt.bar(x,\n",
    "        space_all,\n",
    "        bottom=hits_all+misses_all+false_all,\n",
    "        color='gray',\n",
    "        label='Space Difference'\n",
    "        )\n",
    "plt.bar(x,\n",
    "        time_all,\n",
    "        bottom=hits_all+misses_all+false_all+space_all,\n",
    "        color='lightgray',\n",
    "        label='Time Difference'\n",
    "        )\n",
    "\n",
    "# Overlay reference/comparison lines only for t=0,1,2\n",
    "plt.plot(x[:num_time_points],\n",
    "         ref_tp,color='green',\n",
    "         linestyle='-',\n",
    "         marker='o',\n",
    "         label='Reference'\n",
    "         )\n",
    "\n",
    "plt.plot(x[:num_time_points],\n",
    "         comp_tp,color='yellow',\n",
    "         linestyle='--',\n",
    "         marker='s',\n",
    "         label='Comparison'\n",
    "         )\n",
    "\n",
    "# Axes, ticks, grid\n",
    "plt.xlabel('Time Point')\n",
    "plt.ylabel('Presence')\n",
    "# plt.title('Presence Agreement Components Over Time')\n",
    "plt.xticks(x, categories)\n",
    "plt.ylim(0, 17)\n",
    "plt.yticks(np.arange(0, 18, 1))\n",
    "\n",
    "# Legend outside plot\n",
    "plt.legend(loc='upper left',\n",
    "           bbox_to_anchor=(1, 1)\n",
    "           )\n",
    "\n",
    "plt.tight_layout()\n",
    "plt.show()"
   ]
  },
  {
   "cell_type": "code",
   "execution_count": 169,
   "id": "48d7eff0",
   "metadata": {},
   "outputs": [
    {
     "data": {
      "image/png": "[encoded data removed]",
      "text/plain": [
       "<Figure size 800x500 with 1 Axes>"
      ]
     },
     "metadata": {},
     "output_type": "display_data"
    }
   ],
   "source": [
    "# Component values for each category: time points 0,1,2 and Sum\n",
    "hits = np.array([3, 4, 1, 8])\n",
    "space_diff = np.array([2, 0, 2, 4])\n",
    "time_diff = np.array([0, 0, 0, 2])\n",
    "misses = np.array([2, 0, 3, 3])\n",
    "false_alarms = np.array([0, 2, 0, 0])\n",
    "\n",
    "# Reference and comparison series sums\n",
    "ref_sum = np.array([7, 4, 6, 17])\n",
    "comp_sum = np.array([5, 6, 3, 14])\n",
    "\n",
    "# Categories and positions\n",
    "categories = ['0', '1', '2', 'Sum']\n",
    "x = np.arange(len(categories))\n",
    "\n",
    "plt.figure(figsize=(8, 5))\n",
    "\n",
    "# Stacked bars\n",
    "plt.bar(x, hits, color='black', label='Hit')\n",
    "plt.bar(x, space_diff, bottom=hits, color='gray', label='Space Difference')\n",
    "plt.bar(x, time_diff, bottom=hits + space_diff, color='lightgray', label='Time Difference')\n",
    "plt.bar(x, misses, bottom=hits + space_diff + time_diff,\n",
    "        facecolor='white', edgecolor='black', hatch='///', label='Miss')\n",
    "plt.bar(x, false_alarms, bottom=hits + space_diff + time_diff + misses,\n",
    "        facecolor='white', edgecolor='black', hatch='\\\\\\\\', label='False Alarm')\n",
    "\n",
    "# x positions for the 3 actual time points\n",
    "x_line = x[:3]\n",
    "\n",
    "# Overlay series sums\n",
    "plt.plot(x_line, ref_sum[:3], color='green', marker='o', label='Reference')\n",
    "plt.plot(x_line, comp_sum[:3], color='yellow', linestyle='--', marker='s', label='Comparison')\n",
    "\n",
    "# Axes and grid\n",
    "plt.xlabel('Time Point')\n",
    "plt.ylabel('Presence')\n",
    "plt.title('Graphic from the article')\n",
    "plt.ylim(0, 17)\n",
    "plt.yticks(np.arange(0, 18, 1))\n",
    "plt.xticks(x, categories)\n",
    "# plt.grid(axis='y', linestyle='--', linewidth=0.5)\n",
    "\n",
    "# Legend outside plot\n",
    "plt.legend(loc='upper left', bbox_to_anchor=(1, 1))\n",
    "\n",
    "plt.tight_layout()\n",
    "plt.show()"
   ]
  },
  {
   "cell_type": "markdown",
   "id": "af5eb282",
   "metadata": {},
   "source": [
    "### 6.2 Stacked Bar Chart: Gain & Loss Components\n",
    "Next, we generate two side-by-side stacked bar charts—one for gains and one for losses—showing, at each interval:  \n",
    "- shared change (gain hits or loss hits)  \n",
    "- reference-only change (gain misses or loss misses)  \n",
    "- comparison-only change (gain false alarms or loss false alarms)  \n",
    "- spatial change differences  \n",
    "- timing differences  \n",
    "\n",
    "This highlights when and where increases or decreases align or diverge."
   ]
  },
  {
   "cell_type": "code",
   "execution_count": null,
   "id": "c158d6d3",
   "metadata": {},
   "outputs": [],
   "source": []
  },
  {
   "cell_type": "markdown",
   "id": "61a5ba0b",
   "metadata": {},
   "source": [
    "### 6.3 Composition of Full-Extent Change\n",
    "Finally, we present a combined bar chart of total gains and total losses over the entire series (the “full extent”), with each component stacked. This summary plot shows overall change magnitude and the balance between agreement and disagreement across all intervals."
   ]
  },
  {
   "cell_type": "code",
   "execution_count": null,
   "id": "8abeb828",
   "metadata": {},
   "outputs": [],
   "source": []
  },
  {
   "cell_type": "markdown",
   "id": "c6ceb39d",
   "metadata": {},
   "source": [
    "## 7. Exporting Results <a id=\"export\"></a>"
   ]
  },
  {
   "cell_type": "markdown",
   "id": "a051ccf2",
   "metadata": {},
   "source": [
    "### 7.1 Save Metrics DataFrame to CSV/Excel  "
   ]
  },
  {
   "cell_type": "markdown",
   "id": "f6d51250",
   "metadata": {},
   "source": [
    "### 7.2 Save Figures (PNG)  "
   ]
  }
 ],
 "metadata": {
  "kernelspec": {
   "display_name": "base",
   "language": "python",
   "name": "python3"
  },
  "language_info": {
   "codemirror_mode": {
    "name": "ipython",
    "version": 3
   },
   "file_extension": ".py",
   "mimetype": "text/x-python",
   "name": "python",
   "nbconvert_exporter": "python",
   "pygments_lexer": "ipython3",
   "version": "3.11.4"
  }
 },
 "nbformat": 4,
 "nbformat_minor": 5
}
