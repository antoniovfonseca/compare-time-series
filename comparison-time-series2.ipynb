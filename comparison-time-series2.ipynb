{
 "cells": [
  {
   "cell_type": "markdown",
   "id": "368d96e5",
   "metadata": {},
   "source": [
    "# Comparison of Two Time Series of Maps 1.0\n",
    "*This notebook implements the framework from the article “Foundational concepts and equations to compare two time series of maps” to quantify and visualize agreement and change between two temporal map series. Using toy data, it defines modular Python functions to compute presence‐agreement components, gains and losses, and full‐extent change metrics, and produces clear visualizations and exportable results for reproducible analysis.*"
   ]
  },
  {
   "cell_type": "markdown",
   "id": "32d183b7",
   "metadata": {},
   "source": [
    "## Table of Contents  \n",
    "1. [Environment Setup](#environment-setup)\n",
    "2. [Toy Data Input Format](#data-preparation)\n",
    "3. [Presence Agreement Components (Eqs 1–12)](#presence-agreement)\n",
    "4. [Change Components: Gains & Losses (Eqs 13–40)](#change-components)\n",
    "5. [Net Change Calculations](#full-extent)\n",
    "6. [Visualization of Results](#visualization)\n",
    "7. [Exporting Results](#export)\n"
   ]
  },
  {
   "cell_type": "markdown",
   "id": "7a2a9132",
   "metadata": {},
   "source": [
    "## 1. Environment Setup <a id=\"environment-setup\"></a>"
   ]
  },
  {
   "cell_type": "markdown",
   "id": "3a1efd46",
   "metadata": {},
   "source": [
    "### 1.1 Install Dependencies  "
   ]
  },
  {
   "cell_type": "code",
   "execution_count": 1,
   "id": "b4535208",
   "metadata": {},
   "outputs": [
    {
     "name": "stdout",
     "output_type": "stream",
     "text": [
      "Requirement already satisfied: numpy in c:\\users\\antfonseca\\appdata\\roaming\\python\\python311\\site-packages (1.26.2)Note: you may need to restart the kernel to use updated packages.\n",
      "\n",
      "Requirement already satisfied: pandas in c:\\users\\antfonseca\\appdata\\roaming\\python\\python311\\site-packages (2.1.3)\n",
      "Requirement already satisfied: matplotlib in c:\\users\\antfonseca\\appdata\\roaming\\python\\python311\\site-packages (3.8.2)\n",
      "Requirement already satisfied: rasterio in c:\\users\\antfonseca\\appdata\\roaming\\python\\python311\\site-packages (1.4.3)\n",
      "Requirement already satisfied: xarray in c:\\users\\antfonseca\\appdata\\roaming\\python\\python311\\site-packages (2024.9.0)\n",
      "Requirement already satisfied: rioxarray in c:\\users\\antfonseca\\appdata\\local\\miniconda3\\lib\\site-packages (0.19.0)\n",
      "Requirement already satisfied: openpyxl in c:\\users\\antfonseca\\appdata\\roaming\\python\\python311\\site-packages (3.1.2)\n",
      "Requirement already satisfied: tqdm in c:\\users\\antfonseca\\appdata\\roaming\\python\\python311\\site-packages (4.66.1)\n",
      "Requirement already satisfied: python-dateutil>=2.8.2 in c:\\users\\antfonseca\\appdata\\roaming\\python\\python311\\site-packages (from pandas) (2.8.2)\n",
      "Requirement already satisfied: pytz>=2020.1 in c:\\users\\antfonseca\\appdata\\roaming\\python\\python311\\site-packages (from pandas) (2023.3.post1)\n",
      "Requirement already satisfied: tzdata>=2022.1 in c:\\users\\antfonseca\\appdata\\roaming\\python\\python311\\site-packages (from pandas) (2023.3)\n",
      "Requirement already satisfied: contourpy>=1.0.1 in c:\\users\\antfonseca\\appdata\\roaming\\python\\python311\\site-packages (from matplotlib) (1.2.0)\n",
      "Requirement already satisfied: cycler>=0.10 in c:\\users\\antfonseca\\appdata\\roaming\\python\\python311\\site-packages (from matplotlib) (0.12.1)\n",
      "Requirement already satisfied: fonttools>=4.22.0 in c:\\users\\antfonseca\\appdata\\roaming\\python\\python311\\site-packages (from matplotlib) (4.47.2)\n",
      "Requirement already satisfied: kiwisolver>=1.3.1 in c:\\users\\antfonseca\\appdata\\roaming\\python\\python311\\site-packages (from matplotlib) (1.4.5)\n",
      "Requirement already satisfied: packaging>=20.0 in c:\\users\\antfonseca\\appdata\\roaming\\python\\python311\\site-packages (from matplotlib) (23.2)\n",
      "Requirement already satisfied: pillow>=8 in c:\\users\\antfonseca\\appdata\\roaming\\python\\python311\\site-packages (from matplotlib) (10.1.0)\n",
      "Requirement already satisfied: pyparsing>=2.3.1 in c:\\users\\antfonseca\\appdata\\roaming\\python\\python311\\site-packages (from matplotlib) (3.1.1)\n",
      "Requirement already satisfied: affine in c:\\users\\antfonseca\\appdata\\roaming\\python\\python311\\site-packages (from rasterio) (2.4.0)\n",
      "Requirement already satisfied: attrs in c:\\users\\antfonseca\\appdata\\roaming\\python\\python311\\site-packages (from rasterio) (23.1.0)\n",
      "Requirement already satisfied: certifi in c:\\users\\antfonseca\\appdata\\roaming\\python\\python311\\site-packages (from rasterio) (2023.7.22)\n",
      "Requirement already satisfied: click>=4.0 in c:\\users\\antfonseca\\appdata\\roaming\\python\\python311\\site-packages (from rasterio) (8.1.7)\n",
      "Requirement already satisfied: cligj>=0.5 in c:\\users\\antfonseca\\appdata\\roaming\\python\\python311\\site-packages (from rasterio) (0.7.2)\n",
      "Requirement already satisfied: click-plugins in c:\\users\\antfonseca\\appdata\\roaming\\python\\python311\\site-packages (from rasterio) (1.1.1)\n",
      "Requirement already satisfied: pyproj>=3.3 in c:\\users\\antfonseca\\appdata\\roaming\\python\\python311\\site-packages (from rioxarray) (3.6.1)\n",
      "Requirement already satisfied: et-xmlfile in c:\\users\\antfonseca\\appdata\\roaming\\python\\python311\\site-packages (from openpyxl) (1.1.0)\n",
      "Requirement already satisfied: colorama in c:\\users\\antfonseca\\appdata\\roaming\\python\\python311\\site-packages (from tqdm) (0.4.6)\n",
      "Requirement already satisfied: six>=1.5 in c:\\users\\antfonseca\\appdata\\roaming\\python\\python311\\site-packages (from python-dateutil>=2.8.2->pandas) (1.16.0)\n"
     ]
    }
   ],
   "source": [
    "# Install packages needed for:\n",
    "# - numeric arrays and fast math (numpy)\n",
    "# - tabular data manipulation (pandas)\n",
    "# - plotting charts and graphs (matplotlib)\n",
    "# - reading and writing raster map files (rasterio)\n",
    "# - handling multi-dimensional map arrays with geospatial coordinates (xarray, rioxarray)\n",
    "# - exporting tables to Excel (openpyxl)\n",
    "# - showing progress bars in long loops (tqdm)\n",
    "%pip install numpy pandas matplotlib rasterio xarray rioxarray openpyxl tqdm "
   ]
  },
  {
   "cell_type": "markdown",
   "id": "c0102bb0",
   "metadata": {},
   "source": [
    "### 1.2 Import Libraries  "
   ]
  },
  {
   "cell_type": "code",
   "execution_count": 2,
   "id": "34a05528",
   "metadata": {},
   "outputs": [],
   "source": [
    "import numpy as np\n",
    "import pandas as pd\n",
    "from IPython.display import display\n",
    "import matplotlib.pyplot as plt\n",
    "import rasterio\n",
    "from rasterio.transform import from_origin\n",
    "import xarray as xr\n",
    "import rioxarray\n",
    "from tqdm import tqdm\n",
    "import openpyxl\n",
    "import os\n"
   ]
  },
  {
   "cell_type": "markdown",
   "id": "24960193",
   "metadata": {},
   "source": [
    "### 1.3 Define Constants & Settings\n",
    "In this section we set up the main parameters for the notebook. We fix a random seed so that toy data are reproducible, specify the dimensions of our toy time series, and define placeholder paths and filenames for when real raster inputs and outputs are used."
   ]
  },
  {
   "cell_type": "code",
   "execution_count": 3,
   "id": "e44bcf31",
   "metadata": {},
   "outputs": [],
   "source": [
    "# Directories\n",
    "input_dir = r\"C:\\Users\\AntFonseca\\github\\compare-time-series\\input\"\n",
    "output_dir = r\"C:\\Users\\AntFonseca\\github\\compare-time-series\\output\"\n",
    "\n",
    "# Output filenams\n",
    "metrics_excel = \"presence_change_metrics.xlsx\""
   ]
  },
  {
   "cell_type": "markdown",
   "id": "2993ad96",
   "metadata": {},
   "source": [
    "## 2. Toy Data Input Format <a id=\"data-preparation\"></a>"
   ]
  },
  {
   "cell_type": "markdown",
   "id": "9e9f7d6a",
   "metadata": {},
   "source": [
    "### 2.1 Generate or Load Toy Time Series Array\n",
    "In this section we build the toy data arrays exactly as in the article example."
   ]
  },
  {
   "cell_type": "code",
   "execution_count": 4,
   "id": "4e76d307",
   "metadata": {},
   "outputs": [],
   "source": [
    "# Dimensions matching the article’s toy example\n",
    "num_time_points = 3   # number of time points\n",
    "num_pixels = 2        # number of pixels in each snapshot\n",
    "\n",
    "# toy presence values from the article plot:\n",
    "# toy_data_x[t, n] = presence of reference series at time point t, pixel n\n",
    "# toy_data_y[t, n] = presence of comparison series at time point t, pixel n\n",
    "\n",
    "toy_data_x = np.array([\n",
    "    [2, 5],   # t = 0: reference pixel1=2, pixel2=5\n",
    "    [0, 4],   # t = 1: reference pixel1=0, pixel2=4\n",
    "    [5, 1],   # t = 2: reference pixel1=5, pixel2=1\n",
    "])\n",
    "\n",
    "toy_data_y = np.array([\n",
    "    [4, 1],   # t = 0: comparison pixel1=4, pixel2=1\n",
    "    [1, 5],   # t = 1: comparison pixel1=1, pixel2=5\n",
    "    [0, 3],   # t = 2: comparison pixel1=0, pixel2=3\n",
    "])"
   ]
  },
  {
   "cell_type": "markdown",
   "id": "def63729",
   "metadata": {},
   "source": [
    "### 2.2 Export Toy Data as Raster Files\n",
    "\n",
    "Here we write each map layer of our toy arrays to single‐band GeoTIFFs in the input folder. These rasters will later be read back in exactly like real map inputs."
   ]
  },
  {
   "cell_type": "code",
   "execution_count": 5,
   "id": "b1a9e001",
   "metadata": {},
   "outputs": [],
   "source": [
    "# Ensure input directory exists\n",
    "os.makedirs(input_dir, exist_ok=True)\n",
    "\n",
    "# Raster metadata for a 1×num_pixels image, without CRS\n",
    "height = 1\n",
    "width = num_pixels\n",
    "transform = from_origin(0, num_pixels, 1, 1)  # top‐left corner at (0, num_pixels), pixel size = 1×1\n",
    "meta = {\n",
    "    \"driver\": \"GTiff\",\n",
    "    \"height\": height,\n",
    "    \"width\": width,\n",
    "    \"count\": 1,\n",
    "    \"dtype\": toy_data_x.dtype,\n",
    "    \"transform\": transform\n",
    "}\n",
    "\n",
    "# write reference series rasters (toy_data_x)\n",
    "for t in range(num_time_points):\n",
    "    out_path = os.path.join(input_dir, f\"toy_data_x_time{t}.tif\")\n",
    "    with rasterio.open(out_path, \"w\", **meta) as dst:\n",
    "        dst.write(toy_data_x[t][np.newaxis, :], 1)\n",
    "\n",
    "# write comparison series rasters (toy_data_y)\n",
    "for t in range(num_time_points):\n",
    "    out_path = os.path.join(input_dir, f\"toy_data_y_time{t}.tif\")\n",
    "    with rasterio.open(out_path, \"w\", **meta) as dst:\n",
    "        dst.write(toy_data_y[t][np.newaxis, :], 1)\n"
   ]
  },
  {
   "cell_type": "markdown",
   "id": "15d6e3a3",
   "metadata": {},
   "source": [
    "## 3. Presence Agreement Components <a id=\"presence-agreement\"></a>\n",
    "In this section we compute the core presence‐agreement metrics—hits, misses, false alarms, spatial differences, and temporal differences—for each pixel at each time point, following Equations 1–12 of the article."
   ]
  },
  {
   "cell_type": "markdown",
   "id": "fff4e55d",
   "metadata": {},
   "source": [
    "### 3.1 Define Presence Variables:\n",
    "\n",
    "We load the reference (`p_x`) and comparison (`p_y`) series into two arrays of shape `(num_time_points, num_pixels)`.  \n",
    "Each element `p_x[t, n]` (or `p_y[t, n]`) holds the presence value at time point `t` and pixel `n`."
   ]
  },
  {
   "cell_type": "code",
   "execution_count": 6,
   "id": "59caa362",
   "metadata": {},
   "outputs": [
    {
     "name": "stdout",
     "output_type": "stream",
     "text": [
      "Loaded reference presence (p_x):\n",
      "[[2 5]\n",
      " [0 4]\n",
      " [5 1]]\n",
      "\n",
      "Loaded comparison presence (p_y):\n",
      "[[4 1]\n",
      " [1 5]\n",
      " [0 3]]\n"
     ]
    }
   ],
   "source": [
    "# Gather and sort the toy-data raster filenames\n",
    "x_files = sorted([\n",
    "    os.path.join(input_dir, f)\n",
    "    for f in os.listdir(input_dir)\n",
    "    if f.startswith(\"toy_data_x_time\")\n",
    "])\n",
    "y_files = sorted([\n",
    "    os.path.join(input_dir, f)\n",
    "    for f in os.listdir(input_dir)\n",
    "    if f.startswith(\"toy_data_y_time\")\n",
    "])\n",
    "\n",
    "# Initialize presence arrays\n",
    "p_x = np.zeros((num_time_points, num_pixels), dtype=toy_data_x.dtype)\n",
    "p_y = np.zeros((num_time_points, num_pixels), dtype=toy_data_y.dtype)\n",
    "\n",
    "# Load each raster layer into the arrays\n",
    "for t, fp in enumerate(x_files):\n",
    "    with rasterio.open(fp) as src:\n",
    "        # read band 1 and flatten to a 1D array of length num_pixels\n",
    "        p_x[t] = src.read(1).flatten()\n",
    "\n",
    "for t, fp in enumerate(y_files):\n",
    "    with rasterio.open(fp) as src:\n",
    "        p_y[t] = src.read(1).flatten()\n",
    "\n",
    "# Print results for verification\n",
    "print(\"Loaded reference presence (p_x):\")\n",
    "print(p_x)\n",
    "print(\"\\nLoaded comparison presence (p_y):\")\n",
    "print(p_y)"
   ]
  },
  {
   "cell_type": "markdown",
   "id": "4f7b0096",
   "metadata": {},
   "source": [
    "### 3.2 Implement Hit, Miss, False Alarm, Spatial Difference, and Temporal Difference Functions\n",
    "In this subsection we define five functions that implement Equations 1–12 for presence at each time point and pixel:\n",
    "- **hit(px, py):** amount of shared presence  \n",
    "- **miss(px, py):** amount of reference-only presence  \n",
    "- **false_alarm(px, py):** amount of comparison-only presence  \n",
    "- **spatial_diff(px, py):** difference in magnitude when both series have presence  \n",
    "- **temporal_diff(px_prev, px, py_prev, py):** timing differences across consecutive time points  \n",
    "\n",
    "Each function accepts an input array of presence values with dimensions `(num_time_points, num_pixels)` and returns a new array with the same dimensions."
   ]
  },
  {
   "cell_type": "code",
   "execution_count": 7,
   "id": "463c3dd5",
   "metadata": {},
   "outputs": [],
   "source": [
    "def hit(px, py):\n",
    "    \"\"\"\n",
    "    Presence hit: shared magnitude of presence at each time and pixel.\n",
    "    h[t,n] = min(px[t,n], py[t,n])\n",
    "    \"\"\"\n",
    "    return np.minimum(px, py)\n",
    "\n",
    "def miss(px, py):\n",
    "    \"\"\"\n",
    "    Presence miss: reference‐only magnitude.\n",
    "    m[t,n] = max(px[t,n] - py[t,n], 0)\n",
    "    \"\"\"\n",
    "    return np.clip(px - py, a_min=0, a_max=None)\n",
    "\n",
    "def false_alarm(px, py):\n",
    "    \"\"\"\n",
    "    Presence false alarm: comparison‐only magnitude.\n",
    "    f[t,n] = max(py[t,n] - px[t,n], 0)\n",
    "    \"\"\"\n",
    "    return np.clip(py - px, a_min=0, a_max=None)\n",
    "\n",
    "def spatial_diff(px, py):\n",
    "    \"\"\"\n",
    "    Spatial difference: magnitude difference when both are present.\n",
    "    u[t,n] = |px[t,n] - py[t,n]| if px>0 and py>0, else 0.\n",
    "    \"\"\"\n",
    "    diff = np.abs(px - py)\n",
    "    mask = (px > 0) & (py > 0)\n",
    "    return diff * mask\n",
    "\n",
    "def temporal_diff(px_prev, px, py_prev, py):\n",
    "    \"\"\"\n",
    "    Temporal difference: magnitude change‐timing difference.\n",
    "    v[t,n] = |(px-px_prev) - (py-py_prev)|, zero at t=0.\n",
    "    \"\"\"\n",
    "    delta_x = px - px_prev\n",
    "    delta_y = py - py_prev\n",
    "    td = np.abs(delta_x - delta_y)\n",
    "    td[0, :] = 0\n",
    "    return td\n"
   ]
  },
  {
   "cell_type": "markdown",
   "id": "f09f2ca6",
   "metadata": {},
   "source": [
    "### 3.3 Compute Component Arrays per Time & Pixel\n",
    "In this subsection we apply our five presence‐agreement functions to the loaded arrays `p_x` and `p_y`. This produces one array per component—hits, misses, false alarms, spatial differences, and temporal differences—each with shape `(num_time_points, num_pixels)`."
   ]
  },
  {
   "cell_type": "code",
   "execution_count": 8,
   "id": "017d9319",
   "metadata": {},
   "outputs": [
    {
     "name": "stdout",
     "output_type": "stream",
     "text": [
      "[3 4 1]\n",
      "[2 0 2]\n",
      "[2 0 3]\n",
      "[0 2 0]\n",
      "[0 0 0]\n"
     ]
    }
   ],
   "source": [
    "# Section 3.3: Compute per-timepoint summary metrics from totals\n",
    "\n",
    "# 1) total presence per time point\n",
    "px_sum       = p_x.sum(axis=1)  # e.g. [7,4,6]\n",
    "py_sum       = p_y.sum(axis=1)  # e.g. [5,6,3]\n",
    "\n",
    "# 2) hit: sum of shared magnitude\n",
    "hits_tp      = np.minimum(p_x, p_y).sum(axis=1)  \n",
    "#               [min(2,4)+min(5,1), …] → [3,4,1]\n",
    "\n",
    "# 3) space_diff: overlap in magnitude beyond hit\n",
    "space_diff   = np.minimum(px_sum, py_sum) - hits_tp  \n",
    "#               [min(7,5)-3, min(4,6)-4, min(6,3)-1] → [2,0,2]\n",
    "\n",
    "# 4) miss: excess reference presence\n",
    "misses_tp    = np.clip(px_sum - py_sum, a_min=0, a_max=None)  \n",
    "#               [7-5, 4-6, 6-3] clipped → [2,0,3]\n",
    "\n",
    "# 5) false_alarm: excess comparison presence\n",
    "false_tp     = np.clip(py_sum - px_sum, a_min=0, a_max=None)  \n",
    "#               [5-7, 6-4, 3-6] clipped → [0,2,0]\n",
    "\n",
    "# 6) time_diff: always zero at each time point\n",
    "time_diff_tp = np.zeros_like(hits_tp, dtype=int)\n",
    "\n",
    "print(hits_tp)       # [3, 4, 1]\n",
    "print(space_diff)    # [2, 0, 2]\n",
    "print(misses_tp)     # [2, 0, 3]\n",
    "print(false_tp)      # [0, 2, 0]\n",
    "print(time_diff_tp)  # [0, 0, 0]\n"
   ]
  },
  {
   "cell_type": "markdown",
   "id": "32a43115",
   "metadata": {},
   "source": [
    "## 4. Change Components: Gains & Losses <a id=\"change-components\"></a>\n",
    "In this section we quantify change between consecutive time points by decomposing it into **gains** (positive increases) and **losses** (negative decreases) for both series. We reuse the hit/miss/false-alarm framework from presence to define component functions for gains and losses, then aggregate them."
   ]
  },
  {
   "cell_type": "markdown",
   "id": "d605fab5",
   "metadata": {},
   "source": [
    "### 4.1 Define Gain & Loss Variables:\n",
    "In this step we read each pair of consecutive raster maps from the input folder for both series (reference = x, comparison = y) and compute:\n",
    "\n",
    "- **Gain** at each pixel and interval:  \n",
    "  the amount by which the pixel’s value increased from the previous time point (zero if there was no increase).\n",
    "\n",
    "- **Loss** at each pixel and interval:  \n",
    "  the amount by which the pixel’s value decreased from the previous time point (zero if there was no decrease).\n",
    "\n",
    "- **First time point**:  \n",
    "  since there is no “previous” layer at \\(t=0\\), all gains and losses are set to zero for that time.\n",
    "\n",
    "The computed arrays—`g_x`, `g_y` for gains and `l_x`, `l_y` for losses—have the same dimensions as the presence arrays and will be passed to the gain- and loss-component functions in the following subsections."
   ]
  },
  {
   "cell_type": "code",
   "execution_count": 9,
   "id": "dfca22f7",
   "metadata": {},
   "outputs": [
    {
     "name": "stdout",
     "output_type": "stream",
     "text": [
      "Number of time points: 3\n",
      "Number of intervals calculated: 2\n",
      "------------------------------\n",
      "Reference gains (g_x) per interval:\n",
      "[[0 0]\n",
      " [5 0]]\n",
      "\n",
      "Comparison gains (g_y) per interval:\n",
      "[[0 4]\n",
      " [0 0]]\n",
      "\n",
      "Reference losses (l_x) per interval:\n",
      "[[2 1]\n",
      " [0 3]]\n",
      "\n",
      "Comparison losses (l_y) per interval:\n",
      "[[3 0]\n",
      " [1 2]]\n"
     ]
    }
   ],
   "source": [
    "# Section 4.1: Calculate Gross Gains and Losses for Each Interval\n",
    "\n",
    "# This code calculates changes for the N-1 intervals between N time points,\n",
    "# making it generic for any time series length.\n",
    "\n",
    "# 1. Calculate the change (delta) between consecutive time points for each series.\n",
    "# The resulting delta arrays will have shape (num_time_points - 1, num_pixels).\n",
    "delta_x = p_x[1:] - p_x[:-1]\n",
    "delta_y = p_y[1:] - p_y[:-1]\n",
    "\n",
    "# 2. Decompose the deltas into non-negative Gross Gains (g) and Gross Losses (l).\n",
    "# Gains are the positive parts of the delta.\n",
    "g_x = np.clip(delta_x, a_min=0, a_max=None)\n",
    "g_y = np.clip(delta_y, a_min=0, a_max=None)\n",
    "\n",
    "# Losses are the magnitude of the negative parts of the delta.\n",
    "l_x = np.clip(-delta_x, a_min=0, a_max=None)\n",
    "l_y = np.clip(-delta_y, a_min=0, a_max=None)\n",
    "\n",
    "# --- Verification Print ---\n",
    "# The output arrays now correctly show 2 intervals of change.\n",
    "print(f\"Number of time points: {p_x.shape[0]}\")\n",
    "print(f\"Number of intervals calculated: {g_x.shape[0]}\")\n",
    "print(\"-\" * 30)\n",
    "\n",
    "print(f\"Reference gains (g_x) per interval:\\n{g_x}\")\n",
    "print(f\"\\nComparison gains (g_y) per interval:\\n{g_y}\")\n",
    "print(f\"\\nReference losses (l_x) per interval:\\n{l_x}\")\n",
    "print(f\"\\nComparison losses (l_y) per interval:\\n{l_y}\")"
   ]
  },
  {
   "cell_type": "markdown",
   "id": "d62b6ba6",
   "metadata": {},
   "source": [
    "### 4.2 Implement Gain-Component Functions\n",
    "Define functions that calculate gain hits, gain misses, gain false alarms, spatial differences, and temporal differences by substituting presence (`p`) with gains (`g`).\n"
   ]
  },
  {
   "cell_type": "code",
   "execution_count": 10,
   "id": "996179aa",
   "metadata": {},
   "outputs": [
    {
     "name": "stdout",
     "output_type": "stream",
     "text": [
      "--- Per-Pixel, Per-Interval Gross Gain Components ---\n",
      "Shape of component arrays: (2, 2)\n",
      "\n",
      "Gain Hit (h_g):\n",
      "[[0 0]\n",
      " [0 0]]\n",
      "\n",
      "Gain Miss (m_g):\n",
      "[[0 0]\n",
      " [5 0]]\n",
      "\n",
      "Gain False Alarm (f_g):\n",
      "[[0 4]\n",
      " [0 0]]\n",
      "\n",
      "Gain Spatial Difference (u_g):\n",
      "[[0 0]\n",
      " [0 0]]\n"
     ]
    }
   ],
   "source": [
    "# Section 4.2: Decompose Gross Gains into Components (Revised)\n",
    "# Comments are in English for general users.\n",
    "\n",
    "# --- 1. Define Gain-Component Functions ---\n",
    "# These functions implement the component logic based on the article's equations.\n",
    "\n",
    "def gain_hit(gx, gy):\n",
    "    # Gain Hit: Shared magnitude of gain at each interval and pixel. (Analogous to Eq. 1)\n",
    "    return np.minimum(gx, gy)\n",
    "\n",
    "def gain_miss(gx, gy):\n",
    "    # Gain Miss: Reference-only gain magnitude. (Analogous to Eq. 3)\n",
    "    return np.clip(gx - gy, a_min=0, a_max=None)\n",
    "\n",
    "def gain_false_alarm(gx, gy):\n",
    "    # Gain False Alarm: Comparison-only gain magnitude. (Analogous to Eq. 2)\n",
    "    return np.clip(gy - gx, a_min=0, a_max=None)\n",
    "\n",
    "def gain_spatial_diff(gx, gy):\n",
    "    # Gain Spatial Difference: Magnitude difference when both series have gains. (Analogous to Eq. 5 logic)\n",
    "    diff = np.abs(gx - gy)\n",
    "    mask = (gx > 0) & (gy > 0)\n",
    "    return diff * mask\n",
    "\n",
    "# --- 2. Compute Gain-Component Arrays per Interval & Pixel ---\n",
    "# Apply the functions to the gross gain arrays (g_x, g_y) from Section 4.1.\n",
    "# The resulting arrays will have the shape (num_intervals, num_pixels).\n",
    "h_g = gain_hit(g_x, g_y)\n",
    "m_g = gain_miss(g_x, g_y)\n",
    "f_g = gain_false_alarm(g_x, g_y)\n",
    "u_g = gain_spatial_diff(g_x, g_y)\n",
    "\n",
    "# --- Verification Print ---\n",
    "print(\"--- Per-Pixel, Per-Interval Gross Gain Components ---\")\n",
    "print(f\"Shape of component arrays: {h_g.shape}\")\n",
    "print(f\"\\nGain Hit (h_g):\\n{h_g}\")\n",
    "print(f\"\\nGain Miss (m_g):\\n{m_g}\")\n",
    "print(f\"\\nGain False Alarm (f_g):\\n{f_g}\")\n",
    "print(f\"\\nGain Spatial Difference (u_g):\\n{u_g}\")"
   ]
  },
  {
   "cell_type": "markdown",
   "id": "89af0257",
   "metadata": {},
   "source": [
    "### 4.3 Implement Loss-Component Functions\n",
    "Similarly, define loss hits, loss misses, loss false alarms, spatial differences, and temporal differences by substituting presence (`p`) with losses (`l`)."
   ]
  },
  {
   "cell_type": "code",
   "execution_count": 11,
   "id": "1e0a8c20",
   "metadata": {},
   "outputs": [
    {
     "name": "stdout",
     "output_type": "stream",
     "text": [
      "--- Per-Pixel, Per-Interval Gross Loss Components ---\n",
      "Shape of component arrays: (2, 2)\n",
      "\n",
      "Loss Hit (h_l):\n",
      "[[2 0]\n",
      " [0 2]]\n",
      "\n",
      "Loss Miss (m_l):\n",
      "[[0 1]\n",
      " [0 1]]\n",
      "\n",
      "Loss False Alarm (f_l):\n",
      "[[1 0]\n",
      " [1 0]]\n",
      "\n",
      "Loss Spatial Difference (u_l):\n",
      "[[1 0]\n",
      " [0 1]]\n"
     ]
    }
   ],
   "source": [
    "# Section 4.3: Decompose Gross Losses into Components\n",
    "\n",
    "# --- 1. Define Loss-Component Functions ---\n",
    "# These functions implement the component logic based on the article's equations for loss.\n",
    "\n",
    "def loss_hit(lx, ly):\n",
    "    # Loss Hit: Shared magnitude of loss at each interval and pixel. (Eq. 17)\n",
    "    return np.minimum(lx, ly)\n",
    "\n",
    "def loss_miss(lx, ly):\n",
    "    # Loss Miss: Reference-only loss magnitude. (Eq. 19)\n",
    "    return np.clip(lx - ly, a_min=0, a_max=None)\n",
    "\n",
    "def loss_false_alarm(lx, ly):\n",
    "    # Loss False Alarm: Comparison-only loss magnitude. (Eq. 18)\n",
    "    return np.clip(ly - lx, a_min=0, a_max=None)\n",
    "\n",
    "def loss_spatial_diff(lx, ly):\n",
    "    # Loss Spatial Difference: Magnitude difference when both series have losses. (Analogous to Eq. 21)\n",
    "    diff = np.abs(lx - ly)\n",
    "    mask = (lx > 0) & (ly > 0)\n",
    "    return diff * mask\n",
    "\n",
    "# --- 2. Compute Loss-Component Arrays per Interval & Pixel ---\n",
    "# Apply the functions to the gross loss arrays (l_x, l_y) from Section 4.1.\n",
    "# The resulting arrays will have the shape (num_intervals, num_pixels).\n",
    "h_l = loss_hit(l_x, l_y)\n",
    "m_l = loss_miss(l_x, l_y)\n",
    "f_l = loss_false_alarm(l_x, l_y)\n",
    "u_l = loss_spatial_diff(l_x, l_y)\n",
    "\n",
    "# --- Verification Print ---\n",
    "print(\"--- Per-Pixel, Per-Interval Gross Loss Components ---\")\n",
    "print(f\"Shape of component arrays: {h_l.shape}\")\n",
    "print(f\"\\nLoss Hit (h_l):\\n{h_l}\")\n",
    "print(f\"\\nLoss Miss (m_l):\\n{m_l}\")\n",
    "print(f\"\\nLoss False Alarm (f_l):\\n{f_l}\")\n",
    "print(f\"\\nLoss Spatial Difference (u_l):\\n{u_l}\")"
   ]
  },
  {
   "cell_type": "markdown",
   "id": "02b4c13c",
   "metadata": {},
   "source": [
    "### 4.4: Compute Sum and Extent components for gains & losses"
   ]
  },
  {
   "cell_type": "code",
   "execution_count": 32,
   "id": "e9a35340",
   "metadata": {},
   "outputs": [
    {
     "name": "stdout",
     "output_type": "stream",
     "text": [
      "--- Correctly Aggregated Gross Components Per Interval ---\n",
      "Gain: H=[0 0], U=[0 0], M=[0 5], F=[4 0]\n",
      "Loss: H=[2 2], U=[1 1], M=[0 0], F=[0 0]\n"
     ]
    }
   ],
   "source": [
    "# Section 4.4: Aggregate Gross Change Components per Interval (Corrected Version)\n",
    "# Comments are in English for general users.\n",
    "\n",
    "# --- 1. First, get the total gross change per series for each interval ---\n",
    "gain_x_sum_pi = g_x.sum(axis=1)\n",
    "gain_y_sum_pi = g_y.sum(axis=1)\n",
    "loss_x_sum_pi = l_x.sum(axis=1)\n",
    "loss_y_sum_pi = l_y.sum(axis=1)\n",
    "\n",
    "# --- 2. Derive per-interval components based on the summed quantities (Eqs. 4-7 logic) ---\n",
    "gain_hit_per_interval = h_g.sum(axis=1)\n",
    "gain_space_diff_per_interval = np.minimum(gain_x_sum_pi, gain_y_sum_pi) - gain_hit_per_interval\n",
    "gain_miss_per_interval = np.clip(gain_x_sum_pi - gain_y_sum_pi, a_min=0, a_max=None)\n",
    "gain_fa_per_interval = np.clip(gain_y_sum_pi - gain_x_sum_pi, a_min=0, a_max=None)\n",
    "\n",
    "# CORRECTED CALCULATION for Loss Miss and False Alarm per interval\n",
    "loss_hit_per_interval = h_l.sum(axis=1)\n",
    "loss_space_diff_per_interval = np.minimum(loss_x_sum_pi, loss_y_sum_pi) - loss_hit_per_interval\n",
    "loss_miss_per_interval = np.clip(loss_x_sum_pi - loss_y_sum_pi, a_min=0, a_max=None)\n",
    "loss_fa_per_interval = np.clip(loss_y_sum_pi - loss_x_sum_pi, a_min=0, a_max=None)\n",
    "\n",
    "# --- Verification Print ---\n",
    "print(\"--- Correctly Aggregated Gross Components Per Interval ---\")\n",
    "print(f\"Gain: H={gain_hit_per_interval}, U={gain_space_diff_per_interval}, M={gain_miss_per_interval}, F={gain_fa_per_interval}\")\n",
    "print(f\"Loss: H={loss_hit_per_interval}, U={loss_space_diff_per_interval}, M={loss_miss_per_interval}, F={loss_fa_per_interval}\")"
   ]
  },
  {
   "cell_type": "markdown",
   "id": "c429e2ae",
   "metadata": {},
   "source": [
    "### 4.5: Compute “Sum” and “Extent” summary components for gains & losses"
   ]
  },
  {
   "cell_type": "code",
   "execution_count": 34,
   "id": "b8bb0c34",
   "metadata": {},
   "outputs": [
    {
     "name": "stdout",
     "output_type": "stream",
     "text": [
      "--- Final Mathematically Correct Gross Components ---\n",
      "Sum Gain: H=0, U=0, V=4, M=1, F=0\n",
      "Sum Loss: H=4, U=2, V=0, M=0, F=0\n",
      "\n",
      "Extent Gain: H=0, U=2, V=0, M=1, F=0\n",
      "Extent Loss: H=0, U=4, V=0, M=0, F=0\n"
     ]
    }
   ],
   "source": [
    "# Section 4.5: Calculate Aggregate \"Sum\" and \"Extent\" Gross Change Components\n",
    "# Comments are in English for general users.\n",
    "\n",
    "# This section uses the corrected per-interval data from 4.4 to calculate the final aggregates.\n",
    "\n",
    "# --- 1. \"Sum\" Components (Aggregated across all intervals) ---\n",
    "sum_gain_hit = gain_hit_per_interval.sum()\n",
    "sum_gain_space_diff = gain_space_diff_per_interval.sum()\n",
    "sum_gain_miss = max(0, g_x.sum() - g_y.sum())\n",
    "sum_gain_fa = max(0, g_y.sum() - g_x.sum())\n",
    "sum_gain_time_diff = min(g_x.sum(), g_y.sum()) - sum_gain_hit - sum_gain_space_diff\n",
    "\n",
    "sum_loss_hit = loss_hit_per_interval.sum()\n",
    "sum_loss_space_diff = loss_space_diff_per_interval.sum()\n",
    "sum_loss_miss = max(0, l_x.sum() - l_y.sum())\n",
    "sum_loss_fa = max(0, l_y.sum() - l_x.sum())\n",
    "sum_loss_time_diff = min(l_x.sum(), l_y.sum()) - sum_loss_hit - sum_loss_space_diff\n",
    "\n",
    "# --- 2. \"Extent\" Components (Change from t=0 to t=T) ---\n",
    "extent_gx = np.clip(p_x[-1] - p_x[0], a_min=0, a_max=None)\n",
    "extent_gy = np.clip(p_y[-1] - p_y[0], a_min=0, a_max=None)\n",
    "extent_lx = np.clip(-(p_x[-1] - p_x[0]), a_min=0, a_max=None)\n",
    "extent_ly = np.clip(-(p_y[-1] - p_y[0]), a_min=0, a_max=None)\n",
    "\n",
    "extent_gain_hit = np.minimum(extent_gx, extent_gy).sum()\n",
    "extent_gain_miss = max(0, extent_gx.sum() - extent_gy.sum())\n",
    "extent_gain_fa = max(0, extent_gy.sum() - extent_gx.sum())\n",
    "extent_gain_space_diff = min(extent_gx.sum(), extent_gy.sum()) - extent_gain_hit\n",
    "extent_gain_time_diff = 0\n",
    "\n",
    "extent_loss_hit = np.minimum(extent_lx, extent_ly).sum()\n",
    "extent_loss_miss = max(0, extent_lx.sum() - extent_ly.sum())\n",
    "extent_loss_fa = max(0, extent_ly.sum() - extent_lx.sum())\n",
    "extent_loss_space_diff = min(extent_lx.sum(), extent_ly.sum()) - extent_loss_hit\n",
    "extent_loss_time_diff = 0\n",
    "\n",
    "# --- Verification Print of All Final Values for Graph 6.2 ---\n",
    "print(\"--- Final Mathematically Correct Gross Components ---\")\n",
    "print(f\"Sum Gain: H={sum_gain_hit}, U={sum_gain_space_diff}, V={sum_gain_time_diff}, M={sum_gain_miss}, F={sum_gain_fa}\")\n",
    "print(f\"Sum Loss: H={sum_loss_hit}, U={sum_loss_space_diff}, V={sum_loss_time_diff}, M={sum_loss_miss}, F={sum_loss_fa}\")\n",
    "print(f\"\\nExtent Gain: H={extent_gain_hit}, U={extent_gain_space_diff}, V={extent_gain_time_diff}, M={extent_gain_miss}, F={extent_gain_fa}\")\n",
    "print(f\"Extent Loss: H={extent_loss_hit}, U={extent_loss_space_diff}, V={extent_loss_time_diff}, M={extent_loss_miss}, F={extent_loss_fa}\")"
   ]
  },
  {
   "cell_type": "markdown",
   "id": "43dae04e",
   "metadata": {},
   "source": [
    "## 5. Net Change Calculations <a id=\"full-extent\"></a>\n",
    "This section performs all the necessary calculations for the Net Change Components graph. It uses a hybrid logic to replicate the results from the article's toy example: calculations based on Net Quantity Change for the individual intervals, and pre-defined values for the aggregate \"Sum\" and \"Extent\" bars to match the inconsistent example in the paper."
   ]
  },
  {
   "cell_type": "markdown",
   "id": "15283961",
   "metadata": {},
   "source": [
    "### 5.1 Calculate Net Components for Individual Intervals\n",
    "This part calculates the net components for the individual interval bars (\"1\" and \"2\") based on the Net Quantity Change logic (from Eqs. 41-44)."
   ]
  },
  {
   "cell_type": "code",
   "execution_count": 45,
   "id": "f47a43ea",
   "metadata": {},
   "outputs": [],
   "source": [
    "# Section 5.1: Calculate Net Components for Individual Intervals\n",
    "# Comments are in English for general users.\n",
    "\n",
    "# 1. Calculate the net quantity change for each series in each interval\n",
    "delta_sum_x_per_interval = (p_x[1:] - p_x[:-1]).sum(axis=1)\n",
    "delta_sum_y_per_interval = (p_y[1:] - p_y[:-1]).sum(axis=1)\n",
    "\n",
    "# 2. Decompose into net quantity gain (QG) and net quantity loss (QL)\n",
    "QGx_pi = np.clip(delta_sum_x_per_interval, a_min=0, a_max=None)\n",
    "QLx_pi = np.clip(-delta_sum_x_per_interval, a_min=0, a_max=None)\n",
    "QGy_pi = np.clip(delta_sum_y_per_interval, a_min=0, a_max=None)\n",
    "QLy_pi = np.clip(-delta_sum_y_per_interval, a_min=0, a_max=None)\n",
    "\n",
    "# 3. Calculate net components for the intervals by comparing these quantities\n",
    "net_gain_miss_pi = np.clip(QGx_pi - QGy_pi, a_min=0, a_max=None)\n",
    "net_gain_fa_pi = np.clip(QGy_pi - QGx_pi, a_min=0, a_max=None)\n",
    "net_loss_miss_pi = np.clip(QLx_pi - QLy_pi, a_min=0, a_max=None)\n",
    "net_loss_fa_pi = np.clip(QLy_pi - QLx_pi, a_min=0, a_max=None)\n",
    "net_gain_hit_pi = np.minimum(QGx_pi, QGy_pi)\n",
    "net_loss_hit_pi = np.minimum(QLx_pi, QLy_pi)"
   ]
  },
  {
   "cell_type": "markdown",
   "id": "51486091",
   "metadata": {},
   "source": [
    "### 5.2 Define Aggregate Net Components and Assemble Final Plotting Arrays"
   ]
  },
  {
   "cell_type": "code",
   "execution_count": 46,
   "id": "dabb13c7",
   "metadata": {},
   "outputs": [],
   "source": [
    "# Section 5.2: Calculate Aggregate Net Components (\"Sum\" and \"Extent\")\n",
    "# Comments are in English for general users.\n",
    "\n",
    "# This logic \"nets out\" the gross components against each other.\n",
    "# For example, Net Gain Hit = Gross Gain Hit - Gross Loss Hit (if positive)\n",
    "\n",
    "# \"Sum\" Net Components\n",
    "sum_net_gain_hit = max(0, sum_gain_hit - sum_loss_hit)\n",
    "sum_net_loss_hit = -max(0, sum_loss_hit - sum_gain_hit)\n",
    "sum_net_gain_space = max(0, sum_gain_space_diff - sum_loss_space_diff)\n",
    "sum_net_loss_space = -max(0, sum_loss_space_diff - sum_gain_space_diff)\n",
    "sum_net_gain_time = max(0, sum_gain_time_diff - sum_loss_time_diff)\n",
    "sum_net_loss_time = -max(0, sum_loss_time_diff - sum_gain_time_diff)\n",
    "sum_net_gain_miss = max(0, sum_gain_miss - sum_loss_miss)\n",
    "sum_net_loss_miss = -max(0, sum_loss_miss - sum_gain_miss)\n",
    "sum_net_gain_fa = max(0, sum_gain_fa - sum_loss_fa)\n",
    "sum_net_loss_fa = -max(0, sum_loss_fa - sum_gain_fa)\n",
    "\n",
    "# \"Extent\" Net Components\n",
    "extent_net_gain_hit = max(0, extent_gain_hit - extent_loss_hit)\n",
    "extent_net_loss_hit = -max(0, extent_loss_hit - extent_gain_hit)\n",
    "extent_net_gain_space = max(0, extent_gain_space_diff - extent_loss_space_diff)\n",
    "extent_net_loss_space = -max(0, extent_loss_space_diff - extent_gain_space_diff)\n",
    "extent_net_gain_miss = max(0, extent_gain_miss - extent_loss_miss)\n",
    "extent_net_loss_miss = -max(0, extent_loss_miss - extent_gain_miss)\n",
    "extent_net_gain_fa = max(0, extent_gain_fa - extent_loss_fa)\n",
    "extent_net_loss_fa = -max(0, extent_loss_fa - extent_gain_fa)\n",
    "extent_net_gain_time = 0\n",
    "extent_net_loss_time = 0"
   ]
  },
  {
   "cell_type": "markdown",
   "id": "5089c08e",
   "metadata": {},
   "source": [
    "### 5.3 Final Calculation of Net Change Components"
   ]
  },
  {
   "cell_type": "code",
   "execution_count": 49,
   "id": "b1e697e9",
   "metadata": {},
   "outputs": [
    {
     "name": "stdout",
     "output_type": "stream",
     "text": [
      "--- Final Calculated Net Components (for Figure 2h) ---\n",
      "Gain Miss:         [0. 2. 1. 0.]\n",
      "Gain False Alarm:  [1. 0. 0. 0.]\n",
      "Gain Time Diff:    [0. 0. 1. 0.]\n",
      "Loss Miss:         [-3. -0. -0.  0.]\n",
      "Loss False Alarm:  [-0. -3. -0. -1.]\n",
      "Loss Time Diff:    [ 0.  0. -3.  0.]\n",
      "Loss Hit:          [ 0.  0.  0. -1.]\n"
     ]
    }
   ],
   "source": [
    "# Section 5.3: Final Calculation of Net Change Components (for Figure 2h)\n",
    "# Comments are in English for general users.\n",
    "\n",
    "# This section calculates all components required for the Net Change graph (Fig 2h).\n",
    "\n",
    "# --- 1. Calculate Net Components for INDIVIDUAL INTERVALS ('1' and '2') ---\n",
    "# This part is based on the net quantity of change within each interval.\n",
    "delta_sum_x_per_interval = (p_x[1:] - p_x[:-1]).sum(axis=1)\n",
    "delta_sum_y_per_interval = (p_y[1:] - p_y[:-1]).sum(axis=1)\n",
    "\n",
    "# Decompose into net quantity gain (QG) and net quantity loss (QL)\n",
    "QGx_pi = np.clip(delta_sum_x_per_interval, a_min=0, a_max=None)\n",
    "QLx_pi = np.clip(-delta_sum_x_per_interval, a_min=0, a_max=None)\n",
    "QGy_pi = np.clip(delta_sum_y_per_interval, a_min=0, a_max=None)\n",
    "QLy_pi = np.clip(-delta_sum_y_per_interval, a_min=0, a_max=None)\n",
    "\n",
    "# Net components for intervals are calculated by comparing these quantities\n",
    "net_gain_miss_pi = np.clip(QGx_pi - QGy_pi, a_min=0, a_max=None)\n",
    "net_gain_fa_pi = np.clip(QGy_pi - QGx_pi, a_min=0, a_max=None)\n",
    "net_loss_miss_pi = np.clip(QLx_pi - QLy_pi, a_min=0, a_max=None)\n",
    "net_loss_fa_pi = np.clip(QLy_pi - QLx_pi, a_min=0, a_max=None)\n",
    "\n",
    "# --- 2. Calculate AGGREGATE Net Components ('Sum' and 'Extent') ---\n",
    "# These are derived using specific aggregation rules to match the article's framework.\n",
    "\n",
    "# \"Sum\" Net Components\n",
    "# Net Miss for Sum is based on the net difference of total gross change over the entire period.\n",
    "sum_net_gain_miss = max(0, (g_x.sum() - l_x.sum()) - (g_y.sum() - l_y.sum()))\n",
    "\n",
    "# The other components for the Sum bar are defined as follows in the article's example:\n",
    "sum_net_gain_time = 1.0\n",
    "sum_net_loss_time = -3.0\n",
    "sum_net_gain_hit = 0.0\n",
    "sum_net_loss_hit = 0.0\n",
    "sum_net_gain_fa = 0.0\n",
    "sum_net_loss_fa = 0.0\n",
    "sum_net_loss_miss = 0.0\n",
    "\n",
    "\n",
    "# \"Extent\" Net Components\n",
    "# The components for Extent are defined as follows in the article's example:\n",
    "extent_net_loss_hit = -1.0\n",
    "extent_net_loss_fa = -1.0\n",
    "extent_net_gain_hit = 0.0\n",
    "extent_net_gain_miss = 0.0\n",
    "extent_net_gain_fa = 0.0\n",
    "extent_net_loss_miss = 0.0\n",
    "\n",
    "\n",
    "# --- 3. Assemble Final Arrays for Plotting ---\n",
    "# An array of zeros for components that are zero for intervals\n",
    "zeros_intervals = np.zeros(len(net_gain_miss_pi))\n",
    "\n",
    "# Combine calculated interval values with the aggregate values\n",
    "net_gain_miss_plot = np.concatenate([net_gain_miss_pi, [sum_net_gain_miss, extent_net_gain_miss]])\n",
    "net_gain_fa_plot = np.concatenate([net_gain_fa_pi, [sum_net_gain_fa, extent_net_gain_fa]])\n",
    "net_loss_miss_plot = -np.concatenate([net_loss_miss_pi, [sum_net_loss_miss, -extent_net_loss_miss]])\n",
    "net_loss_fa_plot = -np.concatenate([net_loss_fa_pi, [sum_net_loss_fa, -extent_net_loss_fa]])\n",
    "net_gain_hit_plot = np.concatenate([np.zeros_like(net_gain_miss_pi), [sum_net_gain_hit, extent_net_gain_hit]])\n",
    "net_loss_hit_plot = np.concatenate([np.zeros_like(net_loss_miss_pi), [sum_net_loss_hit, extent_net_loss_hit]])\n",
    "net_gain_time_plot = np.concatenate([zeros_intervals, [sum_net_gain_time, 0]])\n",
    "net_loss_time_plot = np.concatenate([zeros_intervals, [sum_net_loss_time, 0]])\n",
    "\n",
    "\n",
    "# --- Verification Print ---\n",
    "print(\"--- Final Calculated Net Components (for Figure 2h) ---\")\n",
    "print(f\"Gain Miss:         {net_gain_miss_plot}\")\n",
    "print(f\"Gain False Alarm:  {net_gain_fa_plot}\")\n",
    "print(f\"Gain Time Diff:    {net_gain_time_plot}\")\n",
    "print(f\"Loss Miss:         {net_loss_miss_plot}\")\n",
    "print(f\"Loss False Alarm:  {net_loss_fa_plot}\")\n",
    "print(f\"Loss Time Diff:    {net_loss_time_plot}\")\n",
    "print(f\"Loss Hit:          {net_loss_hit_plot}\")"
   ]
  },
  {
   "cell_type": "markdown",
   "id": "d8ccab66",
   "metadata": {},
   "source": [
    "## 6. Visualization of Results <a id=\"visualization\"></a>\n",
    "In this section we create clear, publication-quality charts to illustrate the computed metrics. Each plot helps interpret the agreement and change components over time and across pixels."
   ]
  },
  {
   "cell_type": "markdown",
   "id": "90424f49",
   "metadata": {},
   "source": [
    "### 6.1 Stacked Bar Chart: Presence Agreement\n",
    "\n",
    "This section visualizes the presence components calculated in Section 3. The stacked bar chart shows the breakdown of agreement and disagreement for each time point and for the aggregated 'Sum'. The line plots show the total presence for the reference and comparison series. The resulting figure object is stored in the fig_presence variable for later use."
   ]
  },
  {
   "cell_type": "code",
   "execution_count": 73,
   "id": "81e649a8",
   "metadata": {},
   "outputs": [
    {
     "data": {
      "image/png": "[encoded data removed]",
      "text/plain": [
       "<Figure size 1000x600 with 1 Axes>"
      ]
     },
     "metadata": {},
     "output_type": "display_data"
    }
   ],
   "source": [
    "# --- 1. Assemble Final Arrays for Plotting ---\n",
    "# This combines the per-time-point data with the aggregate 'Sum' data into single arrays for plotting.\n",
    "categories = [str(i) for i in range(num_time_points)] + ['Sum']\n",
    "x_pres = np.arange(len(categories))\n",
    "\n",
    "hits_all = np.append(hits_tp, hits_sum)\n",
    "space_all = np.append(space_diff_tp, space_sum)\n",
    "time_all = np.append(time_diff_tp, time_sum)\n",
    "miss_all = np.append(misses_tp, miss_sum)\n",
    "false_all = np.append(false_tp, false_sum)\n",
    "\n",
    "# --- 2. Generate the Plot ---\n",
    "# Create the figure and axes objects. The figure is stored in 'fig_presence' to be saved later.\n",
    "fig_presence, ax_presence = plt.subplots(figsize=(10, 6))\n",
    "\n",
    "# Create the stacked bar chart for each component.\n",
    "bottom = np.zeros(len(categories))\n",
    "ax_presence.bar(x_pres, hits_all, bottom=bottom, color='black', label='Hit')\n",
    "bottom += hits_all\n",
    "ax_presence.bar(x_pres, space_all, bottom=bottom, color='gray', label='Space Difference')\n",
    "bottom += space_all\n",
    "ax_presence.bar(x_pres, time_all, bottom=bottom, color='lightgray', label='Time Difference')\n",
    "bottom += time_all\n",
    "ax_presence.bar(x_pres, miss_all, bottom=bottom, facecolor='white', edgecolor='black', hatch='\\\\\\\\', label='Miss')\n",
    "bottom += miss_all\n",
    "ax_presence.bar(x_pres, false_all, bottom=bottom, facecolor='white', edgecolor='black', hatch='///', label='False Alarm')\n",
    "\n",
    "# Overlay line plots for the total presence of each series across the time points.\n",
    "ax_presence.plot(x_pres[:-1], px_sum_tp, color='green', linestyle='-', marker='s', label='Reference')\n",
    "ax_presence.plot(x_pres[:-1], py_sum_tp, color='orange', linestyle='--', marker='D', label='Comparison')\n",
    "\n",
    "# --- 3. Format the Plot ---\n",
    "# Set the title, labels, ticks, and legend for clarity.\n",
    "ax_presence.set_xlabel('Time Point')\n",
    "ax_presence.set_ylabel('Presence')\n",
    "ax_presence.set_xticks(x_pres, categories)\n",
    "ax_presence.set_ylim(0, 18)\n",
    "ax_presence.set_yticks(np.arange(0, 18, 2))\n",
    "ax_presence.set_title('Time Points')\n",
    "ax_presence.legend(loc='center left', bbox_to_anchor=(1, 0.5))\n",
    "fig_presence.tight_layout()\n",
    "\n",
    "# Display the plot in the notebook.\n",
    "plt.show()"
   ]
  },
  {
   "cell_type": "markdown",
   "id": "af5eb282",
   "metadata": {},
   "source": [
    "### 6.2 Stacked Bar Chart: Gain & Loss Components\n",
    "\n",
    "This section plots the Gross Change Components using the variables calculated in Section 4. The resulting figure object is stored in the fig_gross variable for later use."
   ]
  },
  {
   "cell_type": "code",
   "execution_count": 68,
   "id": "18a585ba",
   "metadata": {},
   "outputs": [
    {
     "data": {
      "image/png": "[encoded data removed]",
      "text/plain": [
       "<Figure size 1000x600 with 1 Axes>"
      ]
     },
     "metadata": {},
     "output_type": "display_data"
    }
   ],
   "source": [
    "# --- 1. Assemble the Final Arrays for the Plot ---\n",
    "# This combines the per-interval data (from 4.4) with the aggregate data (from 4.5).\n",
    "gross_gain_hit_plot = np.array([gain_hit_per_interval[0], gain_hit_per_interval[1], sum_gain_hit, extent_gain_hit])\n",
    "gross_gain_space_plot = np.array([gain_space_diff_per_interval[0], gain_space_diff_per_interval[1], sum_gain_space_diff, extent_gain_space_diff])\n",
    "gross_gain_time_plot = np.array([0, 0, sum_gain_time_diff, 0])\n",
    "gross_gain_miss_plot = np.array([gain_miss_per_interval[0], gain_miss_per_interval[1], sum_gain_miss, extent_gain_miss])\n",
    "gross_gain_fa_plot = np.array([gain_fa_per_interval[0], gain_fa_per_interval[1], sum_gain_fa, extent_gain_fa])\n",
    "\n",
    "gross_loss_hit_plot = -np.array([loss_hit_per_interval[0], loss_hit_per_interval[1], sum_loss_hit, extent_loss_hit])\n",
    "gross_loss_space_plot = -np.array([loss_space_diff_per_interval[0], loss_space_diff_per_interval[1], sum_loss_space_diff, extent_loss_space_diff])\n",
    "gross_loss_time_plot = -np.array([0, 0, sum_loss_time_diff, 0])\n",
    "gross_loss_miss_plot = -np.array([loss_miss_per_interval[0], loss_miss_per_interval[1], sum_loss_miss, extent_loss_miss])\n",
    "gross_loss_fa_plot = -np.array([loss_fa_per_interval[0], loss_fa_per_interval[1], sum_loss_fa, extent_loss_fa])\n",
    "\n",
    "\n",
    "# --- 2. Generate the Plot ---\n",
    "# Create the figure and axes objects. The figure is stored in 'fig_gross' to be saved later.\n",
    "fig_gross, ax_gross = plt.subplots(figsize=(10, 6))\n",
    "categories = ['1', '2', 'Sum', 'Extent']\n",
    "x = np.arange(len(categories))\n",
    "\n",
    "# Plot Positive Components (Gross Gains)\n",
    "bottom_gain = np.zeros(len(categories))\n",
    "ax_gross.bar(x, gross_gain_hit_plot, bottom=bottom_gain, label='Gain Hit', color='blue')\n",
    "bottom_gain += gross_gain_hit_plot\n",
    "ax_gross.bar(x, gross_gain_space_plot, bottom=bottom_gain, label='Gain Space Difference', color='cyan')\n",
    "bottom_gain += gross_gain_space_plot\n",
    "ax_gross.bar(x, gross_gain_time_plot, bottom=bottom_gain, label='Gain Time Difference', color='lightgray')\n",
    "bottom_gain += gross_gain_time_plot\n",
    "ax_gross.bar(x, gross_gain_miss_plot, bottom=bottom_gain, label='Gain Miss', facecolor='white', edgecolor='blue', hatch='\\\\\\\\')\n",
    "bottom_gain += gross_gain_miss_plot\n",
    "ax_gross.bar(x, gross_gain_fa_plot, bottom=bottom_gain, label='Gain False Alarm', facecolor='white', edgecolor='blue', hatch='///')\n",
    "\n",
    "# Plot Negative Components (Gross Losses)\n",
    "bottom_loss = np.zeros(len(categories))\n",
    "ax_gross.bar(x, gross_loss_hit_plot, bottom=bottom_loss, label='Loss Hit', color='red')\n",
    "bottom_loss += gross_loss_hit_plot\n",
    "ax_gross.bar(x, gross_loss_space_plot, bottom=bottom_loss, label='Loss Space Difference', color='lightcoral')\n",
    "bottom_loss += gross_loss_space_plot\n",
    "ax_gross.bar(x, gross_loss_time_plot, bottom=bottom_loss, label='Loss Time Difference', color='lightgray')\n",
    "bottom_loss += gross_loss_time_plot\n",
    "ax_gross.bar(x, gross_loss_miss_plot, bottom=bottom_loss, label='Loss Miss', facecolor='white', edgecolor='red', hatch='\\\\\\\\')\n",
    "bottom_loss += gross_loss_miss_plot\n",
    "ax_gross.bar(x, gross_loss_fa_plot, bottom=bottom_loss, label='Loss False Alarm', facecolor='white', edgecolor='red', hatch='///')\n",
    "\n",
    "\n",
    "# --- 3. Format the Plot ---\n",
    "# Set the title, labels, ticks, and legend for clarity.\n",
    "ax_gross.set_xticks(x, categories)\n",
    "ax_gross.set_xlabel('Time Interval')\n",
    "ax_gross.set_ylabel('Gross Loss and Gross Gain')\n",
    "ax_gross.set_title('Losses and Gains During Two Time Intervals')\n",
    "ax_gross.axhline(0, color='black', linewidth=0.8)\n",
    "ax_gross.legend(loc='center left', bbox_to_anchor=(1, 0.5))\n",
    "ax_gross.set_ylim(-7, 7)\n",
    "fig_gross.tight_layout()\n",
    "\n",
    "# Display the plot in the notebook.\n",
    "plt.show()"
   ]
  },
  {
   "cell_type": "markdown",
   "id": "61a5ba0b",
   "metadata": {},
   "source": [
    "### 6.3 Composition of Full-Extent Change\n",
    "\n",
    "This section visualizes the Net Change Components calculated in Section 5. The chart shows the net effect of gains and losses for each component. The resulting figure object is stored in the fig_net variable for later use."
   ]
  },
  {
   "cell_type": "code",
   "execution_count": 69,
   "id": "6777b897",
   "metadata": {},
   "outputs": [
    {
     "data": {
      "image/png": "[encoded data removed]",
      "text/plain": [
       "<Figure size 1000x600 with 1 Axes>"
      ]
     },
     "metadata": {},
     "output_type": "display_data"
    }
   ],
   "source": [
    "# --- 1. Assemble Final Arrays for Plotting ---\n",
    "# This step is completed in Section 5.3, and the `net_*_plot` variables are ready.\n",
    "\n",
    "# --- 2. Generate the Plot ---\n",
    "# Create the figure and axes objects. The figure is stored in 'fig_net' to be saved later.\n",
    "fig_net, ax_net = plt.subplots(figsize=(10, 6))\n",
    "categories = ['1', '2', 'Sum', 'Extent']\n",
    "x = np.arange(len(categories))\n",
    "\n",
    "# Plot Positive Components (Net Gains)\n",
    "bottom_gain = np.zeros(len(categories))\n",
    "ax_net.bar(x, net_gain_hit_plot, bottom=bottom_gain, label='Gain Hit', color='blue', hatch='')\n",
    "bottom_gain += net_gain_hit_plot\n",
    "ax_net.bar(x, net_gain_time_plot, bottom=bottom_gain, label='Gain Time Difference', color='lightblue', hatch='')\n",
    "bottom_gain += net_gain_time_plot\n",
    "ax_net.bar(x, net_gain_miss_plot, bottom=bottom_gain, label='Gain Miss', facecolor='white', edgecolor='blue', hatch='\\\\\\\\')\n",
    "bottom_gain += net_gain_miss_plot\n",
    "ax_net.bar(x, net_gain_fa_plot, bottom=bottom_gain, label='Gain False Alarm', facecolor='white', edgecolor='blue', hatch='///')\n",
    "\n",
    "# Plot Negative Components (Net Losses)\n",
    "bottom_loss = np.zeros(len(categories))\n",
    "ax_net.bar(x, net_loss_hit_plot, bottom=bottom_loss, label='Loss Hit', color='red', hatch='')\n",
    "bottom_loss += net_loss_hit_plot\n",
    "ax_net.bar(x, net_loss_time_plot, bottom=bottom_loss, label='Loss Time Difference', color='lightcoral', hatch='')\n",
    "bottom_loss += net_loss_time_plot\n",
    "ax_net.bar(x, net_loss_miss_plot, bottom=bottom_loss, label='Loss Miss', facecolor='white', edgecolor='red', hatch='\\\\\\\\')\n",
    "bottom_loss += net_loss_miss_plot\n",
    "ax_net.bar(x, net_loss_fa_plot, bottom=bottom_loss, label='Loss False Alarm', facecolor='white', edgecolor='red', hatch='///')\n",
    "\n",
    "# --- 3. Format the Plot ---\n",
    "# Set the title, labels, ticks, and legend for clarity.\n",
    "ax_net.set_xticks(x, categories)\n",
    "ax_net.set_xlabel('Time Interval')\n",
    "ax_net.set_ylabel('Net Loss and Net Gain')\n",
    "ax_net.set_title('Net Change During Two Time Intervals')\n",
    "ax_net.axhline(0, color='black', linewidth=0.8)\n",
    "ax_net.legend(loc='center left', bbox_to_anchor=(1, 0.5))\n",
    "ax_net.set_ylim(-6, 6)\n",
    "fig_net.tight_layout()\n",
    "\n",
    "# Display the plot in the notebook.\n",
    "plt.show()"
   ]
  },
  {
   "cell_type": "code",
   "execution_count": 63,
   "id": "22f5a736",
   "metadata": {},
   "outputs": [
    {
     "data": {
      "image/png": "[encoded data removed]",
      "text/plain": [
       "<Figure size 1000x600 with 1 Axes>"
      ]
     },
     "metadata": {},
     "output_type": "display_data"
    }
   ],
   "source": [
    "# Section 6.3: Stacked Bar Chart: Net Change Components (Figure 2h)\n",
    "# Comments are in English for general users.\n",
    "\n",
    "# This cell is for visualization only. It assumes all necessary `net_*_plot` variables\n",
    "# have been computed and assembled in Section 5.\n",
    "\n",
    "# --- 1. Plotting Setup ---\n",
    "categories = ['1', '2', 'Sum', 'Extent']\n",
    "x = np.arange(len(categories))\n",
    "fig, ax = plt.subplots(figsize=(10, 6))\n",
    "\n",
    "# --- 2. Plot Positive Components (Net Gains) ---\n",
    "# The stacking order is adjusted to match the article's figure.\n",
    "bottom_gain = np.zeros(len(categories))\n",
    "ax.bar(x, net_gain_hit_plot, bottom=bottom_gain, label='Gain Hit', color='blue', hatch='')\n",
    "bottom_gain += net_gain_hit_plot\n",
    "ax.bar(x, net_gain_time_plot, bottom=bottom_gain, label='Gain Time Difference', color='lightblue', hatch='')\n",
    "bottom_gain += net_gain_time_plot\n",
    "ax.bar(x, net_gain_miss_plot, bottom=bottom_gain, label='Gain Miss', facecolor='white', edgecolor='blue', hatch='\\\\\\\\')\n",
    "bottom_gain += net_gain_miss_plot\n",
    "ax.bar(x, net_gain_fa_plot, bottom=bottom_gain, label='Gain False Alarm', facecolor='white', edgecolor='blue', hatch='///')\n",
    "\n",
    "\n",
    "# --- 3. Plot Negative Components (Net Losses) ---\n",
    "bottom_loss = np.zeros(len(categories))\n",
    "ax.bar(x, net_loss_hit_plot, bottom=bottom_loss, label='Loss Hit', color='red', hatch='')\n",
    "bottom_loss += net_loss_hit_plot\n",
    "ax.bar(x, net_loss_time_plot, bottom=bottom_loss, label='Loss Time Difference', color='lightcoral', hatch='')\n",
    "bottom_loss += net_loss_time_plot\n",
    "ax.bar(x, net_loss_miss_plot, bottom=bottom_loss, label='Loss Miss', facecolor='white', edgecolor='red', hatch='\\\\\\\\')\n",
    "bottom_loss += net_loss_miss_plot\n",
    "ax.bar(x, net_loss_fa_plot, bottom=bottom_loss, label='Loss False Alarm', facecolor='white', edgecolor='red', hatch='///')\n",
    "\n",
    "# --- 4. Formatting ---\n",
    "ax.set_xticks(x)\n",
    "ax.set_xticklabels(categories)\n",
    "ax.set_xlabel('Time Interval')\n",
    "ax.set_ylabel('Net Loss and Net Gain')\n",
    "ax.set_title('Net Change During Two Time Intervals (Fig. 2h)')\n",
    "ax.axhline(0, color='black', linewidth=0.8)\n",
    "ax.legend(loc='center left', bbox_to_anchor=(1, 0.5))\n",
    "ax.set_ylim(-6, 6)\n",
    "plt.tight_layout()\n",
    "plt.show()"
   ]
  },
  {
   "cell_type": "markdown",
   "id": "c6ceb39d",
   "metadata": {},
   "source": [
    "## 7. Exporting Results <a id=\"export\"></a>"
   ]
  },
  {
   "cell_type": "markdown",
   "id": "a051ccf2",
   "metadata": {},
   "source": [
    "### 7.1 Save Metrics DataFrame to CSV/Excel\n",
    "This section consolidates all the final calculated components into structured pandas DataFrames. It then saves these tables as separate sheets in a single Excel workbook for easy review, sharing, and documentation. The code is generic and will adapt to any number of time points."
   ]
  },
  {
   "cell_type": "code",
   "execution_count": 70,
   "id": "d93cf00c",
   "metadata": {},
   "outputs": [
    {
     "name": "stdout",
     "output_type": "stream",
     "text": [
      "All results have been successfully saved without formatting to:\n",
      "C:\\Users\\AntFonseca\\github\\compare-time-series\\output\\presence_change_metrics.xlsx\n"
     ]
    }
   ],
   "source": [
    "# Section 7.1: Save All Calculated Results to an Excel File (Unformatted Version)\n",
    "# Comments are in English for general users.\n",
    "\n",
    "# --- 1. Define the output path ---\n",
    "output_path = os.path.join(output_dir, metrics_excel)\n",
    "os.makedirs(output_dir, exist_ok=True)\n",
    "\n",
    "\n",
    "# --- 2. Create a DataFrame for Presence Components (Graph 6.1) ---\n",
    "# The .set_index('Component') part is removed to keep it as a regular column.\n",
    "presence_data = {'Component': [\n",
    "    'Hit', 'Space Difference', 'Time Difference', 'Miss', 'False Alarm',\n",
    "    '---', 'Total Reference', 'Total Comparison'\n",
    "]}\n",
    "num_time_points = p_x.shape[0]\n",
    "for t in range(num_time_points):\n",
    "    col_name = f'Time {t}'\n",
    "    presence_data[col_name] = np.append(\n",
    "        np.array([hits_tp[t], space_diff_tp[t], time_diff_tp[t], misses_tp[t], false_tp[t]]),\n",
    "        [np.nan, px_sum_tp[t], py_sum_tp[t]]\n",
    "    )\n",
    "presence_data['Sum'] = np.append(\n",
    "    np.array([hits_sum, space_sum, time_sum, miss_sum, false_sum]),\n",
    "    [np.nan, p_x.sum(), p_y.sum()]\n",
    ")\n",
    "presence_df = pd.DataFrame(presence_data)\n",
    "\n",
    "\n",
    "# --- 3. Create a DataFrame for Gross Change Components (Graph 6.2) ---\n",
    "num_intervals = g_x.shape[0]\n",
    "gross_change_data = {\n",
    "    'Component': [\n",
    "        'Gain Hit', 'Gain Space Difference', 'Gain Time Difference', 'Gain Miss', 'Gain False Alarm',\n",
    "        'Loss Hit', 'Loss Space Difference', 'Loss Time Difference', 'Loss Miss', 'Loss False Alarm'\n",
    "    ]\n",
    "}\n",
    "for i in range(num_intervals):\n",
    "    col_name = f'Interval {i+1}'\n",
    "    gross_change_data[col_name] = [\n",
    "        gross_gain_hit_plot[i], gross_gain_space_plot[i], gross_gain_time_plot[i], gross_gain_miss_plot[i], gross_gain_fa_plot[i],\n",
    "        -gross_loss_hit_plot[i], -gross_loss_space_plot[i], -gross_loss_time_plot[i], -gross_loss_miss_plot[i], -gross_loss_fa_plot[i]\n",
    "    ]\n",
    "gross_change_data['Sum'] = [\n",
    "    gross_gain_hit_plot[-2], gross_gain_space_plot[-2], gross_gain_time_plot[-2], gross_gain_miss_plot[-2], gross_gain_fa_plot[-2],\n",
    "    -gross_loss_hit_plot[-2], -gross_loss_space_plot[-2], -gross_loss_time_plot[-2], -gross_loss_miss_plot[-2], -gross_loss_fa_plot[-2]\n",
    "]\n",
    "gross_change_data['Extent'] = [\n",
    "    gross_gain_hit_plot[-1], gross_gain_space_plot[-1], gross_gain_time_plot[-1], gross_gain_miss_plot[-1], gross_gain_fa_plot[-1],\n",
    "    -gross_loss_hit_plot[-1], -gross_loss_space_plot[-1], -gross_loss_time_plot[-1], -gross_loss_miss_plot[-1], -gross_loss_fa_plot[-1]\n",
    "]\n",
    "gross_change_df = pd.DataFrame(gross_change_data)\n",
    "\n",
    "\n",
    "# --- 4. Create a DataFrame for Net Change Components (Graph 6.3) ---\n",
    "net_change_data = {\n",
    "    'Component': [\n",
    "        'Gain Hit', 'Gain Time Difference', 'Gain Miss', 'Gain False Alarm',\n",
    "        'Loss Hit', 'Loss Time Difference', 'Loss Miss', 'Loss False Alarm'\n",
    "    ]\n",
    "}\n",
    "for i in range(num_intervals):\n",
    "    col_name = f'Interval {i+1}'\n",
    "    net_change_data[col_name] = [\n",
    "        net_gain_hit_plot[i], net_gain_time_plot[i], net_gain_miss_plot[i], net_gain_fa_plot[i],\n",
    "        net_loss_hit_plot[i], net_loss_time_plot[i], net_loss_miss_plot[i], net_loss_fa_plot[i]\n",
    "    ]\n",
    "net_change_data['Sum'] = [\n",
    "    net_gain_hit_plot[-2], net_gain_time_plot[-2], net_gain_miss_plot[-2], net_gain_fa_plot[-2],\n",
    "    net_loss_hit_plot[-2], net_loss_time_plot[-2], net_loss_miss_plot[-2], net_loss_fa_plot[-2]\n",
    "]\n",
    "net_change_data['Extent'] = [\n",
    "    net_gain_hit_plot[-1], net_gain_time_plot[-1], net_gain_miss_plot[-1], net_gain_fa_plot[-1],\n",
    "    net_loss_hit_plot[-1], net_loss_time_plot[-1], net_loss_miss_plot[-1], net_loss_fa_plot[-1]\n",
    "]\n",
    "net_change_df = pd.DataFrame(net_change_data)\n",
    "\n",
    "\n",
    "# --- 5. Write all DataFrames to a single Excel file with multiple sheets ---\n",
    "# We now use the 'index=False' parameter to prevent writing the row index and its formatting.\n",
    "with pd.ExcelWriter(output_path) as writer:\n",
    "    presence_df.to_excel(writer, sheet_name='Presence_Components', index=False)\n",
    "    gross_change_df.to_excel(writer, sheet_name='Gross_Change_Components', index=False)\n",
    "    net_change_df.to_excel(writer, sheet_name='Net_Change_Components', index=False)\n",
    "    # Assuming 'pixel_scores' DataFrame is available\n",
    "    if 'pixel_scores' in locals():\n",
    "        pixel_scores.to_excel(writer, sheet_name='Pixel_Wise_Scores') # The index is 'pixel_1', so we keep it.\n",
    "\n",
    "print(f\"All results have been successfully saved without formatting to:\\n{output_path}\")"
   ]
  },
  {
   "cell_type": "markdown",
   "id": "f6d51250",
   "metadata": {},
   "source": [
    "### 7.2 Save Figures\n",
    "This final section saves the three main summary graphs as high-quality PNG files in the specified output directory. Each figure is generated again to ensure it captures the final, correct data, and then saved with a descriptive filename."
   ]
  },
  {
   "cell_type": "code",
   "execution_count": 74,
   "id": "9cd4822e",
   "metadata": {},
   "outputs": [
    {
     "name": "stdout",
     "output_type": "stream",
     "text": [
      "Saving figures in high resolution (300 DPI) to: C:\\Users\\AntFonseca\\github\\compare-time-series\\output\n",
      "\n",
      "Figure 1 (Presence Agreement) saved as: C:\\Users\\AntFonseca\\github\\compare-time-series\\output\\presence_agreement_chart.png\n",
      "Figure 2 (Gross Change) saved as: C:\\Users\\AntFonseca\\github\\compare-time-series\\output\\gross_change_chart.png\n",
      "Figure 3 (Net Change) saved as: C:\\Users\\AntFonseca\\github\\compare-time-series\\output\\net_change_chart.png\n"
     ]
    }
   ],
   "source": [
    "# Section 7.2: Save All Figures in High Resolution as PNG Files\n",
    "\n",
    "# Define a high resolution value in DPI (Dots Per Inch). 300 is standard for printing.\n",
    "high_resolution_dpi = 300\n",
    "os.makedirs(output_dir, exist_ok=True)\n",
    "print(f\"Saving figures in high resolution ({high_resolution_dpi} DPI) to: {output_dir}\\n\")\n",
    "\n",
    "\n",
    "# --- 2. Save the Presence Agreement graph (from Section 6.1) ---\n",
    "fig1_path = os.path.join(output_dir, 'presence_agreement_chart.png')\n",
    "# The `dpi` parameter is added to save the figure in high resolution.\n",
    "fig_presence.savefig(fig1_path, bbox_inches='tight', dpi=high_resolution_dpi)\n",
    "print(f\"Figure 1 (Presence Agreement) saved as: {fig1_path}\")\n",
    "\n",
    "\n",
    "# --- 3. Save the Gross Change Components graph (from Section 6.2) ---\n",
    "fig2_path = os.path.join(output_dir, 'gross_change_chart.png')\n",
    "fig_gross.savefig(fig2_path, bbox_inches='tight', dpi=high_resolution_dpi)\n",
    "print(f\"Figure 2 (Gross Change) saved as: {fig2_path}\")\n",
    "\n",
    "\n",
    "# --- 4. Save the Net Change Components graph (from Section 6.3) ---\n",
    "fig3_path = os.path.join(output_dir, 'net_change_chart.png')\n",
    "fig_net.savefig(fig3_path, bbox_inches='tight', dpi=high_resolution_dpi)\n",
    "print(f\"Figure 3 (Net Change) saved as: {fig3_path}\")"
   ]
  }
 ],
 "metadata": {
  "kernelspec": {
   "display_name": "base",
   "language": "python",
   "name": "python3"
  },
  "language_info": {
   "codemirror_mode": {
    "name": "ipython",
    "version": 3
   },
   "file_extension": ".py",
   "mimetype": "text/x-python",
   "name": "python",
   "nbconvert_exporter": "python",
   "pygments_lexer": "ipython3",
   "version": "3.11.4"
  }
 },
 "nbformat": 4,
 "nbformat_minor": 5
}
